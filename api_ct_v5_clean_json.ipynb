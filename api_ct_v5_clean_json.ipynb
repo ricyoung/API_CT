{
  "cells": [
    {
      "cell_type": "markdown",
      "metadata": {
        "id": "Tid-wrNW11pW"
      },
      "source": [
        "# Load Depenency"
      ]
    },
    {
      "cell_type": "code",
      "execution_count": 23,
      "metadata": {
        "id": "ACtufjx41sXQ"
      },
      "outputs": [],
      "source": [
        "#Cleaned up Crypto Example\n",
        "from os import system\n",
        "import pandas as pd\n",
        "import requests\n",
        "import datetime as dt\n",
        "# from pytrials.client import ClinicalTrials\n",
        "import json\n",
        "import ipywidgets as widgets\n",
        "import numpy as np\n",
        "np.random.seed(10031975)\n",
        "import matplotlib.pyplot as plt\n",
        "import numpy as np\n",
        "from matplotlib import rcParams, cycler\n",
        "import matplotlib.pyplot as plt\n",
        "from matplotlib.ticker import AutoMinorLocator"
      ]
    },
    {
      "cell_type": "code",
      "execution_count": 24,
      "metadata": {},
      "outputs": [],
      "source": [
        "#does some error handling\n",
        "\n",
        "\n",
        "import sys\n",
        "import csv\n",
        "maxInt = sys.maxsize\n",
        "\n",
        "while True:\n",
        "    # decrease the maxInt value by factor 10 \n",
        "    # as long as the OverflowError occurs.\n",
        "\n",
        "    try:\n",
        "        csv.field_size_limit(maxInt)\n",
        "        break\n",
        "    except OverflowError:\n",
        "        maxInt = int(maxInt/10)"
      ]
    },
    {
      "cell_type": "code",
      "execution_count": 25,
      "metadata": {},
      "outputs": [],
      "source": [
        "from pytrials.utils import json_handler, csv_handler\n",
        "\n",
        "\n",
        "class ClinicalTrials:\n",
        "    \"\"\"ClinicalTrials API client\n",
        "\n",
        "    Provides functions to easily access the ClinicalTrials.gov API\n",
        "    (https://clinicaltrials.gov/api/)\n",
        "    in Python.\n",
        "\n",
        "    Attributes:\n",
        "        study_fields: List of all study fields you can use in your query.\n",
        "        api_info: Tuple containing the API version number and the last\n",
        "        time the database was updated.\n",
        "    \"\"\"\n",
        "\n",
        "    _BASE_URL = \"https://clinicaltrials.gov/api/\"\n",
        "    _INFO = \"info/\"\n",
        "    _QUERY = \"query/\"\n",
        "    _JSON = \"fmt=json\"\n",
        "    _CSV = \"fmt=csv\"\n",
        "\n",
        "    def __init__(self):\n",
        "        self.api_info = self.__api_info()\n",
        "\n",
        "    @property\n",
        "    def study_fields(self):\n",
        "        fields_list = json_handler(\n",
        "            f\"{self._BASE_URL}{self._INFO}study_fields_list?{self._JSON}\"\n",
        "        )\n",
        "        return fields_list[\"StudyFields\"][\"Fields\"]\n",
        "\n",
        "    def __api_info(self):\n",
        "        \"\"\"Returns information about the API\"\"\"\n",
        "        last_updated = json_handler(\n",
        "            f\"{self._BASE_URL}{self._INFO}data_vrs?{self._JSON}\"\n",
        "        )[\"DataVrs\"]\n",
        "        api_version = json_handler(f\"{self._BASE_URL}{self._INFO}api_vrs?{self._JSON}\")[\n",
        "            \"APIVrs\"\n",
        "        ]\n",
        "\n",
        "        return api_version, last_updated\n",
        "\n",
        "    def get_full_studies(self, search_expr, min_rnk=1, max_studies=100):\n",
        "        \"\"\"Returns all content for a maximum of 100 study records.\n",
        "\n",
        "        Retrieves information from the full studies endpoint, which gets all study fields.\n",
        "        This endpoint can only output JSON (Or not-supported XML) format and does not allow\n",
        "        requests for more than 100 studies at once.\n",
        "\n",
        "        Args:\n",
        "            search_expr (str): A string containing a search expression as specified by\n",
        "                `their documentation <https://clinicaltrials.gov/api/gui/ref/syntax#searchExpr>`_.\n",
        "            max_studies (int): An integer indicating the maximum number of studies to return.\n",
        "                Defaults to 50.\n",
        "\n",
        "        Returns:\n",
        "            dict: Object containing the information queried with the search expression.\n",
        "\n",
        "        Raises:\n",
        "            ValueError: The number of studies can only be between 1 and 100\n",
        "        \"\"\"\n",
        "        if max_studies > 100 or max_studies < 1:\n",
        "            raise ValueError(\"The number of studies can only be between 1 and 100\")\n",
        "\n",
        "        req = f\"full_studies?expr={search_expr}&min_rnk={min_rnk}&max_rnk={max_studies+min_rnk-1}&{self._JSON}\"\n",
        "\n",
        "        full_studies = json_handler(f\"{self._BASE_URL}{self._QUERY}{req}\")\n",
        "\n",
        "        return full_studies\n",
        "\n",
        "    def get_study_fields(self, search_expr, fields, max_studies=50, min_rnk=1,fmt=\"csv\"):\n",
        "        \"\"\"Returns study content for specified fields\n",
        "\n",
        "        Retrieves information from the study fields endpoint, which acquires specified information\n",
        "        from a large (max 1000) studies. To see a list of all possible fields, check the class'\n",
        "        study_fields attribute.\n",
        "\n",
        "        Args:\n",
        "            search_expr (str): A string containing a search expression as specified by\n",
        "                `their documentation <https://clinicaltrials.gov/api/gui/ref/syntax#searchExpr>`_.\n",
        "            fields (list(str)): A list containing the desired information fields.\n",
        "            max_studies (int): An integer indicating the maximum number of studies to return.\n",
        "                Defaults to 50.\n",
        "            fmt (str): A string indicating the output format, csv or json. Defaults to csv.\n",
        "\n",
        "        Returns:\n",
        "            Either a dict, if fmt='json', or a list of records (e.g. a list of lists), if fmt='csv.\n",
        "            Both containing the maximum number of study fields queried using the specified search expression.\n",
        "\n",
        "        Raises:\n",
        "            ValueError: The number of studies can only be between 1 and 1000\n",
        "            ValueError: One of the fields is not valid! Check the study_fields attribute\n",
        "                for a list of valid ones.\n",
        "            ValueError: Format argument has to be either 'csv' or 'json'\n",
        "        \"\"\"\n",
        "        if max_studies > 1000 or max_studies < 1:\n",
        "            raise ValueError(\"The number of studies can only be between 1 and 1000\")\n",
        "        elif not set(fields).issubset(self.study_fields):\n",
        "            raise ValueError(\n",
        "                \"One of the fields is not valid! Check the study_fields attribute for a list of valid ones.\"\n",
        "            )\n",
        "        else:\n",
        "            concat_fields = \",\".join(fields)\n",
        "            # req = f\"study_fields?expr={search_expr}&max_rnk={max_studies}&fields={concat_fields}\"\n",
        "            req = f\"study_fields?expr={search_expr}&min_rnk={min_rnk}&max_rnk={max_studies+min_rnk-1}&fields={concat_fields}\"\n",
        "            if fmt == \"csv\":\n",
        "                url = f\"{self._BASE_URL}{self._QUERY}{req}&{self._CSV}\"\n",
        "                return csv_handler(url)\n",
        "\n",
        "            elif fmt == \"json\":\n",
        "                url = f\"{self._BASE_URL}{self._QUERY}{req}&{self._JSON}\"\n",
        "                return json_handler(url)\n",
        "\n",
        "            else:\n",
        "                raise ValueError(\"Format argument has to be either 'csv' or 'json'\")\n",
        "\n",
        "    def get_study_count(self, search_expr):\n",
        "        \"\"\"Returns study count for specified search expression\n",
        "\n",
        "        Retrieves the count of studies matching the text entered in search_expr.\n",
        "\n",
        "        Args:\n",
        "            search_expr (str): A string containing a search expression as specified by\n",
        "                `their documentation <https://clinicaltrials.gov/api/gui/ref/syntax#searchExpr>`_.\n",
        "\n",
        "        Returns:\n",
        "            An integer\n",
        "\n",
        "        Raises:\n",
        "            ValueError: The search expression cannot be blank.\n",
        "        \"\"\"\n",
        "        if not set(search_expr):\n",
        "            raise ValueError(\"The search expression cannot be blank.\")\n",
        "        else:\n",
        "            req = f\"study_fields?expr={search_expr}&max_rnk=1&fields=NCTId\"\n",
        "            url = f\"{self._BASE_URL}{self._QUERY}{req}&{self._JSON}\"\n",
        "            returned_data = json_handler(url)\n",
        "            study_count = returned_data[\"StudyFieldsResponse\"][\"NStudiesFound\"]\n",
        "            return study_count\n",
        "\n",
        "    def __repr__(self):\n",
        "        return f\"ClinicalTrials.gov client v{self.api_info[0]}, database last updated {self.api_info[1]}\""
      ]
    },
    {
      "cell_type": "markdown",
      "metadata": {
        "id": "0oKv5xQg2hgJ"
      },
      "source": [
        "# Load Data"
      ]
    },
    {
      "cell_type": "markdown",
      "metadata": {},
      "source": [
        "https://clinicaltrials.gov/api/gui/ref/crosswalks"
      ]
    },
    {
      "cell_type": "markdown",
      "metadata": {},
      "source": [
        "Disease 2 search for"
      ]
    },
    {
      "cell_type": "markdown",
      "metadata": {},
      "source": [
        "This is for dymanic input of diease searching"
      ]
    },
    {
      "cell_type": "code",
      "execution_count": 26,
      "metadata": {},
      "outputs": [],
      "source": [
        "# disease=input()\n",
        "# print(disease)"
      ]
    },
    {
      "cell_type": "code",
      "execution_count": 27,
      "metadata": {},
      "outputs": [],
      "source": [
        "# disease = 'parkinson'\n",
        "\n",
        "#disease = 'depression'\n",
        "\n",
        "# disease = 'diabetes'\n",
        "\n",
        "# disease = 'tacs'\n",
        "\n",
        "disease = 'Celiac'\n"
      ]
    },
    {
      "cell_type": "markdown",
      "metadata": {},
      "source": [
        "hit mesh some day"
      ]
    },
    {
      "cell_type": "markdown",
      "metadata": {},
      "source": [
        "Pull ONE"
      ]
    },
    {
      "cell_type": "markdown",
      "metadata": {
        "id": "h_DJC1iG4RSB"
      },
      "source": [
        "#Explore Data"
      ]
    },
    {
      "cell_type": "code",
      "execution_count": 28,
      "metadata": {},
      "outputs": [],
      "source": [
        "#change this out to NAME\n",
        "\n",
        "ct = ClinicalTrials()\n",
        "infodf= (ct.get_full_studies(search_expr=disease, max_studies=2 ))\n"
      ]
    },
    {
      "cell_type": "code",
      "execution_count": 29,
      "metadata": {},
      "outputs": [],
      "source": [
        "# type(infodf)"
      ]
    },
    {
      "cell_type": "code",
      "execution_count": 30,
      "metadata": {},
      "outputs": [
        {
          "name": "stdout",
          "output_type": "stream",
          "text": [
            "481\n"
          ]
        }
      ],
      "source": [
        "number = print(infodf['FullStudiesResponse']['NStudiesFound'])"
      ]
    },
    {
      "cell_type": "code",
      "execution_count": 31,
      "metadata": {},
      "outputs": [],
      "source": [
        "count = ct.get_study_count(search_expr=disease)\n"
      ]
    },
    {
      "cell_type": "code",
      "execution_count": 32,
      "metadata": {},
      "outputs": [
        {
          "name": "stdout",
          "output_type": "stream",
          "text": [
            "1-99 of 481\n",
            "100-198 of 481\n",
            "199-297 of 481\n",
            "298-396 of 481\n",
            "397-495 of 481\n"
          ]
        }
      ],
      "source": [
        "# count = 3000\n",
        "start = 0\n",
        "end = count\n",
        "iter = 99 #number of studies to get at a time ( limited to 1000 )\n",
        "\n",
        "from random import seed\n",
        "from random import random\n",
        "\n",
        "\n",
        "\n",
        "temp = pd.DataFrame()\n",
        "temp2 = pd.DataFrame()\n",
        "new_df = pd.DataFrame()\n",
        "\n",
        "array = {}\n",
        "array ['key'] = 'value'\n",
        "json_data = json.dumps(array)\n",
        "\n",
        "for i in range(1, count, iter):\n",
        "    # print(temp)\n",
        "    temp =ct.get_full_studies(\n",
        "        search_expr=disease,\n",
        "        max_studies=iter,\n",
        "        min_rnk=i,\n",
        "        \n",
        "        # fmt=\"csv\",\n",
        "        )\n",
        "    iter2 = iter + (i-1)\n",
        "    print(str(i) + \"-\" + str(iter2) + \" of \" + str(count))\n",
        "    # print(temp2[0])\n",
        "    temp2 =  pd.json_normalize(temp)\n",
        "    # json_object = temp['FullStudiesResponse']\n",
        "    # array = temp['FullStudiesResponse']\n",
        "    # temp2 = pd.json_normalize(temp())\n",
        "    new_df = pd.concat([new_df, temp2])\n",
        " \n",
        "# https://clinicaltrials.gov/api/gui/demo/simple_full_study"
      ]
    },
    {
      "cell_type": "code",
      "execution_count": 33,
      "metadata": {},
      "outputs": [
        {
          "name": "stdout",
          "output_type": "stream",
          "text": [
            "<class 'pandas.core.frame.DataFrame'>\n"
          ]
        }
      ],
      "source": [
        "print(type(new_df))"
      ]
    },
    {
      "cell_type": "code",
      "execution_count": 34,
      "metadata": {},
      "outputs": [],
      "source": [
        "new_df.to_excel(r'data_json_raw.xlsx', index = False)"
      ]
    },
    {
      "cell_type": "code",
      "execution_count": 35,
      "metadata": {},
      "outputs": [
        {
          "data": {
            "text/html": [
              "<div>\n",
              "<style scoped>\n",
              "    .dataframe tbody tr th:only-of-type {\n",
              "        vertical-align: middle;\n",
              "    }\n",
              "\n",
              "    .dataframe tbody tr th {\n",
              "        vertical-align: top;\n",
              "    }\n",
              "\n",
              "    .dataframe thead th {\n",
              "        text-align: right;\n",
              "    }\n",
              "</style>\n",
              "<table border=\"1\" class=\"dataframe\">\n",
              "  <thead>\n",
              "    <tr style=\"text-align: right;\">\n",
              "      <th></th>\n",
              "      <th>FullStudiesResponse.APIVrs</th>\n",
              "      <th>FullStudiesResponse.DataVrs</th>\n",
              "      <th>FullStudiesResponse.Expression</th>\n",
              "      <th>FullStudiesResponse.NStudiesAvail</th>\n",
              "      <th>FullStudiesResponse.NStudiesFound</th>\n",
              "      <th>FullStudiesResponse.MinRank</th>\n",
              "      <th>FullStudiesResponse.MaxRank</th>\n",
              "      <th>FullStudiesResponse.NStudiesReturned</th>\n",
              "      <th>FullStudiesResponse.FullStudies</th>\n",
              "    </tr>\n",
              "  </thead>\n",
              "  <tbody>\n",
              "    <tr>\n",
              "      <th>0</th>\n",
              "      <td>1.01.05</td>\n",
              "      <td>2022:05:03 23:03:10.113</td>\n",
              "      <td>Celiac</td>\n",
              "      <td>413909</td>\n",
              "      <td>481</td>\n",
              "      <td>1</td>\n",
              "      <td>99</td>\n",
              "      <td>99</td>\n",
              "      <td>[{'Rank': 1, 'Study': {'ProtocolSection': {'Id...</td>\n",
              "    </tr>\n",
              "    <tr>\n",
              "      <th>0</th>\n",
              "      <td>1.01.05</td>\n",
              "      <td>2022:05:03 23:03:10.113</td>\n",
              "      <td>Celiac</td>\n",
              "      <td>413909</td>\n",
              "      <td>481</td>\n",
              "      <td>100</td>\n",
              "      <td>198</td>\n",
              "      <td>99</td>\n",
              "      <td>[{'Rank': 100, 'Study': {'ProtocolSection': {'...</td>\n",
              "    </tr>\n",
              "    <tr>\n",
              "      <th>0</th>\n",
              "      <td>1.01.05</td>\n",
              "      <td>2022:05:03 23:03:10.113</td>\n",
              "      <td>Celiac</td>\n",
              "      <td>413909</td>\n",
              "      <td>481</td>\n",
              "      <td>199</td>\n",
              "      <td>297</td>\n",
              "      <td>99</td>\n",
              "      <td>[{'Rank': 199, 'Study': {'ProtocolSection': {'...</td>\n",
              "    </tr>\n",
              "    <tr>\n",
              "      <th>0</th>\n",
              "      <td>1.01.05</td>\n",
              "      <td>2022:05:03 23:03:10.113</td>\n",
              "      <td>Celiac</td>\n",
              "      <td>413909</td>\n",
              "      <td>481</td>\n",
              "      <td>298</td>\n",
              "      <td>396</td>\n",
              "      <td>99</td>\n",
              "      <td>[{'Rank': 298, 'Study': {'ProtocolSection': {'...</td>\n",
              "    </tr>\n",
              "    <tr>\n",
              "      <th>0</th>\n",
              "      <td>1.01.05</td>\n",
              "      <td>2022:05:03 23:03:10.113</td>\n",
              "      <td>Celiac</td>\n",
              "      <td>413909</td>\n",
              "      <td>481</td>\n",
              "      <td>397</td>\n",
              "      <td>495</td>\n",
              "      <td>85</td>\n",
              "      <td>[{'Rank': 397, 'Study': {'ProtocolSection': {'...</td>\n",
              "    </tr>\n",
              "  </tbody>\n",
              "</table>\n",
              "</div>"
            ],
            "text/plain": [
              "  FullStudiesResponse.APIVrs FullStudiesResponse.DataVrs  \\\n",
              "0                    1.01.05     2022:05:03 23:03:10.113   \n",
              "0                    1.01.05     2022:05:03 23:03:10.113   \n",
              "0                    1.01.05     2022:05:03 23:03:10.113   \n",
              "0                    1.01.05     2022:05:03 23:03:10.113   \n",
              "0                    1.01.05     2022:05:03 23:03:10.113   \n",
              "\n",
              "  FullStudiesResponse.Expression  FullStudiesResponse.NStudiesAvail  \\\n",
              "0                         Celiac                             413909   \n",
              "0                         Celiac                             413909   \n",
              "0                         Celiac                             413909   \n",
              "0                         Celiac                             413909   \n",
              "0                         Celiac                             413909   \n",
              "\n",
              "   FullStudiesResponse.NStudiesFound  FullStudiesResponse.MinRank  \\\n",
              "0                                481                            1   \n",
              "0                                481                          100   \n",
              "0                                481                          199   \n",
              "0                                481                          298   \n",
              "0                                481                          397   \n",
              "\n",
              "   FullStudiesResponse.MaxRank  FullStudiesResponse.NStudiesReturned  \\\n",
              "0                           99                                    99   \n",
              "0                          198                                    99   \n",
              "0                          297                                    99   \n",
              "0                          396                                    99   \n",
              "0                          495                                    85   \n",
              "\n",
              "                     FullStudiesResponse.FullStudies  \n",
              "0  [{'Rank': 1, 'Study': {'ProtocolSection': {'Id...  \n",
              "0  [{'Rank': 100, 'Study': {'ProtocolSection': {'...  \n",
              "0  [{'Rank': 199, 'Study': {'ProtocolSection': {'...  \n",
              "0  [{'Rank': 298, 'Study': {'ProtocolSection': {'...  \n",
              "0  [{'Rank': 397, 'Study': {'ProtocolSection': {'...  "
            ]
          },
          "execution_count": 35,
          "metadata": {},
          "output_type": "execute_result"
        }
      ],
      "source": [
        "new_df"
      ]
    },
    {
      "cell_type": "code",
      "execution_count": 36,
      "metadata": {},
      "outputs": [],
      "source": [
        "df3 = (new_df['FullStudiesResponse.FullStudies'])\n",
        "\n"
      ]
    },
    {
      "cell_type": "code",
      "execution_count": 37,
      "metadata": {},
      "outputs": [],
      "source": [
        "# # data = json.loads(new_df.decode())\n",
        "# # df3 = new_df(json_normalize(data, 'FullStudiesResponse.FullStudies'))\n",
        "# df3 = new_df.FullStudiesResponse(json_normalize)\n",
        "# print(df)"
      ]
    },
    {
      "cell_type": "code",
      "execution_count": 38,
      "metadata": {},
      "outputs": [
        {
          "data": {
            "text/plain": [
              "0    [{'Rank': 1, 'Study': {'ProtocolSection': {'Id...\n",
              "0    [{'Rank': 100, 'Study': {'ProtocolSection': {'...\n",
              "0    [{'Rank': 199, 'Study': {'ProtocolSection': {'...\n",
              "0    [{'Rank': 298, 'Study': {'ProtocolSection': {'...\n",
              "0    [{'Rank': 397, 'Study': {'ProtocolSection': {'...\n",
              "Name: FullStudiesResponse.FullStudies, dtype: object"
            ]
          },
          "execution_count": 38,
          "metadata": {},
          "output_type": "execute_result"
        }
      ],
      "source": [
        "df3"
      ]
    },
    {
      "cell_type": "code",
      "execution_count": 39,
      "metadata": {},
      "outputs": [],
      "source": [
        "# with open('data2.json', 'w', encoding='utf-8') as f:\n",
        "#     json.dump(df3, f, ensure_ascii=False, indent=4)"
      ]
    },
    {
      "cell_type": "markdown",
      "metadata": {},
      "source": [
        "'NStudiesFound': 3656,"
      ]
    },
    {
      "cell_type": "markdown",
      "metadata": {},
      "source": [
        "Save file"
      ]
    },
    {
      "cell_type": "code",
      "execution_count": 40,
      "metadata": {
        "id": "Dgre9uB-INsI"
      },
      "outputs": [],
      "source": [
        "# result.to_csv(r'data_raw.csv', index = False)\n",
        "new_df.to_excel(r'full_json_data_raw.xlsx', index = False)"
      ]
    },
    {
      "cell_type": "code",
      "execution_count": 41,
      "metadata": {},
      "outputs": [
        {
          "name": "stderr",
          "output_type": "stream",
          "text": [
            "/var/folders/7x/knvg10qn19740t2kqn0qwy_40000gn/T/ipykernel_26206/2326975081.py:1: PerformanceWarning: \n",
            "your performance may suffer as PyTables will pickle object types that it cannot\n",
            "map directly to c-types [inferred_type->mixed,key->block1_values] [items->Index(['FullStudiesResponse.APIVrs', 'FullStudiesResponse.DataVrs',\n",
            "       'FullStudiesResponse.Expression', 'FullStudiesResponse.FullStudies'],\n",
            "      dtype='object')]\n",
            "\n",
            "  new_df.to_hdf('full_json_data_raw.h5', key='df', mode='w')\n"
          ]
        }
      ],
      "source": [
        "new_df.to_hdf('full_json_data_raw.h5', key='df', mode='w')  "
      ]
    },
    {
      "cell_type": "code",
      "execution_count": 42,
      "metadata": {},
      "outputs": [],
      "source": [
        "# labels, levels = pd.factorize(result[\"Phase\"])  "
      ]
    },
    {
      "cell_type": "code",
      "execution_count": 43,
      "metadata": {},
      "outputs": [],
      "source": [
        "# labels"
      ]
    },
    {
      "cell_type": "code",
      "execution_count": 44,
      "metadata": {
        "colab": {
          "base_uri": "https://localhost:8080/"
        },
        "id": "LAqtYjoTICny",
        "outputId": "2f809d6a-4257-4ef1-b5f8-e601695a8d57"
      },
      "outputs": [],
      "source": [
        "# fun_barplot()"
      ]
    },
    {
      "cell_type": "code",
      "execution_count": null,
      "metadata": {
        "colab": {
          "base_uri": "https://localhost:8080/"
        },
        "id": "CJgWIlIm47Cc",
        "outputId": "2ca52a69-39fc-4489-9cef-d3cff0685215"
      },
      "outputs": [],
      "source": []
    }
  ],
  "metadata": {
    "colab": {
      "collapsed_sections": [],
      "name": "HW2.ipynb",
      "provenance": []
    },
    "kernelspec": {
      "display_name": "Python 3",
      "name": "python3"
    },
    "language_info": {
      "codemirror_mode": {
        "name": "ipython",
        "version": 3
      },
      "file_extension": ".py",
      "mimetype": "text/x-python",
      "name": "python",
      "nbconvert_exporter": "python",
      "pygments_lexer": "ipython3",
      "version": "3.10.4"
    }
  },
  "nbformat": 4,
  "nbformat_minor": 0
}
