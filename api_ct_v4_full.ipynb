{
  "cells": [
    {
      "cell_type": "markdown",
      "metadata": {
        "id": "Tid-wrNW11pW"
      },
      "source": [
        "# Load Depenency"
      ]
    },
    {
      "cell_type": "code",
      "execution_count": 1,
      "metadata": {
        "id": "ACtufjx41sXQ"
      },
      "outputs": [],
      "source": [
        "#Cleaned up Crypto Example\n",
        "from os import system\n",
        "import pandas as pd\n",
        "import requests\n",
        "import datetime as dt\n",
        "# from pytrials.client import ClinicalTrials\n",
        "import json\n",
        "import ipywidgets as widgets\n",
        "import numpy as np\n",
        "np.random.seed(10031975)\n",
        "import matplotlib.pyplot as plt\n",
        "import numpy as np\n",
        "from matplotlib import rcParams, cycler\n",
        "import matplotlib.pyplot as plt\n",
        "from matplotlib.ticker import AutoMinorLocator"
      ]
    },
    {
      "cell_type": "code",
      "execution_count": 2,
      "metadata": {},
      "outputs": [],
      "source": [
        "#does some error handling\n",
        "\n",
        "\n",
        "import sys\n",
        "import csv\n",
        "maxInt = sys.maxsize\n",
        "\n",
        "while True:\n",
        "    # decrease the maxInt value by factor 10 \n",
        "    # as long as the OverflowError occurs.\n",
        "\n",
        "    try:\n",
        "        csv.field_size_limit(maxInt)\n",
        "        break\n",
        "    except OverflowError:\n",
        "        maxInt = int(maxInt/10)"
      ]
    },
    {
      "cell_type": "code",
      "execution_count": 3,
      "metadata": {},
      "outputs": [],
      "source": [
        "from pytrials.utils import json_handler, csv_handler\n",
        "\n",
        "\n",
        "class ClinicalTrials:\n",
        "    \"\"\"ClinicalTrials API client\n",
        "\n",
        "    Provides functions to easily access the ClinicalTrials.gov API\n",
        "    (https://clinicaltrials.gov/api/)\n",
        "    in Python.\n",
        "\n",
        "    Attributes:\n",
        "        study_fields: List of all study fields you can use in your query.\n",
        "        api_info: Tuple containing the API version number and the last\n",
        "        time the database was updated.\n",
        "    \"\"\"\n",
        "\n",
        "    _BASE_URL = \"https://clinicaltrials.gov/api/\"\n",
        "    _INFO = \"info/\"\n",
        "    _QUERY = \"query/\"\n",
        "    _JSON = \"fmt=json\"\n",
        "    _CSV = \"fmt=csv\"\n",
        "\n",
        "    def __init__(self):\n",
        "        self.api_info = self.__api_info()\n",
        "\n",
        "    @property\n",
        "    def study_fields(self):\n",
        "        fields_list = json_handler(\n",
        "            f\"{self._BASE_URL}{self._INFO}study_fields_list?{self._JSON}\"\n",
        "        )\n",
        "        return fields_list[\"StudyFields\"][\"Fields\"]\n",
        "\n",
        "    def __api_info(self):\n",
        "        \"\"\"Returns information about the API\"\"\"\n",
        "        last_updated = json_handler(\n",
        "            f\"{self._BASE_URL}{self._INFO}data_vrs?{self._JSON}\"\n",
        "        )[\"DataVrs\"]\n",
        "        api_version = json_handler(f\"{self._BASE_URL}{self._INFO}api_vrs?{self._JSON}\")[\n",
        "            \"APIVrs\"\n",
        "        ]\n",
        "\n",
        "        return api_version, last_updated\n",
        "\n",
        "    def get_full_studies(self, search_expr, max_studies=50):\n",
        "        \"\"\"Returns all content for a maximum of 100 study records.\n",
        "\n",
        "        Retrieves information from the full studies endpoint, which gets all study fields.\n",
        "        This endpoint can only output JSON (Or not-supported XML) format and does not allow\n",
        "        requests for more than 100 studies at once.\n",
        "\n",
        "        Args:\n",
        "            search_expr (str): A string containing a search expression as specified by\n",
        "                `their documentation <https://clinicaltrials.gov/api/gui/ref/syntax#searchExpr>`_.\n",
        "            max_studies (int): An integer indicating the maximum number of studies to return.\n",
        "                Defaults to 50.\n",
        "\n",
        "        Returns:\n",
        "            dict: Object containing the information queried with the search expression.\n",
        "\n",
        "        Raises:\n",
        "            ValueError: The number of studies can only be between 1 and 100\n",
        "        \"\"\"\n",
        "        if max_studies > 100 or max_studies < 1:\n",
        "            raise ValueError(\"The number of studies can only be between 1 and 100\")\n",
        "\n",
        "        req = f\"full_studies?expr={search_expr}&max_rnk={max_studies}&{self._JSON}\"\n",
        "\n",
        "        full_studies = json_handler(f\"{self._BASE_URL}{self._QUERY}{req}\")\n",
        "\n",
        "        return full_studies\n",
        "\n",
        "    def get_study_fields(self, search_expr, fields, max_studies=50, min_rnk=1,fmt=\"csv\"):\n",
        "        \"\"\"Returns study content for specified fields\n",
        "\n",
        "        Retrieves information from the study fields endpoint, which acquires specified information\n",
        "        from a large (max 1000) studies. To see a list of all possible fields, check the class'\n",
        "        study_fields attribute.\n",
        "\n",
        "        Args:\n",
        "            search_expr (str): A string containing a search expression as specified by\n",
        "                `their documentation <https://clinicaltrials.gov/api/gui/ref/syntax#searchExpr>`_.\n",
        "            fields (list(str)): A list containing the desired information fields.\n",
        "            max_studies (int): An integer indicating the maximum number of studies to return.\n",
        "                Defaults to 50.\n",
        "            fmt (str): A string indicating the output format, csv or json. Defaults to csv.\n",
        "\n",
        "        Returns:\n",
        "            Either a dict, if fmt='json', or a list of records (e.g. a list of lists), if fmt='csv.\n",
        "            Both containing the maximum number of study fields queried using the specified search expression.\n",
        "\n",
        "        Raises:\n",
        "            ValueError: The number of studies can only be between 1 and 1000\n",
        "            ValueError: One of the fields is not valid! Check the study_fields attribute\n",
        "                for a list of valid ones.\n",
        "            ValueError: Format argument has to be either 'csv' or 'json'\n",
        "        \"\"\"\n",
        "        if max_studies > 1000 or max_studies < 1:\n",
        "            raise ValueError(\"The number of studies can only be between 1 and 1000\")\n",
        "        elif not set(fields).issubset(self.study_fields):\n",
        "            raise ValueError(\n",
        "                \"One of the fields is not valid! Check the study_fields attribute for a list of valid ones.\"\n",
        "            )\n",
        "        else:\n",
        "            concat_fields = \",\".join(fields)\n",
        "            # req = f\"study_fields?expr={search_expr}&max_rnk={max_studies}&fields={concat_fields}\"\n",
        "            req = f\"study_fields?expr={search_expr}&min_rnk={min_rnk}&max_rnk={max_studies+min_rnk-1}&fields={concat_fields}\"\n",
        "            if fmt == \"csv\":\n",
        "                url = f\"{self._BASE_URL}{self._QUERY}{req}&{self._CSV}\"\n",
        "                return csv_handler(url)\n",
        "\n",
        "            elif fmt == \"json\":\n",
        "                url = f\"{self._BASE_URL}{self._QUERY}{req}&{self._JSON}\"\n",
        "                return json_handler(url)\n",
        "\n",
        "            else:\n",
        "                raise ValueError(\"Format argument has to be either 'csv' or 'json'\")\n",
        "\n",
        "    def get_study_count(self, search_expr):\n",
        "        \"\"\"Returns study count for specified search expression\n",
        "\n",
        "        Retrieves the count of studies matching the text entered in search_expr.\n",
        "\n",
        "        Args:\n",
        "            search_expr (str): A string containing a search expression as specified by\n",
        "                `their documentation <https://clinicaltrials.gov/api/gui/ref/syntax#searchExpr>`_.\n",
        "\n",
        "        Returns:\n",
        "            An integer\n",
        "\n",
        "        Raises:\n",
        "            ValueError: The search expression cannot be blank.\n",
        "        \"\"\"\n",
        "        if not set(search_expr):\n",
        "            raise ValueError(\"The search expression cannot be blank.\")\n",
        "        else:\n",
        "            req = f\"study_fields?expr={search_expr}&max_rnk=1&fields=NCTId\"\n",
        "            url = f\"{self._BASE_URL}{self._QUERY}{req}&{self._JSON}\"\n",
        "            returned_data = json_handler(url)\n",
        "            study_count = returned_data[\"StudyFieldsResponse\"][\"NStudiesFound\"]\n",
        "            return study_count\n",
        "\n",
        "    def __repr__(self):\n",
        "        return f\"ClinicalTrials.gov client v{self.api_info[0]}, database last updated {self.api_info[1]}\""
      ]
    },
    {
      "cell_type": "markdown",
      "metadata": {
        "id": "0oKv5xQg2hgJ"
      },
      "source": [
        "# Load Data"
      ]
    },
    {
      "cell_type": "markdown",
      "metadata": {},
      "source": [
        "https://clinicaltrials.gov/api/gui/ref/crosswalks"
      ]
    },
    {
      "cell_type": "markdown",
      "metadata": {},
      "source": [
        "Disease 2 search for"
      ]
    },
    {
      "cell_type": "markdown",
      "metadata": {},
      "source": [
        "This is for dymanic input of diease searching"
      ]
    },
    {
      "cell_type": "code",
      "execution_count": null,
      "metadata": {},
      "outputs": [],
      "source": []
    },
    {
      "cell_type": "code",
      "execution_count": 4,
      "metadata": {},
      "outputs": [],
      "source": [
        "# disease=input()\n",
        "# print(disease)"
      ]
    },
    {
      "cell_type": "code",
      "execution_count": 5,
      "metadata": {},
      "outputs": [],
      "source": [
        "# disease = 'parkinson'\n",
        "\n",
        "#disease = 'depression'\n",
        "\n",
        "# disease = 'diabetes'\n",
        "\n",
        "disease = 'tacs'\n",
        "\n"
      ]
    },
    {
      "cell_type": "markdown",
      "metadata": {},
      "source": [
        "hit mesh some day"
      ]
    },
    {
      "cell_type": "markdown",
      "metadata": {},
      "source": [
        "Pull ONE"
      ]
    },
    {
      "cell_type": "markdown",
      "metadata": {
        "id": "h_DJC1iG4RSB"
      },
      "source": [
        "#Explore Data"
      ]
    },
    {
      "cell_type": "code",
      "execution_count": 6,
      "metadata": {},
      "outputs": [],
      "source": [
        "#change this out to NAME\n",
        "\n",
        "ct = ClinicalTrials()\n",
        "infodf= (ct.get_full_studies(search_expr=disease, max_studies=5 ))\n"
      ]
    },
    {
      "cell_type": "code",
      "execution_count": 7,
      "metadata": {},
      "outputs": [
        {
          "data": {
            "text/plain": [
              "dict"
            ]
          },
          "execution_count": 7,
          "metadata": {},
          "output_type": "execute_result"
        }
      ],
      "source": [
        "type(infodf)"
      ]
    },
    {
      "cell_type": "code",
      "execution_count": 8,
      "metadata": {},
      "outputs": [
        {
          "name": "stdout",
          "output_type": "stream",
          "text": [
            "1268\n"
          ]
        }
      ],
      "source": [
        "number = print(infodf['FullStudiesResponse']['NStudiesFound'])"
      ]
    },
    {
      "cell_type": "code",
      "execution_count": 9,
      "metadata": {},
      "outputs": [],
      "source": [
        "count = ct.get_study_count(search_expr=disease)\n"
      ]
    },
    {
      "cell_type": "code",
      "execution_count": 10,
      "metadata": {},
      "outputs": [],
      "source": [
        "# count = 3000\n",
        "start = 0\n",
        "end = count\n",
        "iter = 999 #number of studies to get at a time ( limited to 1000 )\n",
        "\n",
        "from random import seed\n",
        "from random import random\n",
        "\n",
        "\n",
        "\n",
        "temp = pd.DataFrame()\n",
        "temp2 = pd.DataFrame()\n",
        "new_df = pd.DataFrame()\n",
        "\n",
        "\n",
        "for i in range(1, count, iter):\n",
        "    # print(temp)\n",
        "    temp = ct.get_study_fields(\n",
        "        search_expr=disease,\n",
        "        fields=[\"NCTId\", \"Condition\", \"OfficialTitle\", \"BriefTitle\" , \"Acronym\" , \"StudyType\",\n",
        "    \"InterventionType\",\"InterventionName\",\"InterventionOtherName\",\"InterventionDescription\",\"Phase\" ,\"StudyFirstSubmitDate\",\"LastUpdateSubmitDate\",\"CompletionDate\",\"OverallStatus\",\"BaselineMeasureTitle\",\"BaselineMeasureDescription\",\"BaselineMeasurementValue\",\"BriefSummary\"],\n",
        "        max_studies=iter,\n",
        "        min_rnk=i,\n",
        "        fmt=\"csv\",)\n",
        "    # print(temp2[0])\n",
        "    temp2 =  pd.DataFrame.from_records(temp[1:])\n",
        "    new_df = pd.concat([new_df, temp2])\n",
        " \n"
      ]
    },
    {
      "cell_type": "code",
      "execution_count": 11,
      "metadata": {},
      "outputs": [],
      "source": [
        "# count = 3000\n",
        "start = 0\n",
        "end = count\n",
        "iter = 999 #number of studies to get at a time ( limited to 1000 )\n",
        "\n",
        "from random import seed\n",
        "from random import random\n",
        "\n",
        "\n",
        "\n",
        "temp = pd.DataFrame()\n",
        "temp2 = pd.DataFrame()\n",
        "new_df = pd.DataFrame()\n",
        "\n",
        "\n",
        "for i in range(1, count, iter):\n",
        "    # print(temp)\n",
        "    temp = ct.get_study_fields(\n",
        "        search_expr=disease,\n",
        "        fields=[\"NCTId\", \"Condition\", \"OfficialTitle\", \"BriefTitle\" , \"Acronym\" , \"StudyType\",\n",
        "    \"InterventionType\",\"InterventionName\",\"InterventionOtherName\",\"InterventionDescription\",\"Phase\" ,\"StudyFirstSubmitDate\",\"LastUpdateSubmitDate\",\"CompletionDate\",\"OverallStatus\",\"BaselineMeasureTitle\",\"BaselineMeasureDescription\",\"BaselineMeasurementValue\",\"BriefSummary\"],\n",
        "        max_studies=iter,\n",
        "        min_rnk=i,\n",
        "        fmt=\"csv\",)\n",
        "    # print(temp2[0])\n",
        "    temp2 =  pd.DataFrame.from_records(temp[1:])\n",
        "    new_df = pd.concat([new_df, temp2])"
      ]
    },
    {
      "cell_type": "code",
      "execution_count": 12,
      "metadata": {},
      "outputs": [],
      "source": [
        "new_df.columns = [\"Index\",\"NCTId\", \"Condition\", \"OfficialTitle\", \"BriefTitle\" , \"Acronym\" , \"StudyType\",\n",
        "    \"InterventionType\",\"InterventionName\",\"InterventionOtherName\",\"InterventionDescription\",\"Phase\" ,\"StudyFirstSubmitDate\",\"LastUpdateSubmitDate\",\"CompletionDate\",\"OverallStatus\",\"BaselineMeasureTitle\",\"BaselineMeasureDescription\",\"BaselineMeasurementValue\",\"BriefSummary\"]"
      ]
    },
    {
      "cell_type": "markdown",
      "metadata": {},
      "source": [
        "'NStudiesFound': 3656,"
      ]
    },
    {
      "cell_type": "code",
      "execution_count": 13,
      "metadata": {},
      "outputs": [
        {
          "data": {
            "text/plain": [
              "(1268, 20)"
            ]
          },
          "execution_count": 13,
          "metadata": {},
          "output_type": "execute_result"
        }
      ],
      "source": [
        "# new_df\n",
        "new_df.shape"
      ]
    },
    {
      "cell_type": "code",
      "execution_count": 14,
      "metadata": {},
      "outputs": [
        {
          "data": {
            "text/plain": [
              "<bound method NDFrame.head of     Index        NCTId                                          Condition  \\\n",
              "0       1  NCT00890968                                    Hand Dermatoses   \n",
              "1       2  NCT04727151                         HER2-Positive Solid Tumors   \n",
              "2       3  NCT03378076                      Bilateral Knee Osteoarthritis   \n",
              "3       4  NCT00077142                                       Liver Cancer   \n",
              "4       5  NCT04515433                                  Alzheimer Disease   \n",
              "..    ...          ...                                                ...   \n",
              "264  1264  NCT05111743             Age-related Macular Degeneration (AMD)   \n",
              "265  1265  NCT03830905       Influenza|Acute Respiratory Viral Infections   \n",
              "266  1266  NCT03540485  Sclerosis, Multiple|Autoimmune Diseases of the...   \n",
              "267  1267  NCT03564652                                     Undernutrition   \n",
              "268  1268  NCT03894683       Heart Failure With Reduced Ejection Fraction   \n",
              "\n",
              "                                         OfficialTitle  \\\n",
              "0    A Multi-Center Randomized, Double-Blind, Place...   \n",
              "1    A Phase I/II Trial Investigating Safety and Ef...   \n",
              "2    A Randomized, Open-label, Parallel Group Study...   \n",
              "3    Phase I/II Dose Escalation, Pharmacokinetic, S...   \n",
              "4    Interventional Cross-over Study to Evaluate th...   \n",
              "..                                                 ...   \n",
              "264  Real-world Evaluation of Brolucizumab for the ...   \n",
              "265  Double-blind Randomized Placebo-controlled Com...   \n",
              "266  Randomized, Single-blind, Placebo-controlled C...   \n",
              "267  Nutritional Support for Lactating Women and Az...   \n",
              "268  Effect of Melatonin on Cardiovascular and Musc...   \n",
              "\n",
              "                                            BriefTitle   Acronym  \\\n",
              "0    Safety and Efficacy Study of Triamcinolone Ace...   TAC-202   \n",
              "1    TAC T-cells for the Treatment of HER2-positive...  TACTIC-2   \n",
              "2    Study to Compare Exposure of TA Following Admi...             \n",
              "3    TAC-101 in Treating Patients With Advanced Hep...             \n",
              "4                    Gamma tACS in Alzheimer's Disease    GammAD   \n",
              "..                                                 ...       ...   \n",
              "264  Real-world Evaluation of Brolucizumab for the ...             \n",
              "265  Study to Assess Efficacy and Safety of XC221 2...             \n",
              "266  Safety and Efficacy of Melatonin in Patients W...             \n",
              "267  Nutritional Support for Lactating Women and Az...   MumtaLW   \n",
              "268  Effect of Melatonin on Cardiovascular and Musc...             \n",
              "\n",
              "          StudyType         InterventionType  \\\n",
              "0    Interventional                Drug|Drug   \n",
              "1    Interventional               Biological   \n",
              "2    Interventional                Drug|Drug   \n",
              "3    Interventional                     Drug   \n",
              "4    Interventional                   Device   \n",
              "..              ...                      ...   \n",
              "264   Observational                     Drug   \n",
              "265  Interventional                Drug|Drug   \n",
              "266  Interventional               Drug|Other   \n",
              "267  Interventional  Dietary Supplement|Drug   \n",
              "268  Interventional                Drug|Drug   \n",
              "\n",
              "                                      InterventionName  \\\n",
              "0    Triamcinolone Acetonide (TAC) DuraPeel|Placebo...   \n",
              "1                                           TAC01-HER2   \n",
              "2                               FX006 32 mg|TAcs 40 mg   \n",
              "3                                              TAC-101   \n",
              "4    Gamma tACS (40 Hz) over the superior parietal ...   \n",
              "..                                                 ...   \n",
              "264                                       Brolucizumab   \n",
              "265                                      XC221|Placebo   \n",
              "266                                  Melatonin|Placebo   \n",
              "267         Balanced energy-protein (BEP)|Azithromycin   \n",
              "268                Melatonin 10 mg|Placebo Oral Tablet   \n",
              "\n",
              "                                 InterventionOtherName  \\\n",
              "0                                         TAC DuraPeel   \n",
              "1                                                        \n",
              "2    Zilretta|Kenalog®-40 Injection|Triamcinolone A...   \n",
              "3                                                        \n",
              "4                                                        \n",
              "..                                                 ...   \n",
              "264                                             BEOVU®   \n",
              "265                                                      \n",
              "266                                                      \n",
              "267                                    RUSF|Suspension   \n",
              "268                                                      \n",
              "\n",
              "                               InterventionDescription            Phase  \\\n",
              "0    topical gel; once daily (nightly); total durat...          Phase 2   \n",
              "1           TAC01-HER2, fludarabine, cyclophosphamide.  Phase 1|Phase 2   \n",
              "2    Drug: Extended-release 32 mg FX006 IA injectio...          Phase 2   \n",
              "3    Once daily by mouth on days 1-14, repeat every...  Phase 1|Phase 2   \n",
              "4    Single session of gamma tACS (40 Hz) over the ...   Not Applicable   \n",
              "..                                                 ...              ...   \n",
              "264  Participants received brolucizumab injection d...                    \n",
              "265  Participants will receive 200 mg XC221 once a ...          Phase 2   \n",
              "266  Daily administration of 100 mg of melatonin or...  Phase 1|Phase 2   \n",
              "267  Lactating women in the intervention arms will ...   Not Applicable   \n",
              "268  Melatonin tablets (10 mg)|Placebo tablets manu...          Phase 2   \n",
              "\n",
              "    StudyFirstSubmitDate LastUpdateSubmitDate      CompletionDate  \\\n",
              "0         April 28, 2009       March 14, 2012         August 2009   \n",
              "1       January 20, 2021       April 27, 2022       February 2025   \n",
              "2       December 8, 2017    November 20, 2019      March 14, 2018   \n",
              "3      February 10, 2004     October 30, 2018         August 2005   \n",
              "4        August 11, 2020       March 17, 2021  September 30, 2020   \n",
              "..                   ...                  ...                 ...   \n",
              "264     October 22, 2021    December 15, 2021   December 18, 2020   \n",
              "265     January 30, 2019    November 12, 2020        July 3, 2019   \n",
              "266          May 4, 2018         July 8, 2022       December 2024   \n",
              "267        June 11, 2018     January 23, 2021   November 20, 2020   \n",
              "268       March 27, 2019       March 27, 2019       December 2020   \n",
              "\n",
              "      OverallStatus                               BaselineMeasureTitle  \\\n",
              "0         Completed                                                      \n",
              "1        Recruiting                                                      \n",
              "2         Completed  Age, Continuous|Sex: Female, Male|Ethnicity (N...   \n",
              "3         Completed                                                      \n",
              "4         Completed                                                      \n",
              "..              ...                                                ...   \n",
              "264       Completed                                                      \n",
              "265       Completed                                                      \n",
              "266      Recruiting                                                      \n",
              "267       Completed                                                      \n",
              "268  Unknown status                                                      \n",
              "\n",
              "    BaselineMeasureDescription  \\\n",
              "0                                \n",
              "1                                \n",
              "2                                \n",
              "3                                \n",
              "4                                \n",
              "..                         ...   \n",
              "264                              \n",
              "265                              \n",
              "266                              \n",
              "267                              \n",
              "268                              \n",
              "\n",
              "                              BaselineMeasurementValue  \\\n",
              "0                                                        \n",
              "1                                                        \n",
              "2    61.8|61.6|61.7|10|9|19|2|3|5|2|0|2|10|12|22|0|...   \n",
              "3                                                        \n",
              "4                                                        \n",
              "..                                                 ...   \n",
              "264                                                      \n",
              "265                                                      \n",
              "266                                                      \n",
              "267                                                      \n",
              "268                                                      \n",
              "\n",
              "                                          BriefSummary  \n",
              "0    The purpose of this study is to determine whet...  \n",
              "1    TAC01-HER2 is a novel cell therapy that consis...  \n",
              "2    This is a randomized, open-label, parallel gro...  \n",
              "3    RATIONALE: TAC-101 may stop the growth of canc...  \n",
              "4    Brain oscillations are ubiquitous in the human...  \n",
              "..                                                 ...  \n",
              "264  This study was a retrospective cohort study of...  \n",
              "265  The innovative drug XC221 is planned for use i...  \n",
              "266  Phase I / II randomized, single-blind, placebo...  \n",
              "267  A community-based, randomized control, assesso...  \n",
              "268  The main aim of this study is to investigate t...  \n",
              "\n",
              "[1268 rows x 20 columns]>"
            ]
          },
          "execution_count": 14,
          "metadata": {},
          "output_type": "execute_result"
        }
      ],
      "source": [
        "new_df.head"
      ]
    },
    {
      "cell_type": "code",
      "execution_count": 15,
      "metadata": {},
      "outputs": [],
      "source": [
        "# temp = pd.DataFrame.from_records(api_pull_2[1:], columns=api_pull_2[0])"
      ]
    },
    {
      "cell_type": "code",
      "execution_count": 16,
      "metadata": {},
      "outputs": [],
      "source": [
        "# print(temp.shape)"
      ]
    },
    {
      "cell_type": "code",
      "execution_count": 17,
      "metadata": {},
      "outputs": [],
      "source": [
        "# count = 3000\n",
        "start = 0\n",
        "end = count\n",
        "iter = 999 #number of studies to get at a time ( limited to 1000 )\n",
        "\n",
        "from random import seed\n",
        "from random import random\n",
        "\n",
        "\n",
        "\n",
        "temp = pd.DataFrame()\n",
        "temp2 = pd.DataFrame()\n",
        "new_df2 = pd.DataFrame()\n",
        "\n",
        "\n",
        "for i in range(1, count, iter):\n",
        "    # print(temp)\n",
        "    temp = ct.get_study_fields(\n",
        "        search_expr=disease,\n",
        "        fields=[\"NCTId\",\"IsFDARegulatedDrug\",\"IsFDARegulatedDevice\", \"IsUnapprovedDevice\", \"PrimaryOutcomeMeasure\", \"PrimaryOutcomeDescription\",\"PrimaryOutcomeTimeFrame\", \"SecondaryOutcomeMeasure\",\"SecondaryOutcomeDescription\", \"SecondaryOutcomeTimeFrame\",\"OtherOutcomeMeasure\"\n",
        ",\"OtherOutcomeDescription\",\"OtherOutcomeTimeFrame\",\"EligibilityCriteria\",\"StudyPopulation\",\"HealthyVolunteers\", \"ReferencePMID\", \"LocationCity\", \"LocationState\" , \"LocationFacility\"],\n",
        "        max_studies=iter,\n",
        "        min_rnk=i,\n",
        "        fmt=\"csv\",)\n",
        "    # print(temp2[0])\n",
        "    temp2 =  pd.DataFrame.from_records(temp[1:])\n",
        "    new_df2 = pd.concat([new_df2, temp2])\n",
        " \n"
      ]
    },
    {
      "cell_type": "code",
      "execution_count": 18,
      "metadata": {},
      "outputs": [],
      "source": [
        "new_df2.columns = [\"index\", \"NCTId\",\"IsFDARegulatedDrug\",\"IsFDARegulatedDevice\", \"IsUnapprovedDevice\", \"PrimaryOutcomeMeasure\", \"PrimaryOutcomeDescription\",\"PrimaryOutcomeTimeFrame\", \"SecondaryOutcomeMeasure\",\"SecondaryOutcomeDescription\", \"SecondaryOutcomeTimeFrame\",\"OtherOutcomeMeasure\"\n",
        ",\"OtherOutcomeDescription\",\"OtherOutcomeTimeFrame\",\"EligibilityCriteria\",\"StudyPopulation\",\"HealthyVolunteers\", \"ReferencePMID\", \"LocationCity\", \"LocationState\" , \"LocationFacility\"]"
      ]
    },
    {
      "cell_type": "code",
      "execution_count": 19,
      "metadata": {},
      "outputs": [
        {
          "data": {
            "text/plain": [
              "(1268, 21)"
            ]
          },
          "execution_count": 19,
          "metadata": {},
          "output_type": "execute_result"
        }
      ],
      "source": [
        "new_df2.shape"
      ]
    },
    {
      "cell_type": "code",
      "execution_count": 20,
      "metadata": {},
      "outputs": [
        {
          "data": {
            "text/html": [
              "<div>\n",
              "<style scoped>\n",
              "    .dataframe tbody tr th:only-of-type {\n",
              "        vertical-align: middle;\n",
              "    }\n",
              "\n",
              "    .dataframe tbody tr th {\n",
              "        vertical-align: top;\n",
              "    }\n",
              "\n",
              "    .dataframe thead th {\n",
              "        text-align: right;\n",
              "    }\n",
              "</style>\n",
              "<table border=\"1\" class=\"dataframe\">\n",
              "  <thead>\n",
              "    <tr style=\"text-align: right;\">\n",
              "      <th></th>\n",
              "      <th>index</th>\n",
              "      <th>NCTId</th>\n",
              "      <th>IsFDARegulatedDrug</th>\n",
              "      <th>IsFDARegulatedDevice</th>\n",
              "      <th>IsUnapprovedDevice</th>\n",
              "      <th>PrimaryOutcomeMeasure</th>\n",
              "      <th>PrimaryOutcomeDescription</th>\n",
              "      <th>PrimaryOutcomeTimeFrame</th>\n",
              "      <th>SecondaryOutcomeMeasure</th>\n",
              "      <th>SecondaryOutcomeDescription</th>\n",
              "      <th>...</th>\n",
              "      <th>OtherOutcomeMeasure</th>\n",
              "      <th>OtherOutcomeDescription</th>\n",
              "      <th>OtherOutcomeTimeFrame</th>\n",
              "      <th>EligibilityCriteria</th>\n",
              "      <th>StudyPopulation</th>\n",
              "      <th>HealthyVolunteers</th>\n",
              "      <th>ReferencePMID</th>\n",
              "      <th>LocationCity</th>\n",
              "      <th>LocationState</th>\n",
              "      <th>LocationFacility</th>\n",
              "    </tr>\n",
              "  </thead>\n",
              "  <tbody>\n",
              "    <tr>\n",
              "      <th>0</th>\n",
              "      <td>1</td>\n",
              "      <td>NCT00890968</td>\n",
              "      <td></td>\n",
              "      <td></td>\n",
              "      <td></td>\n",
              "      <td>Response as assessed by Investigator Global As...</td>\n",
              "      <td></td>\n",
              "      <td>Baseline, Week 1, Week 2, Week 4</td>\n",
              "      <td>Subject's Global Impression of Change (SGIC)|I...</td>\n",
              "      <td></td>\n",
              "      <td>...</td>\n",
              "      <td></td>\n",
              "      <td></td>\n",
              "      <td></td>\n",
              "      <td>Inclusion Criteria:||Clinical diagnosis of sta...</td>\n",
              "      <td></td>\n",
              "      <td>No</td>\n",
              "      <td></td>\n",
              "      <td>San Diego|Clinton Township|Austin</td>\n",
              "      <td>California|Michigan|Texas</td>\n",
              "      <td>Therapeutics Clinical Research|Michigan Center...</td>\n",
              "    </tr>\n",
              "    <tr>\n",
              "      <th>1</th>\n",
              "      <td>2</td>\n",
              "      <td>NCT04727151</td>\n",
              "      <td>Yes</td>\n",
              "      <td>No</td>\n",
              "      <td></td>\n",
              "      <td>Incidence of Treatment-Emergent Adverse Events</td>\n",
              "      <td>Assessed by Common Terminology Criteria for Ad...</td>\n",
              "      <td>24 Months</td>\n",
              "      <td>Determine MTD or RP2D|Determine expansion of T...</td>\n",
              "      <td>Assessed by incidence of Dose-Limiting Toxicit...</td>\n",
              "      <td>...</td>\n",
              "      <td></td>\n",
              "      <td></td>\n",
              "      <td></td>\n",
              "      <td>Inclusion Criteria:||Age ≥ 18 years.|A recent ...</td>\n",
              "      <td></td>\n",
              "      <td>No</td>\n",
              "      <td></td>\n",
              "      <td>Chicago|Boston|Newark|Houston|Toronto</td>\n",
              "      <td>Illinois|Massachusetts|New Jersey|Texas|Ontario</td>\n",
              "      <td>University of Chicago|Dana Farber Cancer Insti...</td>\n",
              "    </tr>\n",
              "    <tr>\n",
              "      <th>2</th>\n",
              "      <td>3</td>\n",
              "      <td>NCT03378076</td>\n",
              "      <td>Yes</td>\n",
              "      <td>No</td>\n",
              "      <td></td>\n",
              "      <td>Measure the Concentration of Triamcinolone Ace...</td>\n",
              "      <td>Plasma drug concentrations (pg/mL) by Time Poi...</td>\n",
              "      <td>43 days|43 days</td>\n",
              "      <td></td>\n",
              "      <td></td>\n",
              "      <td>...</td>\n",
              "      <td></td>\n",
              "      <td></td>\n",
              "      <td></td>\n",
              "      <td>Inclusion Criteria:||Written consent to partic...</td>\n",
              "      <td></td>\n",
              "      <td>No</td>\n",
              "      <td>31662801</td>\n",
              "      <td>Torrance|Rochester|Duncansville</td>\n",
              "      <td>California|New York|Pennsylvania</td>\n",
              "      <td>LA Biomed at Harbor-UCLA Medical Center|Roches...</td>\n",
              "    </tr>\n",
              "    <tr>\n",
              "      <th>3</th>\n",
              "      <td>4</td>\n",
              "      <td>NCT00077142</td>\n",
              "      <td></td>\n",
              "      <td></td>\n",
              "      <td></td>\n",
              "      <td>Maximum Tolerated Dose (MTD) of TAC-101</td>\n",
              "      <td></td>\n",
              "      <td>60 Days</td>\n",
              "      <td></td>\n",
              "      <td></td>\n",
              "      <td>...</td>\n",
              "      <td></td>\n",
              "      <td></td>\n",
              "      <td></td>\n",
              "      <td>DISEASE CHARACTERISTICS:||Histologically or cy...</td>\n",
              "      <td></td>\n",
              "      <td>No</td>\n",
              "      <td>18504614</td>\n",
              "      <td>Houston</td>\n",
              "      <td>Texas</td>\n",
              "      <td>MD Anderson Cancer Center at University of Texas</td>\n",
              "    </tr>\n",
              "    <tr>\n",
              "      <th>4</th>\n",
              "      <td>5</td>\n",
              "      <td>NCT04515433</td>\n",
              "      <td>No</td>\n",
              "      <td>No</td>\n",
              "      <td></td>\n",
              "      <td>Changes in Rey Auditory Verbal Learning Test s...</td>\n",
              "      <td>Participants are given a list of 15 unrelated ...</td>\n",
              "      <td>Baseline (immediately before the intervention)...</td>\n",
              "      <td>Change in SAI measurements</td>\n",
              "      <td>By using transcranial magnetic stimulation (TM...</td>\n",
              "      <td>...</td>\n",
              "      <td></td>\n",
              "      <td></td>\n",
              "      <td></td>\n",
              "      <td>Inclusion Criteria:||- Mild Cognitive Impairme...</td>\n",
              "      <td></td>\n",
              "      <td>No</td>\n",
              "      <td>19400723|27929004|31076275|30879788|23785325</td>\n",
              "      <td>Brescia</td>\n",
              "      <td>BS</td>\n",
              "      <td>AO Spedali Civili</td>\n",
              "    </tr>\n",
              "    <tr>\n",
              "      <th>...</th>\n",
              "      <td>...</td>\n",
              "      <td>...</td>\n",
              "      <td>...</td>\n",
              "      <td>...</td>\n",
              "      <td>...</td>\n",
              "      <td>...</td>\n",
              "      <td>...</td>\n",
              "      <td>...</td>\n",
              "      <td>...</td>\n",
              "      <td>...</td>\n",
              "      <td>...</td>\n",
              "      <td>...</td>\n",
              "      <td>...</td>\n",
              "      <td>...</td>\n",
              "      <td>...</td>\n",
              "      <td>...</td>\n",
              "      <td>...</td>\n",
              "      <td>...</td>\n",
              "      <td>...</td>\n",
              "      <td>...</td>\n",
              "      <td>...</td>\n",
              "    </tr>\n",
              "    <tr>\n",
              "      <th>264</th>\n",
              "      <td>1264</td>\n",
              "      <td>NCT05111743</td>\n",
              "      <td>No</td>\n",
              "      <td>No</td>\n",
              "      <td></td>\n",
              "      <td>Number of patient eyes with an Intraocular Inf...</td>\n",
              "      <td>To assess IOI events observed after starting t...</td>\n",
              "      <td>Up to 6 months post brolucizumab injection</td>\n",
              "      <td>Age|Gender information|Number of patients at v...</td>\n",
              "      <td>Age information was reported|Gender informatio...</td>\n",
              "      <td>...</td>\n",
              "      <td></td>\n",
              "      <td></td>\n",
              "      <td></td>\n",
              "      <td>Inclusion criteria:||≥1 Healthcare Common Proc...</td>\n",
              "      <td>Patients with wet AMD who initiated brolucizum...</td>\n",
              "      <td>No</td>\n",
              "      <td></td>\n",
              "      <td>East Hanover</td>\n",
              "      <td>New Jersey</td>\n",
              "      <td>Novartis Investigative Site</td>\n",
              "    </tr>\n",
              "    <tr>\n",
              "      <th>265</th>\n",
              "      <td>1265</td>\n",
              "      <td>NCT03830905</td>\n",
              "      <td>No</td>\n",
              "      <td>No</td>\n",
              "      <td></td>\n",
              "      <td>Time to sustained improvement in clinical symp...</td>\n",
              "      <td>The time before the onset of sustained improve...</td>\n",
              "      <td>From the moment of the first dose up to Day 14</td>\n",
              "      <td>The time before the onset of persistent improv...</td>\n",
              "      <td>The time of the first assessment of 3 consecut...</td>\n",
              "      <td>...</td>\n",
              "      <td>The average concentration of MxA protein in th...</td>\n",
              "      <td>The average concentration of 6Ckine, BCA-1, CT...</td>\n",
              "      <td>From Day 1 up to Day 6|From Day 1 up to Day 6|...</td>\n",
              "      <td>Inclusion Criteria:||Both sexes aged 18 years ...</td>\n",
              "      <td></td>\n",
              "      <td>No</td>\n",
              "      <td></td>\n",
              "      <td>Arkhangelsk|Belgorod|Izhevsk|Krasnodar|Krasnog...</td>\n",
              "      <td></td>\n",
              "      <td>Federal State Budgetary Institution of Health ...</td>\n",
              "    </tr>\n",
              "    <tr>\n",
              "      <th>266</th>\n",
              "      <td>1266</td>\n",
              "      <td>NCT03540485</td>\n",
              "      <td>No</td>\n",
              "      <td>No</td>\n",
              "      <td></td>\n",
              "      <td>Rates of neurological impairment|Rates of disa...</td>\n",
              "      <td>Individualized rates of disease progression wi...</td>\n",
              "      <td>2 years|2 years</td>\n",
              "      <td>Number of participants with treatment-related ...</td>\n",
              "      <td>To determine the incidence of adverse events a...</td>\n",
              "      <td>...</td>\n",
              "      <td>Efficacy of neuroinflammation|Axonal damage|Ox...</td>\n",
              "      <td>Neuroinflammation marker CXCL13 will be measur...</td>\n",
              "      <td>Day 0 and after 2 years|Day 0 and after 2 year...</td>\n",
              "      <td>Inclusion Criteria:||Patients who come to the ...</td>\n",
              "      <td></td>\n",
              "      <td>No</td>\n",
              "      <td></td>\n",
              "      <td>Seville|Seville|Seville</td>\n",
              "      <td></td>\n",
              "      <td>Virgen Macarena Hospital|Virgen del Rocio Univ...</td>\n",
              "    </tr>\n",
              "    <tr>\n",
              "      <th>267</th>\n",
              "      <td>1267</td>\n",
              "      <td>NCT03564652</td>\n",
              "      <td>No</td>\n",
              "      <td>No</td>\n",
              "      <td></td>\n",
              "      <td>Length velocity at 6 months of infant's age</td>\n",
              "      <td>Mean difference in length velocity of &gt;0.12 cm...</td>\n",
              "      <td>6 months of infant age, after birth and enroll...</td>\n",
              "      <td>Growth velocity at 6 months of infant's age|Le...</td>\n",
              "      <td>Mean difference in growth velocity of &gt;0.4 gra...</td>\n",
              "      <td>...</td>\n",
              "      <td>Breast milk composition|Stool specimens of lac...</td>\n",
              "      <td>50 systematically selected lactating women in ...</td>\n",
              "      <td>breast milk specimens will be collected at day...</td>\n",
              "      <td>Inclusion Criteria:||Mid-upper-arm-circumferen...</td>\n",
              "      <td></td>\n",
              "      <td>Accepts Healthy Volunteers</td>\n",
              "      <td>32873314</td>\n",
              "      <td>Karachi</td>\n",
              "      <td>Sindh</td>\n",
              "      <td>Peri-urban slums of Karachi (Rehri Goth, Bhain...</td>\n",
              "    </tr>\n",
              "    <tr>\n",
              "      <th>268</th>\n",
              "      <td>1268</td>\n",
              "      <td>NCT03894683</td>\n",
              "      <td>No</td>\n",
              "      <td>No</td>\n",
              "      <td></td>\n",
              "      <td>Composite clinical endpoint score</td>\n",
              "      <td>A score with the following components: all-cau...</td>\n",
              "      <td>6 months or earlier if patient was dropped out...</td>\n",
              "      <td>Adverse effects of melatonin|Change in appendi...</td>\n",
              "      <td>Adverse effects detected in the melatonin grou...</td>\n",
              "      <td>...</td>\n",
              "      <td>Change in fasting blood glucose level (mg/dl)|...</td>\n",
              "      <td>Measured in serum samples after 12h fasting|In...</td>\n",
              "      <td>Baseline and 6 months|Baseline and 6 months|Ba...</td>\n",
              "      <td>Inclusion Criteria:||Systolic heart failure wi...</td>\n",
              "      <td></td>\n",
              "      <td>No</td>\n",
              "      <td></td>\n",
              "      <td>Isfahan</td>\n",
              "      <td></td>\n",
              "      <td>Cardiac rehabilitation research center</td>\n",
              "    </tr>\n",
              "  </tbody>\n",
              "</table>\n",
              "<p>1268 rows × 21 columns</p>\n",
              "</div>"
            ],
            "text/plain": [
              "    index        NCTId IsFDARegulatedDrug IsFDARegulatedDevice  \\\n",
              "0       1  NCT00890968                                           \n",
              "1       2  NCT04727151                Yes                   No   \n",
              "2       3  NCT03378076                Yes                   No   \n",
              "3       4  NCT00077142                                           \n",
              "4       5  NCT04515433                 No                   No   \n",
              "..    ...          ...                ...                  ...   \n",
              "264  1264  NCT05111743                 No                   No   \n",
              "265  1265  NCT03830905                 No                   No   \n",
              "266  1266  NCT03540485                 No                   No   \n",
              "267  1267  NCT03564652                 No                   No   \n",
              "268  1268  NCT03894683                 No                   No   \n",
              "\n",
              "    IsUnapprovedDevice                              PrimaryOutcomeMeasure  \\\n",
              "0                       Response as assessed by Investigator Global As...   \n",
              "1                          Incidence of Treatment-Emergent Adverse Events   \n",
              "2                       Measure the Concentration of Triamcinolone Ace...   \n",
              "3                                 Maximum Tolerated Dose (MTD) of TAC-101   \n",
              "4                       Changes in Rey Auditory Verbal Learning Test s...   \n",
              "..                 ...                                                ...   \n",
              "264                     Number of patient eyes with an Intraocular Inf...   \n",
              "265                     Time to sustained improvement in clinical symp...   \n",
              "266                     Rates of neurological impairment|Rates of disa...   \n",
              "267                           Length velocity at 6 months of infant's age   \n",
              "268                                     Composite clinical endpoint score   \n",
              "\n",
              "                             PrimaryOutcomeDescription  \\\n",
              "0                                                        \n",
              "1    Assessed by Common Terminology Criteria for Ad...   \n",
              "2    Plasma drug concentrations (pg/mL) by Time Poi...   \n",
              "3                                                        \n",
              "4    Participants are given a list of 15 unrelated ...   \n",
              "..                                                 ...   \n",
              "264  To assess IOI events observed after starting t...   \n",
              "265  The time before the onset of sustained improve...   \n",
              "266  Individualized rates of disease progression wi...   \n",
              "267  Mean difference in length velocity of >0.12 cm...   \n",
              "268  A score with the following components: all-cau...   \n",
              "\n",
              "                               PrimaryOutcomeTimeFrame  \\\n",
              "0                     Baseline, Week 1, Week 2, Week 4   \n",
              "1                                            24 Months   \n",
              "2                                      43 days|43 days   \n",
              "3                                              60 Days   \n",
              "4    Baseline (immediately before the intervention)...   \n",
              "..                                                 ...   \n",
              "264         Up to 6 months post brolucizumab injection   \n",
              "265     From the moment of the first dose up to Day 14   \n",
              "266                                    2 years|2 years   \n",
              "267  6 months of infant age, after birth and enroll...   \n",
              "268  6 months or earlier if patient was dropped out...   \n",
              "\n",
              "                               SecondaryOutcomeMeasure  \\\n",
              "0    Subject's Global Impression of Change (SGIC)|I...   \n",
              "1    Determine MTD or RP2D|Determine expansion of T...   \n",
              "2                                                        \n",
              "3                                                        \n",
              "4                           Change in SAI measurements   \n",
              "..                                                 ...   \n",
              "264  Age|Gender information|Number of patients at v...   \n",
              "265  The time before the onset of persistent improv...   \n",
              "266  Number of participants with treatment-related ...   \n",
              "267  Growth velocity at 6 months of infant's age|Le...   \n",
              "268  Adverse effects of melatonin|Change in appendi...   \n",
              "\n",
              "                           SecondaryOutcomeDescription  ...  \\\n",
              "0                                                       ...   \n",
              "1    Assessed by incidence of Dose-Limiting Toxicit...  ...   \n",
              "2                                                       ...   \n",
              "3                                                       ...   \n",
              "4    By using transcranial magnetic stimulation (TM...  ...   \n",
              "..                                                 ...  ...   \n",
              "264  Age information was reported|Gender informatio...  ...   \n",
              "265  The time of the first assessment of 3 consecut...  ...   \n",
              "266  To determine the incidence of adverse events a...  ...   \n",
              "267  Mean difference in growth velocity of >0.4 gra...  ...   \n",
              "268  Adverse effects detected in the melatonin grou...  ...   \n",
              "\n",
              "                                   OtherOutcomeMeasure  \\\n",
              "0                                                        \n",
              "1                                                        \n",
              "2                                                        \n",
              "3                                                        \n",
              "4                                                        \n",
              "..                                                 ...   \n",
              "264                                                      \n",
              "265  The average concentration of MxA protein in th...   \n",
              "266  Efficacy of neuroinflammation|Axonal damage|Ox...   \n",
              "267  Breast milk composition|Stool specimens of lac...   \n",
              "268  Change in fasting blood glucose level (mg/dl)|...   \n",
              "\n",
              "                               OtherOutcomeDescription  \\\n",
              "0                                                        \n",
              "1                                                        \n",
              "2                                                        \n",
              "3                                                        \n",
              "4                                                        \n",
              "..                                                 ...   \n",
              "264                                                      \n",
              "265  The average concentration of 6Ckine, BCA-1, CT...   \n",
              "266  Neuroinflammation marker CXCL13 will be measur...   \n",
              "267  50 systematically selected lactating women in ...   \n",
              "268  Measured in serum samples after 12h fasting|In...   \n",
              "\n",
              "                                 OtherOutcomeTimeFrame  \\\n",
              "0                                                        \n",
              "1                                                        \n",
              "2                                                        \n",
              "3                                                        \n",
              "4                                                        \n",
              "..                                                 ...   \n",
              "264                                                      \n",
              "265  From Day 1 up to Day 6|From Day 1 up to Day 6|...   \n",
              "266  Day 0 and after 2 years|Day 0 and after 2 year...   \n",
              "267  breast milk specimens will be collected at day...   \n",
              "268  Baseline and 6 months|Baseline and 6 months|Ba...   \n",
              "\n",
              "                                   EligibilityCriteria  \\\n",
              "0    Inclusion Criteria:||Clinical diagnosis of sta...   \n",
              "1    Inclusion Criteria:||Age ≥ 18 years.|A recent ...   \n",
              "2    Inclusion Criteria:||Written consent to partic...   \n",
              "3    DISEASE CHARACTERISTICS:||Histologically or cy...   \n",
              "4    Inclusion Criteria:||- Mild Cognitive Impairme...   \n",
              "..                                                 ...   \n",
              "264  Inclusion criteria:||≥1 Healthcare Common Proc...   \n",
              "265  Inclusion Criteria:||Both sexes aged 18 years ...   \n",
              "266  Inclusion Criteria:||Patients who come to the ...   \n",
              "267  Inclusion Criteria:||Mid-upper-arm-circumferen...   \n",
              "268  Inclusion Criteria:||Systolic heart failure wi...   \n",
              "\n",
              "                                       StudyPopulation  \\\n",
              "0                                                        \n",
              "1                                                        \n",
              "2                                                        \n",
              "3                                                        \n",
              "4                                                        \n",
              "..                                                 ...   \n",
              "264  Patients with wet AMD who initiated brolucizum...   \n",
              "265                                                      \n",
              "266                                                      \n",
              "267                                                      \n",
              "268                                                      \n",
              "\n",
              "              HealthyVolunteers                                 ReferencePMID  \\\n",
              "0                            No                                                 \n",
              "1                            No                                                 \n",
              "2                            No                                      31662801   \n",
              "3                            No                                      18504614   \n",
              "4                            No  19400723|27929004|31076275|30879788|23785325   \n",
              "..                          ...                                           ...   \n",
              "264                          No                                                 \n",
              "265                          No                                                 \n",
              "266                          No                                                 \n",
              "267  Accepts Healthy Volunteers                                      32873314   \n",
              "268                          No                                                 \n",
              "\n",
              "                                          LocationCity  \\\n",
              "0                    San Diego|Clinton Township|Austin   \n",
              "1                Chicago|Boston|Newark|Houston|Toronto   \n",
              "2                      Torrance|Rochester|Duncansville   \n",
              "3                                              Houston   \n",
              "4                                              Brescia   \n",
              "..                                                 ...   \n",
              "264                                       East Hanover   \n",
              "265  Arkhangelsk|Belgorod|Izhevsk|Krasnodar|Krasnog...   \n",
              "266                            Seville|Seville|Seville   \n",
              "267                                            Karachi   \n",
              "268                                            Isfahan   \n",
              "\n",
              "                                       LocationState  \\\n",
              "0                          California|Michigan|Texas   \n",
              "1    Illinois|Massachusetts|New Jersey|Texas|Ontario   \n",
              "2                   California|New York|Pennsylvania   \n",
              "3                                              Texas   \n",
              "4                                                 BS   \n",
              "..                                               ...   \n",
              "264                                       New Jersey   \n",
              "265                                                    \n",
              "266                                                    \n",
              "267                                            Sindh   \n",
              "268                                                    \n",
              "\n",
              "                                      LocationFacility  \n",
              "0    Therapeutics Clinical Research|Michigan Center...  \n",
              "1    University of Chicago|Dana Farber Cancer Insti...  \n",
              "2    LA Biomed at Harbor-UCLA Medical Center|Roches...  \n",
              "3     MD Anderson Cancer Center at University of Texas  \n",
              "4                                    AO Spedali Civili  \n",
              "..                                                 ...  \n",
              "264                        Novartis Investigative Site  \n",
              "265  Federal State Budgetary Institution of Health ...  \n",
              "266  Virgen Macarena Hospital|Virgen del Rocio Univ...  \n",
              "267  Peri-urban slums of Karachi (Rehri Goth, Bhain...  \n",
              "268             Cardiac rehabilitation research center  \n",
              "\n",
              "[1268 rows x 21 columns]"
            ]
          },
          "execution_count": 20,
          "metadata": {},
          "output_type": "execute_result"
        }
      ],
      "source": [
        "new_df2"
      ]
    },
    {
      "cell_type": "code",
      "execution_count": 21,
      "metadata": {},
      "outputs": [],
      "source": [
        "\n",
        "\n",
        "\n",
        "\n",
        "# api_pull_2 = ct.get_study_fields(\n",
        "#     search_expr=\"Parkinson\",\n",
        "#     fields=[\"NCTId\"],\n",
        "#     max_studies=10,\n",
        "#     min_rnk=5,\n",
        "#     fmt=\"csv\",\n",
        "# )\n",
        "\n",
        "# # ClinicalTrials limits API queries to 1000 records\n",
        "# # Count of studies may be useful to build loops when you want to retrieve more than 1000 records\n",
        "\n",
        "\n",
        "\n",
        "# # Read the csv data in Pandas\n",
        "# import pandas as pd\n",
        "\n",
        "# temp = pd.DataFrame.from_records(api_pull_2[1:], columns=api_pull_2[0])\n",
        "# temp"
      ]
    },
    {
      "cell_type": "code",
      "execution_count": 22,
      "metadata": {
        "id": "-o2YXU2v4Flm"
      },
      "outputs": [],
      "source": [
        "\n",
        "\n",
        "\n",
        "\n",
        "# # Get the NCTId, Condition and Brief title fields from 500 studies related to Coronavirus and Covid, in csv format.\n",
        "# api_pull_1 = ct.get_study_fields(\n",
        "#     search_expr=\"Parkinson\",\n",
        "#     fields=[\"NCTId\", \"Condition\", \"OfficialTitle\", \"BriefTitle\" , \"Acronym\" , \"StudyType\",\n",
        "#     \"InterventionType\",\"InterventionName\",\"InterventionOtherName\",\"InterventionDescription\",\"Phase\" \n",
        "#     ,\"StudyFirstSubmitDate\",\"LastUpdateSubmitDate\",\"CompletionDate\",\"OverallStatus\",\"IsFDARegulatedDrug\",\"IsFDARegulatedDevice\",\"BriefSummary\"],\n",
        "#     max_studies=999,\n",
        "#     fmt=\"csv\",\n",
        "# )\n",
        "\n",
        "# # ClinicalTrials limits API queries to 1000 records\n",
        "# # Count of studies may be useful to build loops when you want to retrieve more than 1000 records\n",
        "\n",
        "\n",
        "\n",
        "# # Read the csv data in Pandas\n",
        "# import pandas as pd\n",
        "\n",
        "# df1=pd.DataFrame.from_records(api_pull_1[1:], columns=api_pull_1[0])\n",
        "\n",
        "# # \n",
        "# # df1 = pd.DataFrame.to_frame().reset_index()\n",
        "\n"
      ]
    },
    {
      "cell_type": "code",
      "execution_count": null,
      "metadata": {},
      "outputs": [],
      "source": []
    },
    {
      "cell_type": "code",
      "execution_count": 23,
      "metadata": {
        "colab": {
          "base_uri": "https://localhost:8080/"
        },
        "id": "dYsPomag4Vzm",
        "outputId": "e5468a7b-b50d-4b27-f898-46e1c87ee989"
      },
      "outputs": [],
      "source": [
        "# api_pull_2 = ct.get_study_fields(\n",
        "#     search_expr=\"Parkinson\",\n",
        "#     fields=[\"NCTId\",\"IsFDARegulatedDrug\",\"IsFDARegulatedDevice\", \"IsUnapprovedDevice\", \"PrimaryOutcomeMeasure\", \"PrimaryOutcomeDescription\",\"PrimaryOutcomeTimeFrame\", \"SecondaryOutcomeMeasure\",\"SecondaryOutcomeDescription\", \"SecondaryOutcomeTimeFrame\",\"OtherOutcomeMeasure\"\n",
        "# ,\"OtherOutcomeDescription\",\"OtherOutcomeTimeFrame\",\"EligibilityCriteria\",\"StudyPopulation\",\"HealthyVolunteers\", \"ReferencePMID\", \"LocationCity\", \"LocationState\" , \"LocationFacility\"\n",
        "\n",
        "# ],\n",
        "#     max_studies=999,\n",
        "#     fmt=\"csv\",\n",
        "# )\n",
        "\n",
        "# # ClinicalTrials limits API queries to 1000 records\n",
        "# # Count of studies may be useful to build loops when you want to retrieve more than 1000 records\n",
        "\n",
        "# ct.get_study_count(search_expr=\"Parkinson\")\n",
        "\n",
        "# # Read the csv data in Pandas\n",
        "# import pandas as pd\n",
        "\n",
        "# df2 = pd.DataFrame.from_records(api_pull_2[1:], columns=api_pull_2[0])"
      ]
    },
    {
      "cell_type": "markdown",
      "metadata": {
        "id": "DQ1K9Cgd4xOC"
      },
      "source": [
        "##cleaning"
      ]
    },
    {
      "cell_type": "code",
      "execution_count": 24,
      "metadata": {},
      "outputs": [],
      "source": [
        "# print(type(df1))"
      ]
    },
    {
      "cell_type": "markdown",
      "metadata": {},
      "source": []
    },
    {
      "cell_type": "code",
      "execution_count": 25,
      "metadata": {
        "id": "EF7TnjRu4X9G"
      },
      "outputs": [],
      "source": [
        "result = pd.merge(new_df, new_df2,  on='NCTId', how='outer')"
      ]
    },
    {
      "cell_type": "code",
      "execution_count": 26,
      "metadata": {},
      "outputs": [
        {
          "data": {
            "text/plain": [
              "(1268, 40)"
            ]
          },
          "execution_count": 26,
          "metadata": {},
          "output_type": "execute_result"
        }
      ],
      "source": [
        "result.shape"
      ]
    },
    {
      "cell_type": "code",
      "execution_count": 27,
      "metadata": {},
      "outputs": [],
      "source": [
        "# result = result.loc[:,~result.columns.duplicated()]"
      ]
    },
    {
      "cell_type": "code",
      "execution_count": 28,
      "metadata": {},
      "outputs": [],
      "source": [
        "# result.shape"
      ]
    },
    {
      "cell_type": "code",
      "execution_count": 29,
      "metadata": {},
      "outputs": [],
      "source": [
        "# result.columns.tolist()"
      ]
    },
    {
      "cell_type": "markdown",
      "metadata": {},
      "source": [
        "IMPORTANT - this just drops the second index column - monitor or watch for mismatch or if you change the number of elements that are pulled from the first api"
      ]
    },
    {
      "cell_type": "code",
      "execution_count": 30,
      "metadata": {},
      "outputs": [],
      "source": [
        "result = result.drop(result.columns[[20]], axis=1)"
      ]
    },
    {
      "cell_type": "code",
      "execution_count": 31,
      "metadata": {
        "id": "phxa_Vqn5E5S"
      },
      "outputs": [
        {
          "data": {
            "text/plain": [
              "(1268, 39)"
            ]
          },
          "execution_count": 31,
          "metadata": {},
          "output_type": "execute_result"
        }
      ],
      "source": [
        "result.shape"
      ]
    },
    {
      "cell_type": "code",
      "execution_count": 32,
      "metadata": {},
      "outputs": [],
      "source": [
        "# result.columns.tolist()"
      ]
    },
    {
      "cell_type": "markdown",
      "metadata": {},
      "source": [
        "Save file"
      ]
    },
    {
      "cell_type": "code",
      "execution_count": 33,
      "metadata": {
        "id": "Dgre9uB-INsI"
      },
      "outputs": [],
      "source": [
        "# result.to_csv(r'data_raw.csv', index = False)\n",
        "result.to_excel(disease+'_data_raw.xlsx', index = False)"
      ]
    },
    {
      "cell_type": "code",
      "execution_count": 34,
      "metadata": {},
      "outputs": [],
      "source": [
        "#results to csv\n",
        "result.to_csv(disease+'_data_raw.csv', index = False)"
      ]
    },
    {
      "cell_type": "code",
      "execution_count": 35,
      "metadata": {},
      "outputs": [],
      "source": [
        "result.to_hdf(disease+'_data_raw.h5', key='df', mode='w')  "
      ]
    },
    {
      "cell_type": "code",
      "execution_count": 36,
      "metadata": {},
      "outputs": [],
      "source": [
        "# labels, levels = pd.factorize(result[\"Phase\"])  "
      ]
    },
    {
      "cell_type": "code",
      "execution_count": 37,
      "metadata": {},
      "outputs": [],
      "source": [
        "# labels"
      ]
    },
    {
      "cell_type": "code",
      "execution_count": 38,
      "metadata": {
        "colab": {
          "base_uri": "https://localhost:8080/"
        },
        "id": "LAqtYjoTICny",
        "outputId": "2f809d6a-4257-4ef1-b5f8-e601695a8d57"
      },
      "outputs": [],
      "source": [
        "# fun_barplot()"
      ]
    },
    {
      "cell_type": "code",
      "execution_count": null,
      "metadata": {
        "colab": {
          "base_uri": "https://localhost:8080/"
        },
        "id": "CJgWIlIm47Cc",
        "outputId": "2ca52a69-39fc-4489-9cef-d3cff0685215"
      },
      "outputs": [],
      "source": []
    }
  ],
  "metadata": {
    "colab": {
      "collapsed_sections": [],
      "name": "HW2.ipynb",
      "provenance": []
    },
    "kernelspec": {
      "display_name": "Python 3.10.4 ('da622')",
      "language": "python",
      "name": "python3"
    },
    "language_info": {
      "codemirror_mode": {
        "name": "ipython",
        "version": 3
      },
      "file_extension": ".py",
      "mimetype": "text/x-python",
      "name": "python",
      "nbconvert_exporter": "python",
      "pygments_lexer": "ipython3",
      "version": "3.10.4"
    },
    "vscode": {
      "interpreter": {
        "hash": "df62669469e0c829d1be92d7cbf744ae4e816a6cbdfe4831b5e613d3386bb9e2"
      }
    }
  },
  "nbformat": 4,
  "nbformat_minor": 0
}
