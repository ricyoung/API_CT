{
  "cells": [
    {
      "cell_type": "markdown",
      "metadata": {
        "id": "Tid-wrNW11pW"
      },
      "source": [
        "# Load Depenency"
      ]
    },
    {
      "cell_type": "code",
      "execution_count": 241,
      "metadata": {
        "id": "ACtufjx41sXQ"
      },
      "outputs": [],
      "source": [
        "#Cleaned up Crypto Example\n",
        "from os import system\n",
        "import pandas as pd\n",
        "import requests\n",
        "import datetime as dt\n",
        "# from pytrials.client import ClinicalTrials\n",
        "import json\n",
        "import ipywidgets as widgets\n",
        "import numpy as np\n",
        "np.random.seed(10031975)\n",
        "import matplotlib.pyplot as plt\n",
        "import numpy as np\n",
        "from matplotlib import rcParams, cycler\n",
        "import matplotlib.pyplot as plt\n",
        "from matplotlib.ticker import AutoMinorLocator"
      ]
    },
    {
      "cell_type": "code",
      "execution_count": 242,
      "metadata": {},
      "outputs": [],
      "source": [
        "#does some error handling\n",
        "\n",
        "\n",
        "import sys\n",
        "import csv\n",
        "maxInt = sys.maxsize\n",
        "\n",
        "while True:\n",
        "    # decrease the maxInt value by factor 10 \n",
        "    # as long as the OverflowError occurs.\n",
        "\n",
        "    try:\n",
        "        csv.field_size_limit(maxInt)\n",
        "        break\n",
        "    except OverflowError:\n",
        "        maxInt = int(maxInt/10)"
      ]
    },
    {
      "cell_type": "code",
      "execution_count": 243,
      "metadata": {},
      "outputs": [],
      "source": [
        "from pytrials.utils import json_handler, csv_handler\n",
        "\n",
        "\n",
        "class ClinicalTrials:\n",
        "    \"\"\"ClinicalTrials API client\n",
        "\n",
        "    Provides functions to easily access the ClinicalTrials.gov API\n",
        "    (https://clinicaltrials.gov/api/)\n",
        "    in Python.\n",
        "\n",
        "    Attributes:\n",
        "        study_fields: List of all study fields you can use in your query.\n",
        "        api_info: Tuple containing the API version number and the last\n",
        "        time the database was updated.\n",
        "    \"\"\"\n",
        "\n",
        "    _BASE_URL = \"https://clinicaltrials.gov/api/\"\n",
        "    _INFO = \"info/\"\n",
        "    _QUERY = \"query/\"\n",
        "    _JSON = \"fmt=json\"\n",
        "    _CSV = \"fmt=csv\"\n",
        "\n",
        "    def __init__(self):\n",
        "        self.api_info = self.__api_info()\n",
        "\n",
        "    @property\n",
        "    def study_fields(self):\n",
        "        fields_list = json_handler(\n",
        "            f\"{self._BASE_URL}{self._INFO}study_fields_list?{self._JSON}\"\n",
        "        )\n",
        "        return fields_list[\"StudyFields\"][\"Fields\"]\n",
        "\n",
        "    def __api_info(self):\n",
        "        \"\"\"Returns information about the API\"\"\"\n",
        "        last_updated = json_handler(\n",
        "            f\"{self._BASE_URL}{self._INFO}data_vrs?{self._JSON}\"\n",
        "        )[\"DataVrs\"]\n",
        "        api_version = json_handler(f\"{self._BASE_URL}{self._INFO}api_vrs?{self._JSON}\")[\n",
        "            \"APIVrs\"\n",
        "        ]\n",
        "\n",
        "        return api_version, last_updated\n",
        "\n",
        "    def get_full_studies(self, search_expr, max_studies=50):\n",
        "        \"\"\"Returns all content for a maximum of 100 study records.\n",
        "\n",
        "        Retrieves information from the full studies endpoint, which gets all study fields.\n",
        "        This endpoint can only output JSON (Or not-supported XML) format and does not allow\n",
        "        requests for more than 100 studies at once.\n",
        "\n",
        "        Args:\n",
        "            search_expr (str): A string containing a search expression as specified by\n",
        "                `their documentation <https://clinicaltrials.gov/api/gui/ref/syntax#searchExpr>`_.\n",
        "            max_studies (int): An integer indicating the maximum number of studies to return.\n",
        "                Defaults to 50.\n",
        "\n",
        "        Returns:\n",
        "            dict: Object containing the information queried with the search expression.\n",
        "\n",
        "        Raises:\n",
        "            ValueError: The number of studies can only be between 1 and 100\n",
        "        \"\"\"\n",
        "        if max_studies > 100 or max_studies < 1:\n",
        "            raise ValueError(\"The number of studies can only be between 1 and 100\")\n",
        "\n",
        "        req = f\"full_studies?expr={search_expr}&max_rnk={max_studies}&{self._JSON}\"\n",
        "\n",
        "        full_studies = json_handler(f\"{self._BASE_URL}{self._QUERY}{req}\")\n",
        "\n",
        "        return full_studies\n",
        "\n",
        "    def get_study_fields(self, search_expr, fields, max_studies=50, min_rnk=1,fmt=\"csv\"):\n",
        "        \"\"\"Returns study content for specified fields\n",
        "\n",
        "        Retrieves information from the study fields endpoint, which acquires specified information\n",
        "        from a large (max 1000) studies. To see a list of all possible fields, check the class'\n",
        "        study_fields attribute.\n",
        "\n",
        "        Args:\n",
        "            search_expr (str): A string containing a search expression as specified by\n",
        "                `their documentation <https://clinicaltrials.gov/api/gui/ref/syntax#searchExpr>`_.\n",
        "            fields (list(str)): A list containing the desired information fields.\n",
        "            max_studies (int): An integer indicating the maximum number of studies to return.\n",
        "                Defaults to 50.\n",
        "            fmt (str): A string indicating the output format, csv or json. Defaults to csv.\n",
        "\n",
        "        Returns:\n",
        "            Either a dict, if fmt='json', or a list of records (e.g. a list of lists), if fmt='csv.\n",
        "            Both containing the maximum number of study fields queried using the specified search expression.\n",
        "\n",
        "        Raises:\n",
        "            ValueError: The number of studies can only be between 1 and 1000\n",
        "            ValueError: One of the fields is not valid! Check the study_fields attribute\n",
        "                for a list of valid ones.\n",
        "            ValueError: Format argument has to be either 'csv' or 'json'\n",
        "        \"\"\"\n",
        "        if max_studies > 1000 or max_studies < 1:\n",
        "            raise ValueError(\"The number of studies can only be between 1 and 1000\")\n",
        "        elif not set(fields).issubset(self.study_fields):\n",
        "            raise ValueError(\n",
        "                \"One of the fields is not valid! Check the study_fields attribute for a list of valid ones.\"\n",
        "            )\n",
        "        else:\n",
        "            concat_fields = \",\".join(fields)\n",
        "            # req = f\"study_fields?expr={search_expr}&max_rnk={max_studies}&fields={concat_fields}\"\n",
        "            req = f\"study_fields?expr={search_expr}&min_rnk={min_rnk}&max_rnk={max_studies+min_rnk-1}&fields={concat_fields}\"\n",
        "            if fmt == \"csv\":\n",
        "                url = f\"{self._BASE_URL}{self._QUERY}{req}&{self._CSV}\"\n",
        "                return csv_handler(url)\n",
        "\n",
        "            elif fmt == \"json\":\n",
        "                url = f\"{self._BASE_URL}{self._QUERY}{req}&{self._JSON}\"\n",
        "                return json_handler(url)\n",
        "\n",
        "            else:\n",
        "                raise ValueError(\"Format argument has to be either 'csv' or 'json'\")\n",
        "\n",
        "    def get_study_count(self, search_expr):\n",
        "        \"\"\"Returns study count for specified search expression\n",
        "\n",
        "        Retrieves the count of studies matching the text entered in search_expr.\n",
        "\n",
        "        Args:\n",
        "            search_expr (str): A string containing a search expression as specified by\n",
        "                `their documentation <https://clinicaltrials.gov/api/gui/ref/syntax#searchExpr>`_.\n",
        "\n",
        "        Returns:\n",
        "            An integer\n",
        "\n",
        "        Raises:\n",
        "            ValueError: The search expression cannot be blank.\n",
        "        \"\"\"\n",
        "        if not set(search_expr):\n",
        "            raise ValueError(\"The search expression cannot be blank.\")\n",
        "        else:\n",
        "            req = f\"study_fields?expr={search_expr}&max_rnk=1&fields=NCTId\"\n",
        "            url = f\"{self._BASE_URL}{self._QUERY}{req}&{self._JSON}\"\n",
        "            returned_data = json_handler(url)\n",
        "            study_count = returned_data[\"StudyFieldsResponse\"][\"NStudiesFound\"]\n",
        "            return study_count\n",
        "\n",
        "    def __repr__(self):\n",
        "        return f\"ClinicalTrials.gov client v{self.api_info[0]}, database last updated {self.api_info[1]}\""
      ]
    },
    {
      "cell_type": "markdown",
      "metadata": {
        "id": "0oKv5xQg2hgJ"
      },
      "source": [
        "# Load Data"
      ]
    },
    {
      "cell_type": "markdown",
      "metadata": {},
      "source": [
        "https://clinicaltrials.gov/api/gui/ref/crosswalks"
      ]
    },
    {
      "cell_type": "markdown",
      "metadata": {},
      "source": [
        "Disease 2 search for"
      ]
    },
    {
      "cell_type": "markdown",
      "metadata": {},
      "source": [
        "This is for dymanic input of diease searching"
      ]
    },
    {
      "cell_type": "code",
      "execution_count": null,
      "metadata": {},
      "outputs": [],
      "source": []
    },
    {
      "cell_type": "code",
      "execution_count": 244,
      "metadata": {},
      "outputs": [
        {
          "name": "stdout",
          "output_type": "stream",
          "text": [
            "\n"
          ]
        }
      ],
      "source": [
        "disease=input()\n",
        "print(disease)"
      ]
    },
    {
      "cell_type": "code",
      "execution_count": 245,
      "metadata": {},
      "outputs": [],
      "source": [
        "# disease = 'parkinson'\n",
        "\n",
        "#disease = 'depression'\n",
        "\n",
        "# disease = 'diabetes'\n",
        "\n",
        "# disease = 'tacs'\n",
        "\n"
      ]
    },
    {
      "cell_type": "markdown",
      "metadata": {},
      "source": [
        "hit mesh some day"
      ]
    },
    {
      "cell_type": "markdown",
      "metadata": {},
      "source": [
        "Pull ONE"
      ]
    },
    {
      "cell_type": "markdown",
      "metadata": {
        "id": "h_DJC1iG4RSB"
      },
      "source": [
        "#Explore Data"
      ]
    },
    {
      "cell_type": "code",
      "execution_count": 246,
      "metadata": {},
      "outputs": [],
      "source": [
        "#change this out to NAME\n",
        "\n",
        "ct = ClinicalTrials()\n",
        "infodf= (ct.get_full_studies(search_expr=disease, max_studies=5 ))\n"
      ]
    },
    {
      "cell_type": "code",
      "execution_count": 247,
      "metadata": {},
      "outputs": [],
      "source": [
        "# type(infodf)"
      ]
    },
    {
      "cell_type": "code",
      "execution_count": 248,
      "metadata": {},
      "outputs": [
        {
          "name": "stdout",
          "output_type": "stream",
          "text": [
            "413909\n"
          ]
        }
      ],
      "source": [
        "number = print(infodf['FullStudiesResponse']['NStudiesFound'])"
      ]
    },
    {
      "cell_type": "code",
      "execution_count": 249,
      "metadata": {},
      "outputs": [
        {
          "ename": "ValueError",
          "evalue": "The search expression cannot be blank.",
          "output_type": "error",
          "traceback": [
            "\u001b[0;31m---------------------------------------------------------------------------\u001b[0m",
            "\u001b[0;31mValueError\u001b[0m                                Traceback (most recent call last)",
            "\u001b[1;32m/Volumes/Data_Backup/github/API_CT/api_ct_v3_clean.ipynb Cell 18'\u001b[0m in \u001b[0;36m<cell line: 1>\u001b[0;34m()\u001b[0m\n\u001b[0;32m----> <a href='vscode-notebook-cell:/Volumes/Data_Backup/github/API_CT/api_ct_v3_clean.ipynb#ch0000017?line=0'>1</a>\u001b[0m count \u001b[39m=\u001b[39m ct\u001b[39m.\u001b[39;49mget_study_count(search_expr\u001b[39m=\u001b[39;49mdisease)\n",
            "\u001b[1;32m/Volumes/Data_Backup/github/API_CT/api_ct_v3_clean.ipynb Cell 4'\u001b[0m in \u001b[0;36mClinicalTrials.get_study_count\u001b[0;34m(self, search_expr)\u001b[0m\n\u001b[1;32m    <a href='vscode-notebook-cell:/Volumes/Data_Backup/github/API_CT/api_ct_v3_clean.ipynb#ch0000003?line=118'>119</a>\u001b[0m \u001b[39m\"\"\"Returns study count for specified search expression\u001b[39;00m\n\u001b[1;32m    <a href='vscode-notebook-cell:/Volumes/Data_Backup/github/API_CT/api_ct_v3_clean.ipynb#ch0000003?line=119'>120</a>\u001b[0m \n\u001b[1;32m    <a href='vscode-notebook-cell:/Volumes/Data_Backup/github/API_CT/api_ct_v3_clean.ipynb#ch0000003?line=120'>121</a>\u001b[0m \u001b[39mRetrieves the count of studies matching the text entered in search_expr.\u001b[39;00m\n\u001b[0;32m   (...)\u001b[0m\n\u001b[1;32m    <a href='vscode-notebook-cell:/Volumes/Data_Backup/github/API_CT/api_ct_v3_clean.ipynb#ch0000003?line=130'>131</a>\u001b[0m \u001b[39m    ValueError: The search expression cannot be blank.\u001b[39;00m\n\u001b[1;32m    <a href='vscode-notebook-cell:/Volumes/Data_Backup/github/API_CT/api_ct_v3_clean.ipynb#ch0000003?line=131'>132</a>\u001b[0m \u001b[39m\"\"\"\u001b[39;00m\n\u001b[1;32m    <a href='vscode-notebook-cell:/Volumes/Data_Backup/github/API_CT/api_ct_v3_clean.ipynb#ch0000003?line=132'>133</a>\u001b[0m \u001b[39mif\u001b[39;00m \u001b[39mnot\u001b[39;00m \u001b[39mset\u001b[39m(search_expr):\n\u001b[0;32m--> <a href='vscode-notebook-cell:/Volumes/Data_Backup/github/API_CT/api_ct_v3_clean.ipynb#ch0000003?line=133'>134</a>\u001b[0m     \u001b[39mraise\u001b[39;00m \u001b[39mValueError\u001b[39;00m(\u001b[39m\"\u001b[39m\u001b[39mThe search expression cannot be blank.\u001b[39m\u001b[39m\"\u001b[39m)\n\u001b[1;32m    <a href='vscode-notebook-cell:/Volumes/Data_Backup/github/API_CT/api_ct_v3_clean.ipynb#ch0000003?line=134'>135</a>\u001b[0m \u001b[39melse\u001b[39;00m:\n\u001b[1;32m    <a href='vscode-notebook-cell:/Volumes/Data_Backup/github/API_CT/api_ct_v3_clean.ipynb#ch0000003?line=135'>136</a>\u001b[0m     req \u001b[39m=\u001b[39m \u001b[39mf\u001b[39m\u001b[39m\"\u001b[39m\u001b[39mstudy_fields?expr=\u001b[39m\u001b[39m{\u001b[39;00msearch_expr\u001b[39m}\u001b[39;00m\u001b[39m&max_rnk=1&fields=NCTId\u001b[39m\u001b[39m\"\u001b[39m\n",
            "\u001b[0;31mValueError\u001b[0m: The search expression cannot be blank."
          ]
        }
      ],
      "source": [
        "count = ct.get_study_count(search_expr=disease)\n"
      ]
    },
    {
      "cell_type": "code",
      "execution_count": null,
      "metadata": {},
      "outputs": [
        {
          "name": "stdout",
          "output_type": "stream",
          "text": [
            "1-999 of 16117\n",
            "1000-1998 of 16117\n",
            "1999-2997 of 16117\n",
            "2998-3996 of 16117\n",
            "3997-4995 of 16117\n",
            "4996-5994 of 16117\n",
            "5995-6993 of 16117\n",
            "6994-7992 of 16117\n",
            "7993-8991 of 16117\n",
            "8992-9990 of 16117\n",
            "9991-10989 of 16117\n",
            "10990-11988 of 16117\n",
            "11989-12987 of 16117\n",
            "12988-13986 of 16117\n",
            "13987-14985 of 16117\n",
            "14986-15984 of 16117\n",
            "15985-16983 of 16117\n"
          ]
        }
      ],
      "source": [
        "# count = 3000\n",
        "start = 0\n",
        "end = count\n",
        "iter = 999 #number of studies to get at a time ( limited to 1000 )\n",
        "\n",
        "\n",
        "\n",
        "\n",
        "\n",
        "temp = pd.DataFrame()\n",
        "temp2 = pd.DataFrame()\n",
        "new_df = pd.DataFrame()\n",
        "\n",
        "\n",
        "for i in range(1, count, iter):\n",
        "    # print(temp)\n",
        "    temp = ct.get_study_fields(\n",
        "        search_expr=disease,\n",
        "        fields=[\"NCTId\", \"Condition\", \"OfficialTitle\", \"BriefTitle\" , \"Acronym\" , \"StudyType\",\n",
        "    \"InterventionType\",\"InterventionName\",\"InterventionOtherName\",\"InterventionDescription\",\"Phase\" ,\"StudyFirstSubmitDate\",\"LastUpdateSubmitDate\",\"CompletionDate\",\"OverallStatus\",\"BaselineMeasureTitle\",\"BaselineMeasureDescription\",\"BaselineMeasurementValue\",\"BriefSummary\"],\n",
        "        max_studies=iter,\n",
        "        min_rnk=i,\n",
        "        fmt=\"csv\",)\n",
        "    # print(temp2[0])\n",
        "    iter2 = iter + (i-1)\n",
        "    print(str(i) + \"-\" + str(iter2) + \" of \" + str(count))\n",
        "    temp2 =  pd.DataFrame.from_records(temp[1:])\n",
        "    new_df = pd.concat([new_df, temp2])\n",
        " \n"
      ]
    },
    {
      "cell_type": "code",
      "execution_count": null,
      "metadata": {},
      "outputs": [],
      "source": [
        "new_df.columns = [\"Index\",\"NCTId\", \"Condition\", \"OfficialTitle\", \"BriefTitle\" , \"Acronym\" , \"StudyType\",\n",
        "    \"InterventionType\",\"InterventionName\",\"InterventionOtherName\",\"InterventionDescription\",\"Phase\" ,\"StudyFirstSubmitDate\",\"LastUpdateSubmitDate\",\"CompletionDate\",\"OverallStatus\",\"BaselineMeasureTitle\",\"BaselineMeasureDescription\",\"BaselineMeasurementValue\",\"BriefSummary\"]"
      ]
    },
    {
      "cell_type": "markdown",
      "metadata": {},
      "source": []
    },
    {
      "cell_type": "code",
      "execution_count": null,
      "metadata": {},
      "outputs": [
        {
          "data": {
            "text/plain": [
              "(16117, 20)"
            ]
          },
          "execution_count": 228,
          "metadata": {},
          "output_type": "execute_result"
        }
      ],
      "source": [
        "# new_df\n",
        "new_df.shape"
      ]
    },
    {
      "cell_type": "code",
      "execution_count": null,
      "metadata": {},
      "outputs": [
        {
          "data": {
            "text/plain": [
              "<bound method NDFrame.head of      Index        NCTId                                          Condition  \\\n",
              "0        1  NCT02735226                                             Stroke   \n",
              "1        2  NCT02301299                                    Ischemic Stroke   \n",
              "2        3  NCT02772445                                             Stroke   \n",
              "3        4  NCT00773370                                             Stroke   \n",
              "4        5  NCT03370094                                      Stroke, Acute   \n",
              "..     ...          ...                                                ...   \n",
              "128  16113  NCT02377388  Platelet Aggregation During Acute Myocardial I...   \n",
              "129  16114  NCT04190368                                    Type 1 Diabetes   \n",
              "130  16115  NCT04515875                          Mild Cognitive Impairment   \n",
              "131  16116  NCT03031821                 Prostate Cancer|Metabolic Syndrome   \n",
              "132  16117  NCT04891445                 Hepatitis C|Severe Mental Disorder   \n",
              "\n",
              "                                         OfficialTitle  \\\n",
              "0                       Shanghai Stroke Service System   \n",
              "1    Community Engagement for Early Recognition and...   \n",
              "2                         Stroke Caregiver Empowerment   \n",
              "3        Adaptive Physical Activity for Chronic Stroke   \n",
              "4    Prehospital Identification of Patients With Su...   \n",
              "..                                                 ...   \n",
              "128  DPP-4 Inhibitors in Patients With Type 2 Diabe...   \n",
              "129  Team Clinic: Virtual Expansion of an Innovativ...   \n",
              "130  Promoting Reengagement in Daily Meaningful Act...   \n",
              "131  A Randomized Phase 3 Trial of Metformin in Pat...   \n",
              "132  Efficacy of a Nursing Monitoring Program for D...   \n",
              "\n",
              "                                            BriefTitle      Acronym  \\\n",
              "0    Stroke Prevention and Treatment System in Shan...         SSSS   \n",
              "1    Community Engagement for Early Recognition and...      CEERIAS   \n",
              "2                         Stroke Caregiver Empowerment  STROKE-CARE   \n",
              "3        Adaptive Physical Activity for Chronic Stroke   APA-Stroke   \n",
              "4    Tele-Stroke: Prehospital Identification of Pat...  Tele-Stroke   \n",
              "..                                                 ...          ...   \n",
              "128  DPP-4 Inhibitors and Acute Myocardial Infarcti...                \n",
              "129  Team Clinic: Virtual Expansion of an Innovativ...                \n",
              "130  PRIMA Intervention for Adults With Mild Cognit...        PRIMA   \n",
              "131  Metformin in Patients Initiating ADT as Preven...        PRIME   \n",
              "132  Hepatitis C in Severe Mental Disorders: Nursin...   HEPASAME21   \n",
              "\n",
              "          StudyType       InterventionType  \\\n",
              "0     Observational                  Other   \n",
              "1     Observational             Behavioral   \n",
              "2    Interventional             Behavioral   \n",
              "3    Interventional  Behavioral|Behavioral   \n",
              "4     Observational        Diagnostic Test   \n",
              "..              ...                    ...   \n",
              "128  Interventional              Drug|Drug   \n",
              "129  Interventional            Other|Other   \n",
              "130  Interventional  Behavioral|Behavioral   \n",
              "131  Interventional              Drug|Drug   \n",
              "132  Interventional  Behavioral|Behavioral   \n",
              "\n",
              "                                      InterventionName  \\\n",
              "0               stroke network and policy intervention   \n",
              "1             Community-based Stroke Awareness Program   \n",
              "2                                          STROKE-CARE   \n",
              "3                                APA-Stroke|Sittercise   \n",
              "4    Audio-video-streaming of suspected stroke symp...   \n",
              "..                                                 ...   \n",
              "128                 sitagliptin OR saxagliptin|placebo   \n",
              "129                     Team Clinic Care|Standard Care   \n",
              "130  Daily Engagement Meaningful Activity (DEMA)|In...   \n",
              "131                      Metformin|Placebo Oral Tablet   \n",
              "132                Nursing monitoring program|As usual   \n",
              "\n",
              "                 InterventionOtherName  \\\n",
              "0                                        \n",
              "1    Community Stroke Promoter Program   \n",
              "2                                        \n",
              "3                                        \n",
              "4                                        \n",
              "..                                 ...   \n",
              "128         januvia ® OR onglyza ®|PBO   \n",
              "129                                      \n",
              "130                                      \n",
              "131                            Placebo   \n",
              "132                      Clinical Path   \n",
              "\n",
              "                               InterventionDescription           Phase  \\\n",
              "0    Shanghai stroke service and network contribute...                   \n",
              "1    A culturally-adapted stroke awareness and acti...                   \n",
              "2    In STROKE-CARE, caregivers will learn a proble...  Not Applicable   \n",
              "3    Exercise program design specifically for indiv...         Phase 1   \n",
              "4    The diagnosis based on the patient evaluation ...                   \n",
              "..                                                 ...             ...   \n",
              "128  sitagliptin OR saxagliptin tablets, 48(+-24) h...         Phase 3   \n",
              "129  Participants attend quarterly visits (1 visit ...  Not Applicable   \n",
              "130  This group will receive 7 individualized sessi...  Not Applicable   \n",
              "131  Metformin Duration: 18 months 850 mg PO OD x 3...         Phase 3   \n",
              "132  A clinical pathway will be activate that allow...  Not Applicable   \n",
              "\n",
              "    StudyFirstSubmitDate LastUpdateSubmitDate     CompletionDate  \\\n",
              "0         March 31, 2016        July 18, 2017      December 2018   \n",
              "1      November 21, 2014        July 31, 2019      June 30, 2019   \n",
              "2         March 31, 2016         July 1, 2021      December 2018   \n",
              "3       October 15, 2008      August 11, 2016         April 2014   \n",
              "4      November 28, 2017     January 20, 2020  December 31, 2019   \n",
              "..                   ...                  ...                ...   \n",
              "128      January 5, 2015      August 26, 2020  February 28, 2020   \n",
              "129        July 22, 2019       April 25, 2022  December 30, 2023   \n",
              "130        June 15, 2020     February 9, 2022      June 30, 2025   \n",
              "131     January 20, 2017       April 21, 2022       June 1, 2023   \n",
              "132       April 14, 2021       March 14, 2022  December 31, 2023   \n",
              "\n",
              "      OverallStatus                               BaselineMeasureTitle  \\\n",
              "0    Unknown status                                                      \n",
              "1         Completed  Age, Categorical|Sex: Female, Male|Race/Ethnic...   \n",
              "2         Completed                                                      \n",
              "3         Completed  Age, Continuous|Sex: Female, Male|Race/Ethnici...   \n",
              "4         Completed                                                      \n",
              "..              ...                                                ...   \n",
              "128       Completed                                                      \n",
              "129      Recruiting                                                      \n",
              "130      Recruiting                                                      \n",
              "131      Recruiting                                                      \n",
              "132      Recruiting                                                      \n",
              "\n",
              "                            BaselineMeasureDescription  \\\n",
              "0                                                        \n",
              "1                                                        \n",
              "2                                                        \n",
              "3    The Berg consists of 14 items, each graded on ...   \n",
              "4                                                        \n",
              "..                                                 ...   \n",
              "128                                                      \n",
              "129                                                      \n",
              "130                                                      \n",
              "131                                                      \n",
              "132                                                      \n",
              "\n",
              "                              BaselineMeasurementValue  \\\n",
              "0                                                        \n",
              "1             0|550|772|571|751|87|1176|43|16|1322|771   \n",
              "2                                                        \n",
              "3    63|65|64|21|16|37|22|17|39|17|13|30|24|14|38|1...   \n",
              "4                                                        \n",
              "..                                                 ...   \n",
              "128                                                      \n",
              "129                                                      \n",
              "130                                                      \n",
              "131                                                      \n",
              "132                                                      \n",
              "\n",
              "                                          BriefSummary  \n",
              "0    The Shanghai Stroke Service System（4S） has bee...  \n",
              "1    The investigators plan to develop and adapt a ...  \n",
              "2    The purpose of this study is to refine STROKE-...  \n",
              "3    This study will compare the Adaptive Physical ...  \n",
              "4    Observational Study to investigate the technic...  \n",
              "..                                                 ...  \n",
              "128  Cardiovascular events are the main cause of mo...  \n",
              "129  Team Clinic is a new care approach for middle ...  \n",
              "130  The investigators developed and tested the Dai...  \n",
              "131  This is a multi-centre, double-blind, randomiz...  \n",
              "132  It has been described in the scientific litera...  \n",
              "\n",
              "[16117 rows x 20 columns]>"
            ]
          },
          "execution_count": 229,
          "metadata": {},
          "output_type": "execute_result"
        }
      ],
      "source": [
        "new_df.head"
      ]
    },
    {
      "cell_type": "code",
      "execution_count": null,
      "metadata": {},
      "outputs": [
        {
          "name": "stdout",
          "output_type": "stream",
          "text": [
            "1-999 of 16117\n",
            "1000-1998 of 16117\n",
            "1999-2997 of 16117\n",
            "2998-3996 of 16117\n",
            "3997-4995 of 16117\n",
            "4996-5994 of 16117\n",
            "5995-6993 of 16117\n",
            "6994-7992 of 16117\n",
            "7993-8991 of 16117\n",
            "8992-9990 of 16117\n",
            "9991-10989 of 16117\n",
            "10990-11988 of 16117\n",
            "11989-12987 of 16117\n",
            "12988-13986 of 16117\n",
            "13987-14985 of 16117\n",
            "14986-15984 of 16117\n",
            "15985-16983 of 16117\n"
          ]
        }
      ],
      "source": [
        "# count = 3000\n",
        "start = 0\n",
        "end = count\n",
        "iter = 999 #number of studies to get at a time ( limited to 1000 )\n",
        "\n",
        "from random import seed\n",
        "from random import random\n",
        "\n",
        "\n",
        "\n",
        "temp = pd.DataFrame()\n",
        "temp2 = pd.DataFrame()\n",
        "new_df2 = pd.DataFrame()\n",
        "\n",
        "\n",
        "for i in range(1, count, iter):\n",
        "    # print(temp)\n",
        "    temp = ct.get_study_fields(\n",
        "        search_expr=disease,\n",
        "        fields=[\"NCTId\",\"IsFDARegulatedDrug\",\"IsFDARegulatedDevice\", \"IsUnapprovedDevice\", \"PrimaryOutcomeMeasure\", \"PrimaryOutcomeDescription\",\"PrimaryOutcomeTimeFrame\", \"SecondaryOutcomeMeasure\",\"SecondaryOutcomeDescription\", \"SecondaryOutcomeTimeFrame\",\"OtherOutcomeMeasure\"\n",
        ",\"OtherOutcomeDescription\",\"OtherOutcomeTimeFrame\",\"EligibilityCriteria\",\"StudyPopulation\",\"HealthyVolunteers\", \"ReferencePMID\", \"LocationCity\", \"LocationState\" , \"LocationFacility\"],\n",
        "        max_studies=iter,\n",
        "        min_rnk=i,\n",
        "        fmt=\"csv\",)\n",
        "    # print(temp2[0])\n",
        "    iter2 = iter + (i-1)\n",
        "    print(str(i) + \"-\" + str(iter2) + \" of \" + str(count))\n",
        "    temp2 =  pd.DataFrame.from_records(temp[1:])\n",
        "    new_df2 = pd.concat([new_df2, temp2])\n",
        " \n"
      ]
    },
    {
      "cell_type": "code",
      "execution_count": null,
      "metadata": {},
      "outputs": [],
      "source": [
        "new_df2.columns = [\"index\", \"NCTId\",\"IsFDARegulatedDrug\",\"IsFDARegulatedDevice\", \"IsUnapprovedDevice\", \"PrimaryOutcomeMeasure\", \"PrimaryOutcomeDescription\",\"PrimaryOutcomeTimeFrame\", \"SecondaryOutcomeMeasure\",\"SecondaryOutcomeDescription\", \"SecondaryOutcomeTimeFrame\",\"OtherOutcomeMeasure\"\n",
        ",\"OtherOutcomeDescription\",\"OtherOutcomeTimeFrame\",\"EligibilityCriteria\",\"StudyPopulation\",\"HealthyVolunteers\", \"ReferencePMID\", \"LocationCity\", \"LocationState\" , \"LocationFacility\"]"
      ]
    },
    {
      "cell_type": "code",
      "execution_count": null,
      "metadata": {},
      "outputs": [
        {
          "data": {
            "text/plain": [
              "(16117, 21)"
            ]
          },
          "execution_count": 232,
          "metadata": {},
          "output_type": "execute_result"
        }
      ],
      "source": [
        "new_df2.shape"
      ]
    },
    {
      "cell_type": "markdown",
      "metadata": {
        "id": "DQ1K9Cgd4xOC"
      },
      "source": [
        "##cleaning"
      ]
    },
    {
      "cell_type": "code",
      "execution_count": null,
      "metadata": {},
      "outputs": [],
      "source": [
        "# print(type(df1))"
      ]
    },
    {
      "cell_type": "markdown",
      "metadata": {},
      "source": []
    },
    {
      "cell_type": "code",
      "execution_count": null,
      "metadata": {
        "id": "EF7TnjRu4X9G"
      },
      "outputs": [],
      "source": [
        "result = pd.merge(new_df, new_df2,  on='NCTId', how='outer')"
      ]
    },
    {
      "cell_type": "code",
      "execution_count": null,
      "metadata": {},
      "outputs": [
        {
          "data": {
            "text/plain": [
              "(16117, 40)"
            ]
          },
          "execution_count": 235,
          "metadata": {},
          "output_type": "execute_result"
        }
      ],
      "source": [
        "result.shape"
      ]
    },
    {
      "cell_type": "markdown",
      "metadata": {},
      "source": [
        "IMPORTANT - this just drops the second index column - monitor or watch for mismatch or if you change the number of elements that are pulled from the first api"
      ]
    },
    {
      "cell_type": "code",
      "execution_count": null,
      "metadata": {},
      "outputs": [],
      "source": [
        "result = result.drop(result.columns[[20]], axis=1)"
      ]
    },
    {
      "cell_type": "code",
      "execution_count": null,
      "metadata": {
        "id": "phxa_Vqn5E5S"
      },
      "outputs": [
        {
          "data": {
            "text/plain": [
              "(16117, 39)"
            ]
          },
          "execution_count": 237,
          "metadata": {},
          "output_type": "execute_result"
        }
      ],
      "source": [
        "result.shape"
      ]
    },
    {
      "cell_type": "markdown",
      "metadata": {},
      "source": [
        "Save file"
      ]
    },
    {
      "cell_type": "code",
      "execution_count": null,
      "metadata": {
        "id": "Dgre9uB-INsI"
      },
      "outputs": [],
      "source": [
        "result.to_excel(r'data_raw.xlsx', index = False)"
      ]
    },
    {
      "cell_type": "code",
      "execution_count": null,
      "metadata": {},
      "outputs": [],
      "source": [
        "result.to_csv(r'data_raw.csv', index = False)"
      ]
    },
    {
      "cell_type": "code",
      "execution_count": null,
      "metadata": {},
      "outputs": [],
      "source": [
        "result.to_hdf('data_raw.h5', key='df', mode='w')  "
      ]
    },
    {
      "cell_type": "code",
      "execution_count": null,
      "metadata": {},
      "outputs": [],
      "source": []
    }
  ],
  "metadata": {
    "colab": {
      "collapsed_sections": [],
      "name": "HW2.ipynb",
      "provenance": []
    },
    "kernelspec": {
      "display_name": "Python 3",
      "name": "python3"
    },
    "language_info": {
      "codemirror_mode": {
        "name": "ipython",
        "version": 3
      },
      "file_extension": ".py",
      "mimetype": "text/x-python",
      "name": "python",
      "nbconvert_exporter": "python",
      "pygments_lexer": "ipython3",
      "version": "3.10.4"
    }
  },
  "nbformat": 4,
  "nbformat_minor": 0
}
