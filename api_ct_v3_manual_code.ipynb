{
  "cells": [
    {
      "cell_type": "markdown",
      "metadata": {
        "id": "Tid-wrNW11pW"
      },
      "source": [
        "# Load Depenency"
      ]
    },
    {
      "cell_type": "code",
      "execution_count": 197,
      "metadata": {
        "id": "ACtufjx41sXQ"
      },
      "outputs": [],
      "source": [
        "#Cleaned up Crypto Example\n",
        "from os import system\n",
        "import pandas as pd\n",
        "import requests\n",
        "import datetime as dt\n",
        "# from pytrials.client import ClinicalTrials\n",
        "import json\n",
        "import ipywidgets as widgets\n",
        "import numpy as np\n",
        "np.random.seed(10031975)\n",
        "import matplotlib.pyplot as plt\n",
        "import numpy as np\n",
        "from matplotlib import rcParams, cycler\n",
        "import matplotlib.pyplot as plt\n",
        "from matplotlib.ticker import AutoMinorLocator"
      ]
    },
    {
      "cell_type": "code",
      "execution_count": 198,
      "metadata": {},
      "outputs": [],
      "source": [
        "#does some error handling\n",
        "\n",
        "\n",
        "import sys\n",
        "import csv\n",
        "maxInt = sys.maxsize\n",
        "\n",
        "while True:\n",
        "    # decrease the maxInt value by factor 10 \n",
        "    # as long as the OverflowError occurs.\n",
        "\n",
        "    try:\n",
        "        csv.field_size_limit(maxInt)\n",
        "        break\n",
        "    except OverflowError:\n",
        "        maxInt = int(maxInt/10)"
      ]
    },
    {
      "cell_type": "code",
      "execution_count": 199,
      "metadata": {},
      "outputs": [],
      "source": [
        "from pytrials.utils import json_handler, csv_handler\n",
        "\n",
        "\n",
        "class ClinicalTrials:\n",
        "    \"\"\"ClinicalTrials API client\n",
        "\n",
        "    Provides functions to easily access the ClinicalTrials.gov API\n",
        "    (https://clinicaltrials.gov/api/)\n",
        "    in Python.\n",
        "\n",
        "    Attributes:\n",
        "        study_fields: List of all study fields you can use in your query.\n",
        "        api_info: Tuple containing the API version number and the last\n",
        "        time the database was updated.\n",
        "    \"\"\"\n",
        "\n",
        "    _BASE_URL = \"https://clinicaltrials.gov/api/\"\n",
        "    _INFO = \"info/\"\n",
        "    _QUERY = \"query/\"\n",
        "    _JSON = \"fmt=json\"\n",
        "    _CSV = \"fmt=csv\"\n",
        "\n",
        "    def __init__(self):\n",
        "        self.api_info = self.__api_info()\n",
        "\n",
        "    @property\n",
        "    def study_fields(self):\n",
        "        fields_list = json_handler(\n",
        "            f\"{self._BASE_URL}{self._INFO}study_fields_list?{self._JSON}\"\n",
        "        )\n",
        "        return fields_list[\"StudyFields\"][\"Fields\"]\n",
        "\n",
        "    def __api_info(self):\n",
        "        \"\"\"Returns information about the API\"\"\"\n",
        "        last_updated = json_handler(\n",
        "            f\"{self._BASE_URL}{self._INFO}data_vrs?{self._JSON}\"\n",
        "        )[\"DataVrs\"]\n",
        "        api_version = json_handler(f\"{self._BASE_URL}{self._INFO}api_vrs?{self._JSON}\")[\n",
        "            \"APIVrs\"\n",
        "        ]\n",
        "\n",
        "        return api_version, last_updated\n",
        "\n",
        "    def get_full_studies(self, search_expr, max_studies=50):\n",
        "        \"\"\"Returns all content for a maximum of 100 study records.\n",
        "\n",
        "        Retrieves information from the full studies endpoint, which gets all study fields.\n",
        "        This endpoint can only output JSON (Or not-supported XML) format and does not allow\n",
        "        requests for more than 100 studies at once.\n",
        "\n",
        "        Args:\n",
        "            search_expr (str): A string containing a search expression as specified by\n",
        "                `their documentation <https://clinicaltrials.gov/api/gui/ref/syntax#searchExpr>`_.\n",
        "            max_studies (int): An integer indicating the maximum number of studies to return.\n",
        "                Defaults to 50.\n",
        "\n",
        "        Returns:\n",
        "            dict: Object containing the information queried with the search expression.\n",
        "\n",
        "        Raises:\n",
        "            ValueError: The number of studies can only be between 1 and 100\n",
        "        \"\"\"\n",
        "        if max_studies > 100 or max_studies < 1:\n",
        "            raise ValueError(\"The number of studies can only be between 1 and 100\")\n",
        "\n",
        "        req = f\"full_studies?expr={search_expr}&max_rnk={max_studies}&{self._JSON}\"\n",
        "\n",
        "        full_studies = json_handler(f\"{self._BASE_URL}{self._QUERY}{req}\")\n",
        "\n",
        "        return full_studies\n",
        "\n",
        "    def get_study_fields(self, search_expr, fields, max_studies=50, min_rnk=1,fmt=\"csv\"):\n",
        "        \"\"\"Returns study content for specified fields\n",
        "\n",
        "        Retrieves information from the study fields endpoint, which acquires specified information\n",
        "        from a large (max 1000) studies. To see a list of all possible fields, check the class'\n",
        "        study_fields attribute.\n",
        "\n",
        "        Args:\n",
        "            search_expr (str): A string containing a search expression as specified by\n",
        "                `their documentation <https://clinicaltrials.gov/api/gui/ref/syntax#searchExpr>`_.\n",
        "            fields (list(str)): A list containing the desired information fields.\n",
        "            max_studies (int): An integer indicating the maximum number of studies to return.\n",
        "                Defaults to 50.\n",
        "            fmt (str): A string indicating the output format, csv or json. Defaults to csv.\n",
        "\n",
        "        Returns:\n",
        "            Either a dict, if fmt='json', or a list of records (e.g. a list of lists), if fmt='csv.\n",
        "            Both containing the maximum number of study fields queried using the specified search expression.\n",
        "\n",
        "        Raises:\n",
        "            ValueError: The number of studies can only be between 1 and 1000\n",
        "            ValueError: One of the fields is not valid! Check the study_fields attribute\n",
        "                for a list of valid ones.\n",
        "            ValueError: Format argument has to be either 'csv' or 'json'\n",
        "        \"\"\"\n",
        "        if max_studies > 1000 or max_studies < 1:\n",
        "            raise ValueError(\"The number of studies can only be between 1 and 1000\")\n",
        "        elif not set(fields).issubset(self.study_fields):\n",
        "            raise ValueError(\n",
        "                \"One of the fields is not valid! Check the study_fields attribute for a list of valid ones.\"\n",
        "            )\n",
        "        else:\n",
        "            concat_fields = \",\".join(fields)\n",
        "            # req = f\"study_fields?expr={search_expr}&max_rnk={max_studies}&fields={concat_fields}\"\n",
        "            req = f\"study_fields?expr={search_expr}&min_rnk={min_rnk}&max_rnk={max_studies+min_rnk-1}&fields={concat_fields}\"\n",
        "            if fmt == \"csv\":\n",
        "                url = f\"{self._BASE_URL}{self._QUERY}{req}&{self._CSV}\"\n",
        "                return csv_handler(url)\n",
        "\n",
        "            elif fmt == \"json\":\n",
        "                url = f\"{self._BASE_URL}{self._QUERY}{req}&{self._JSON}\"\n",
        "                return json_handler(url)\n",
        "\n",
        "            else:\n",
        "                raise ValueError(\"Format argument has to be either 'csv' or 'json'\")\n",
        "\n",
        "    def get_study_count(self, search_expr):\n",
        "        \"\"\"Returns study count for specified search expression\n",
        "\n",
        "        Retrieves the count of studies matching the text entered in search_expr.\n",
        "\n",
        "        Args:\n",
        "            search_expr (str): A string containing a search expression as specified by\n",
        "                `their documentation <https://clinicaltrials.gov/api/gui/ref/syntax#searchExpr>`_.\n",
        "\n",
        "        Returns:\n",
        "            An integer\n",
        "\n",
        "        Raises:\n",
        "            ValueError: The search expression cannot be blank.\n",
        "        \"\"\"\n",
        "        if not set(search_expr):\n",
        "            raise ValueError(\"The search expression cannot be blank.\")\n",
        "        else:\n",
        "            req = f\"study_fields?expr={search_expr}&max_rnk=1&fields=NCTId\"\n",
        "            url = f\"{self._BASE_URL}{self._QUERY}{req}&{self._JSON}\"\n",
        "            returned_data = json_handler(url)\n",
        "            study_count = returned_data[\"StudyFieldsResponse\"][\"NStudiesFound\"]\n",
        "            return study_count\n",
        "\n",
        "    def __repr__(self):\n",
        "        return f\"ClinicalTrials.gov client v{self.api_info[0]}, database last updated {self.api_info[1]}\""
      ]
    },
    {
      "cell_type": "markdown",
      "metadata": {
        "id": "0oKv5xQg2hgJ"
      },
      "source": [
        "# Load Data"
      ]
    },
    {
      "cell_type": "markdown",
      "metadata": {},
      "source": [
        "https://clinicaltrials.gov/api/gui/ref/crosswalks"
      ]
    },
    {
      "cell_type": "markdown",
      "metadata": {},
      "source": [
        "Disease 2 search for"
      ]
    },
    {
      "cell_type": "markdown",
      "metadata": {},
      "source": [
        "This is for dymanic input of diease searching"
      ]
    },
    {
      "cell_type": "code",
      "execution_count": null,
      "metadata": {},
      "outputs": [],
      "source": []
    },
    {
      "cell_type": "code",
      "execution_count": 200,
      "metadata": {},
      "outputs": [],
      "source": [
        "# disease=input()\n",
        "# print(disease)"
      ]
    },
    {
      "cell_type": "code",
      "execution_count": 201,
      "metadata": {},
      "outputs": [],
      "source": [
        "# disease = 'parkinson'\n",
        "\n",
        "#disease = 'depression'\n",
        "\n",
        "# disease = 'diabetes'\n",
        "\n",
        "disease = 'tdcs'\n",
        "\n"
      ]
    },
    {
      "cell_type": "markdown",
      "metadata": {},
      "source": [
        "hit mesh some day"
      ]
    },
    {
      "cell_type": "markdown",
      "metadata": {},
      "source": [
        "Pull ONE"
      ]
    },
    {
      "cell_type": "markdown",
      "metadata": {
        "id": "h_DJC1iG4RSB"
      },
      "source": [
        "#Explore Data"
      ]
    },
    {
      "cell_type": "code",
      "execution_count": 202,
      "metadata": {},
      "outputs": [],
      "source": [
        "#change this out to NAME\n",
        "\n",
        "ct = ClinicalTrials()\n",
        "infodf= (ct.get_full_studies(search_expr=disease, max_studies=5 ))\n"
      ]
    },
    {
      "cell_type": "code",
      "execution_count": 203,
      "metadata": {},
      "outputs": [
        {
          "data": {
            "text/plain": [
              "dict"
            ]
          },
          "execution_count": 203,
          "metadata": {},
          "output_type": "execute_result"
        }
      ],
      "source": [
        "type(infodf)"
      ]
    },
    {
      "cell_type": "code",
      "execution_count": 204,
      "metadata": {},
      "outputs": [
        {
          "name": "stdout",
          "output_type": "stream",
          "text": [
            "1396\n"
          ]
        }
      ],
      "source": [
        "number = print(infodf['FullStudiesResponse']['NStudiesFound'])"
      ]
    },
    {
      "cell_type": "code",
      "execution_count": 205,
      "metadata": {},
      "outputs": [],
      "source": [
        "count = ct.get_study_count(search_expr=disease)\n"
      ]
    },
    {
      "cell_type": "code",
      "execution_count": 206,
      "metadata": {},
      "outputs": [],
      "source": [
        "# count = 3000\n",
        "start = 0\n",
        "end = count\n",
        "iter = 999 #number of studies to get at a time ( limited to 1000 )\n",
        "\n",
        "from random import seed\n",
        "from random import random\n",
        "\n",
        "\n",
        "\n",
        "temp = pd.DataFrame()\n",
        "temp2 = pd.DataFrame()\n",
        "new_df = pd.DataFrame()\n",
        "\n",
        "\n",
        "for i in range(1, count, iter):\n",
        "    # print(temp)\n",
        "    temp = ct.get_study_fields(\n",
        "        search_expr=disease,\n",
        "        fields=[\"NCTId\", \"Condition\", \"OfficialTitle\", \"BriefTitle\" , \"Acronym\" , \"StudyType\",\n",
        "    \"InterventionType\",\"InterventionName\",\"InterventionOtherName\",\"InterventionDescription\",\"Phase\" ,\"StudyFirstSubmitDate\",\"LastUpdateSubmitDate\",\"CompletionDate\",\"OverallStatus\",\"BaselineMeasureTitle\",\"BaselineMeasureDescription\",\"BaselineMeasurementValue\",\"BriefSummary\"],\n",
        "        max_studies=iter,\n",
        "        min_rnk=i,\n",
        "        fmt=\"csv\",)\n",
        "    # print(temp2[0])\n",
        "    temp2 =  pd.DataFrame.from_records(temp[1:])\n",
        "    new_df = pd.concat([new_df, temp2])\n",
        " \n"
      ]
    },
    {
      "cell_type": "code",
      "execution_count": 207,
      "metadata": {},
      "outputs": [],
      "source": [
        "new_df.columns = [\"Index\",\"NCTId\", \"Condition\", \"OfficialTitle\", \"BriefTitle\" , \"Acronym\" , \"StudyType\",\n",
        "    \"InterventionType\",\"InterventionName\",\"InterventionOtherName\",\"InterventionDescription\",\"Phase\" ,\"StudyFirstSubmitDate\",\"LastUpdateSubmitDate\",\"CompletionDate\",\"OverallStatus\",\"BaselineMeasureTitle\",\"BaselineMeasureDescription\",\"BaselineMeasurementValue\",\"BriefSummary\"]"
      ]
    },
    {
      "cell_type": "markdown",
      "metadata": {},
      "source": [
        "'NStudiesFound': 3656,"
      ]
    },
    {
      "cell_type": "code",
      "execution_count": 208,
      "metadata": {},
      "outputs": [
        {
          "data": {
            "text/plain": [
              "(1396, 20)"
            ]
          },
          "execution_count": 208,
          "metadata": {},
          "output_type": "execute_result"
        }
      ],
      "source": [
        "# new_df\n",
        "new_df.shape"
      ]
    },
    {
      "cell_type": "code",
      "execution_count": 209,
      "metadata": {},
      "outputs": [
        {
          "data": {
            "text/plain": [
              "<bound method NDFrame.head of     Index        NCTId                                          Condition  \\\n",
              "0       1  NCT03288363                                  Alzheimer Disease   \n",
              "1       2  NCT02161302                         Chronic Pain|Endometriosis   \n",
              "2       3  NCT04759092                                  Alzheimer Disease   \n",
              "3       4  NCT03879044                          Shift-Work Sleep Disorder   \n",
              "4       5  NCT02665988                 Chronic Pain|Psychiatric Disorders   \n",
              "..    ...          ...                                                ...   \n",
              "392  1392  NCT02921061  Mixed Phenotype Acute Leukemia|Previously Trea...   \n",
              "393  1393  NCT04545294  Schizophrenia|Schizoaffective Disorder|Negativ...   \n",
              "394  1394  NCT04038788  Schizophrenia|Schizoaffective Disorder|Psychot...   \n",
              "395  1395  NCT00801489  Acute Myeloid Leukemia With Inv(16)(p13.1q22);...   \n",
              "396  1396  NCT00416598  Acute Myeloid Leukemia|Acute Myeloid Leukemia ...   \n",
              "\n",
              "                                         OfficialTitle  \\\n",
              "0    Effects at 12 Weeks of Transcranial Direct Cur...   \n",
              "1    THE EFFECT OF TRANSCRANIAL DIRECT CURRENT STIM...   \n",
              "2    A Four Month Home Based tDCS Study on Patients...   \n",
              "3    Transcranial Direct Current Stimulation Therap...   \n",
              "4    A Single-Blind, Randomized Control Trial of Ad...   \n",
              "..                                                 ...   \n",
              "392  Phase 1/2 Study of Concurrent Decitabine in Co...   \n",
              "393  Online Left-hemispheric Frontoparietal Theta I...   \n",
              "394  The Effects of High-Definition High-Frequency ...   \n",
              "395  A Phase 2 Study of Fludarabine, Cytarabine, Fi...   \n",
              "396  Phase II Study of Maintenance Therapy With Dec...   \n",
              "\n",
              "                                            BriefTitle     Acronym  \\\n",
              "0    Transcranial Direct Current Stimulation and Ea...     tDCS-AD   \n",
              "1    THE EFFECT OF tDCS IN THE TREATMENT OF CHRONIC...        tDCS   \n",
              "2    A Four Month Home Based tDCS Study on Patients...        tDCS   \n",
              "3    Transcranial Direct Current Stimulation Therap...  tDCS-SWORD   \n",
              "4    Adjunctive Transcranial Direct Current Stimula...        tDCS   \n",
              "..                                                 ...         ...   \n",
              "392  Decitabine With GCLAM for Adults With Newly Di...               \n",
              "393  Theta tACS During Working Memory Training: A P...               \n",
              "394  Add-on HD Hf-tRNS Over Bilateral DLPFC for Tre...               \n",
              "395  Fludarabine Phosphate, Cytarabine, Filgrastim-...               \n",
              "396  Decitabine as Maintenance Therapy After Standa...               \n",
              "\n",
              "          StudyType                                   InterventionType  \\\n",
              "0    Interventional                                             Device   \n",
              "1    Interventional                                      Device|Device   \n",
              "2    Interventional                                             Device   \n",
              "3    Interventional                                             Device   \n",
              "4    Interventional                                      Device|Device   \n",
              "..              ...                                                ...   \n",
              "392  Interventional               Drug|Drug|Drug|Biological|Other|Drug   \n",
              "393  Interventional                                             Device   \n",
              "394  Interventional                                             Device   \n",
              "395  Interventional          Drug|Drug|Biological|Drug|Drug|Drug|Other   \n",
              "396  Interventional  Procedure|Procedure|Drug|Drug|Drug|Drug|Drug|B...   \n",
              "\n",
              "                                      InterventionName  \\\n",
              "0                                                 tDCS   \n",
              "1    transcranial direct current stimulation (tDCS)...   \n",
              "2       transcranial direct current stimulation (tDCS)   \n",
              "3              Transcranial Direct Current Stimulation   \n",
              "4                                       tDCS|Sham tDCS   \n",
              "..                                                 ...   \n",
              "392  Cladribine|Cytarabine|Decitabine|Filgrastim|La...   \n",
              "393                                         Theta tACS   \n",
              "394                                         HD hf-tRNS   \n",
              "395  Cytarabine|Decitabine|Filgrastim-sndz|Fludarab...   \n",
              "396  Autologous Bone Marrow Transplantation|Autolog...   \n",
              "\n",
              "                                 InterventionOtherName  \\\n",
              "0              transcranial direct current stimulation   \n",
              "1                                       tDCS|Sham tDCS   \n",
              "2                                                 tDCS   \n",
              "3                                                 tDCS   \n",
              "4    transcranial Direct Current Stimulation|Sham t...   \n",
              "..                                                 ...   \n",
              "392  2-CdA|2CDA|CdA|Cladribina|Leustat|Leustatin|Le...   \n",
              "393                                                      \n",
              "394                                                      \n",
              "395  .beta.-Cytosine arabinoside|1-.beta.-D-Arabino...   \n",
              "396  ABMT|Autologous Bone Marrow Transplant|Autolog...   \n",
              "\n",
              "                               InterventionDescription            Phase  \\\n",
              "0    20 sessions of tDCS stimulation on dorsolatera...   Not Applicable   \n",
              "1    The stimulation will be administered with a pa...          Phase 2   \n",
              "2    Apply 30min low dose (2mA) transcranial curren...   Not Applicable   \n",
              "3    tDCS is a form of noninvasive, painless, brain...   Not Applicable   \n",
              "4    Prior to initiating the real tDCS trial and to...   Not Applicable   \n",
              "..                                                 ...              ...   \n",
              "392  Given IV|Given IV|Given IV|Given SC|Correlativ...  Phase 1|Phase 2   \n",
              "393  See detail in arm/group descriptions regarding...   Not Applicable   \n",
              "394  See detail in arm/group descriptions regarding...   Not Applicable   \n",
              "395  Given IV|Given IV|Given SC|Given IV|Given IV|G...          Phase 2   \n",
              "396  Undergo autologous bone marrow transplantation...          Phase 2   \n",
              "\n",
              "    StudyFirstSubmitDate LastUpdateSubmitDate    CompletionDate  \\\n",
              "0     September 17, 2017     October 21, 2021  December 6, 2024   \n",
              "1          June 10, 2014        June 10, 2014          May 2016   \n",
              "2       January 28, 2021      October 4, 2021       May 1, 2021   \n",
              "3         March 12, 2019     October 22, 2021     June 20, 2020   \n",
              "4       January 22, 2016       March 22, 2021      January 2018   \n",
              "..                   ...                  ...               ...   \n",
              "392   September 29, 2016    February 21, 2020  October 24, 2018   \n",
              "393    September 3, 2020   September 20, 2020    April 10, 2020   \n",
              "394        July 18, 2019        July 28, 2019      May 17, 2019   \n",
              "395     December 2, 2008     October 27, 2021    April 30, 2022   \n",
              "396    December 27, 2006     January 29, 2019  December 1, 2016   \n",
              "\n",
              "      OverallStatus                               BaselineMeasureTitle  \\\n",
              "0        Recruiting                                                      \n",
              "1    Unknown status                                                      \n",
              "2         Completed                                                      \n",
              "3        Terminated  Age, Continuous|Sex: Female, Male|Ethnicity (N...   \n",
              "4        Terminated  Age, Categorical|Sex: Female, Male|Race (NIH/O...   \n",
              "..              ...                                                ...   \n",
              "392       Completed  Age, Continuous|Sex: Female, Male|Ethnicity (N...   \n",
              "393       Completed                                                      \n",
              "394       Completed                                                      \n",
              "395      Recruiting                                                      \n",
              "396       Completed  Age, Continuous|Sex: Female, Male|Ethnicity (N...   \n",
              "\n",
              "    BaselineMeasureDescription  \\\n",
              "0                                \n",
              "1                                \n",
              "2                                \n",
              "3                                \n",
              "4                                \n",
              "..                         ...   \n",
              "392                              \n",
              "393                              \n",
              "394                              \n",
              "395                              \n",
              "396                              \n",
              "\n",
              "                              BaselineMeasurementValue  \\\n",
              "0                                                        \n",
              "1                                                        \n",
              "2                                                        \n",
              "3                  31.33|24|2|1|24|1|0|2|0|4|18|2|0|26   \n",
              "4    0|0|0|2|2|4|0|0|0|2|2|4|0|0|0|0|0|0|0|0|0|0|0|...   \n",
              "..                                                 ...   \n",
              "392                     67|10|18|2|26|0|3|0|0|0|25|0|0   \n",
              "393                                                      \n",
              "394                                                      \n",
              "395                                                      \n",
              "396                              45|56|78|4|111|19|134   \n",
              "\n",
              "                                          BriefSummary  \n",
              "0    TDCS is a rapidly expanding technique, used to...  \n",
              "1    The purpose of this study is to determine if t...  \n",
              "2    The study is an open label study on patients w...  \n",
              "3    To determine the effects of tDCS on subjective...  \n",
              "4    Transcranial direct current stimulation (tDCS)...  \n",
              "..                                                 ...  \n",
              "392  This phase I/II trial studies the side effects...  \n",
              "393  In this randomized double-blind trial, we inve...  \n",
              "394  The study aimed to investigate the effects of ...  \n",
              "395  This phase II trial studies the side effects a...  \n",
              "396  This phase II trial is studying the side effec...  \n",
              "\n",
              "[1396 rows x 20 columns]>"
            ]
          },
          "execution_count": 209,
          "metadata": {},
          "output_type": "execute_result"
        }
      ],
      "source": [
        "new_df.head"
      ]
    },
    {
      "cell_type": "code",
      "execution_count": 210,
      "metadata": {},
      "outputs": [],
      "source": [
        "# temp = pd.DataFrame.from_records(api_pull_2[1:], columns=api_pull_2[0])"
      ]
    },
    {
      "cell_type": "code",
      "execution_count": 211,
      "metadata": {},
      "outputs": [],
      "source": [
        "# print(temp.shape)"
      ]
    },
    {
      "cell_type": "code",
      "execution_count": 212,
      "metadata": {},
      "outputs": [],
      "source": [
        "# count = 3000\n",
        "start = 0\n",
        "end = count\n",
        "iter = 999 #number of studies to get at a time ( limited to 1000 )\n",
        "\n",
        "from random import seed\n",
        "from random import random\n",
        "\n",
        "\n",
        "\n",
        "temp = pd.DataFrame()\n",
        "temp2 = pd.DataFrame()\n",
        "new_df2 = pd.DataFrame()\n",
        "\n",
        "\n",
        "for i in range(1, count, iter):\n",
        "    # print(temp)\n",
        "    temp = ct.get_study_fields(\n",
        "        search_expr=disease,\n",
        "        fields=[\"NCTId\",\"IsFDARegulatedDrug\",\"IsFDARegulatedDevice\", \"IsUnapprovedDevice\", \"PrimaryOutcomeMeasure\", \"PrimaryOutcomeDescription\",\"PrimaryOutcomeTimeFrame\", \"SecondaryOutcomeMeasure\",\"SecondaryOutcomeDescription\", \"SecondaryOutcomeTimeFrame\",\"OtherOutcomeMeasure\"\n",
        ",\"OtherOutcomeDescription\",\"OtherOutcomeTimeFrame\",\"EligibilityCriteria\",\"StudyPopulation\",\"HealthyVolunteers\", \"ReferencePMID\", \"LocationCity\", \"LocationState\" , \"LocationFacility\"],\n",
        "        max_studies=iter,\n",
        "        min_rnk=i,\n",
        "        fmt=\"csv\",)\n",
        "    # print(temp2[0])\n",
        "    temp2 =  pd.DataFrame.from_records(temp[1:])\n",
        "    new_df2 = pd.concat([new_df2, temp2])\n",
        " \n"
      ]
    },
    {
      "cell_type": "code",
      "execution_count": 213,
      "metadata": {},
      "outputs": [],
      "source": [
        "new_df2.columns = [\"index\", \"NCTId\",\"IsFDARegulatedDrug\",\"IsFDARegulatedDevice\", \"IsUnapprovedDevice\", \"PrimaryOutcomeMeasure\", \"PrimaryOutcomeDescription\",\"PrimaryOutcomeTimeFrame\", \"SecondaryOutcomeMeasure\",\"SecondaryOutcomeDescription\", \"SecondaryOutcomeTimeFrame\",\"OtherOutcomeMeasure\"\n",
        ",\"OtherOutcomeDescription\",\"OtherOutcomeTimeFrame\",\"EligibilityCriteria\",\"StudyPopulation\",\"HealthyVolunteers\", \"ReferencePMID\", \"LocationCity\", \"LocationState\" , \"LocationFacility\"]"
      ]
    },
    {
      "cell_type": "code",
      "execution_count": 214,
      "metadata": {},
      "outputs": [
        {
          "data": {
            "text/plain": [
              "(1396, 21)"
            ]
          },
          "execution_count": 214,
          "metadata": {},
          "output_type": "execute_result"
        }
      ],
      "source": [
        "new_df2.shape"
      ]
    },
    {
      "cell_type": "code",
      "execution_count": 215,
      "metadata": {},
      "outputs": [
        {
          "data": {
            "text/html": [
              "<div>\n",
              "<style scoped>\n",
              "    .dataframe tbody tr th:only-of-type {\n",
              "        vertical-align: middle;\n",
              "    }\n",
              "\n",
              "    .dataframe tbody tr th {\n",
              "        vertical-align: top;\n",
              "    }\n",
              "\n",
              "    .dataframe thead th {\n",
              "        text-align: right;\n",
              "    }\n",
              "</style>\n",
              "<table border=\"1\" class=\"dataframe\">\n",
              "  <thead>\n",
              "    <tr style=\"text-align: right;\">\n",
              "      <th></th>\n",
              "      <th>index</th>\n",
              "      <th>NCTId</th>\n",
              "      <th>IsFDARegulatedDrug</th>\n",
              "      <th>IsFDARegulatedDevice</th>\n",
              "      <th>IsUnapprovedDevice</th>\n",
              "      <th>PrimaryOutcomeMeasure</th>\n",
              "      <th>PrimaryOutcomeDescription</th>\n",
              "      <th>PrimaryOutcomeTimeFrame</th>\n",
              "      <th>SecondaryOutcomeMeasure</th>\n",
              "      <th>SecondaryOutcomeDescription</th>\n",
              "      <th>...</th>\n",
              "      <th>OtherOutcomeMeasure</th>\n",
              "      <th>OtherOutcomeDescription</th>\n",
              "      <th>OtherOutcomeTimeFrame</th>\n",
              "      <th>EligibilityCriteria</th>\n",
              "      <th>StudyPopulation</th>\n",
              "      <th>HealthyVolunteers</th>\n",
              "      <th>ReferencePMID</th>\n",
              "      <th>LocationCity</th>\n",
              "      <th>LocationState</th>\n",
              "      <th>LocationFacility</th>\n",
              "    </tr>\n",
              "  </thead>\n",
              "  <tbody>\n",
              "    <tr>\n",
              "      <th>0</th>\n",
              "      <td>1</td>\n",
              "      <td>NCT03288363</td>\n",
              "      <td>No</td>\n",
              "      <td>No</td>\n",
              "      <td></td>\n",
              "      <td>Comparing between the active tDCS group with t...</td>\n",
              "      <td>difference of ADAS-Cog psychometric scale scor...</td>\n",
              "      <td>3 months</td>\n",
              "      <td></td>\n",
              "      <td></td>\n",
              "      <td>...</td>\n",
              "      <td></td>\n",
              "      <td></td>\n",
              "      <td></td>\n",
              "      <td>Inclusion Criteria:||A man or woman with proba...</td>\n",
              "      <td></td>\n",
              "      <td>No</td>\n",
              "      <td></td>\n",
              "      <td>Limoges</td>\n",
              "      <td></td>\n",
              "      <td>Centre Hospitalier Esquirol</td>\n",
              "    </tr>\n",
              "    <tr>\n",
              "      <th>1</th>\n",
              "      <td>2</td>\n",
              "      <td>NCT02161302</td>\n",
              "      <td></td>\n",
              "      <td></td>\n",
              "      <td></td>\n",
              "      <td>Change in worst daily pain assessed with the v...</td>\n",
              "      <td>Patients will be asked to daily write down the...</td>\n",
              "      <td>Once Daily. Start 7 days before treatment, eve...</td>\n",
              "      <td>Change in serum biomarkers level: The brain de...</td>\n",
              "      <td>A blood sample will be colected to measure BDN...</td>\n",
              "      <td>...</td>\n",
              "      <td>Depressive symptoms level|Anxiety level|Psychi...</td>\n",
              "      <td>Depression symptoms will be assessed by using ...</td>\n",
              "      <td>Treatment Day 1 (before receiving the 1st sess...</td>\n",
              "      <td>Inclusion Criteria:||age &gt; 18 years old, non-m...</td>\n",
              "      <td></td>\n",
              "      <td>No</td>\n",
              "      <td>21170277|20945016|18312584|14677403|20633386|2...</td>\n",
              "      <td>Porto Alegre</td>\n",
              "      <td>Rio Grande do Sul</td>\n",
              "      <td>Hospital de Clínicas de Porto Alegre</td>\n",
              "    </tr>\n",
              "    <tr>\n",
              "      <th>2</th>\n",
              "      <td>3</td>\n",
              "      <td>NCT04759092</td>\n",
              "      <td>No</td>\n",
              "      <td>No</td>\n",
              "      <td></td>\n",
              "      <td>To investigate adverse effects of the treatmen...</td>\n",
              "      <td>Investigation of tolerability of long term hom...</td>\n",
              "      <td>4 months|8 months</td>\n",
              "      <td></td>\n",
              "      <td></td>\n",
              "      <td>...</td>\n",
              "      <td></td>\n",
              "      <td></td>\n",
              "      <td></td>\n",
              "      <td>Inclusion Criteria:||Age 60-85.|Fulfil diagnos...</td>\n",
              "      <td></td>\n",
              "      <td>No</td>\n",
              "      <td></td>\n",
              "      <td>Tromsø</td>\n",
              "      <td>Troms</td>\n",
              "      <td>University Hospital of North Norway</td>\n",
              "    </tr>\n",
              "    <tr>\n",
              "      <th>3</th>\n",
              "      <td>4</td>\n",
              "      <td>NCT03879044</td>\n",
              "      <td>No</td>\n",
              "      <td>Yes</td>\n",
              "      <td></td>\n",
              "      <td>Psychomotor Vigilance Test|Karolinska Sleepine...</td>\n",
              "      <td>Objective measure of sleepiness. Scale ranges ...</td>\n",
              "      <td>3 minutes|5 minutes</td>\n",
              "      <td>Epworth Sleepiness Scale</td>\n",
              "      <td>Subjective measure of sleepiness. The scale ra...</td>\n",
              "      <td>...</td>\n",
              "      <td></td>\n",
              "      <td></td>\n",
              "      <td></td>\n",
              "      <td>Inclusion Criteria:||age 18-65 years|works 5 o...</td>\n",
              "      <td></td>\n",
              "      <td>No</td>\n",
              "      <td></td>\n",
              "      <td>Columbus</td>\n",
              "      <td>Ohio</td>\n",
              "      <td>The Ohio State University</td>\n",
              "    </tr>\n",
              "    <tr>\n",
              "      <th>4</th>\n",
              "      <td>5</td>\n",
              "      <td>NCT02665988</td>\n",
              "      <td></td>\n",
              "      <td></td>\n",
              "      <td></td>\n",
              "      <td>Change From Baseline in Visual Analogue Scale ...</td>\n",
              "      <td>Visual analogue scale measure for pain. Score ...</td>\n",
              "      <td>On a weekly basis: 1) Day 1 (first day of tDCS...</td>\n",
              "      <td></td>\n",
              "      <td></td>\n",
              "      <td>...</td>\n",
              "      <td></td>\n",
              "      <td></td>\n",
              "      <td></td>\n",
              "      <td>Inclusion Criteria:||Males and females greater...</td>\n",
              "      <td></td>\n",
              "      <td>No</td>\n",
              "      <td></td>\n",
              "      <td>Houston</td>\n",
              "      <td>Texas</td>\n",
              "      <td>The Pain Management Program at The Menninger C...</td>\n",
              "    </tr>\n",
              "    <tr>\n",
              "      <th>...</th>\n",
              "      <td>...</td>\n",
              "      <td>...</td>\n",
              "      <td>...</td>\n",
              "      <td>...</td>\n",
              "      <td>...</td>\n",
              "      <td>...</td>\n",
              "      <td>...</td>\n",
              "      <td>...</td>\n",
              "      <td>...</td>\n",
              "      <td>...</td>\n",
              "      <td>...</td>\n",
              "      <td>...</td>\n",
              "      <td>...</td>\n",
              "      <td>...</td>\n",
              "      <td>...</td>\n",
              "      <td>...</td>\n",
              "      <td>...</td>\n",
              "      <td>...</td>\n",
              "      <td>...</td>\n",
              "      <td>...</td>\n",
              "      <td>...</td>\n",
              "    </tr>\n",
              "    <tr>\n",
              "      <th>392</th>\n",
              "      <td>1392</td>\n",
              "      <td>NCT02921061</td>\n",
              "      <td>Yes</td>\n",
              "      <td></td>\n",
              "      <td></td>\n",
              "      <td>Number of Participants Experiencing Dose Limit...</td>\n",
              "      <td>Evaluated according to National Cancer Institu...</td>\n",
              "      <td>Up to 49 days</td>\n",
              "      <td>Number of Participants With Minimal Residual D...</td>\n",
              "      <td>Compared to historical controls of filgrastim,...</td>\n",
              "      <td>...</td>\n",
              "      <td></td>\n",
              "      <td></td>\n",
              "      <td></td>\n",
              "      <td>Inclusion Criteria:||For patients with newly d...</td>\n",
              "      <td></td>\n",
              "      <td>No</td>\n",
              "      <td>32077361</td>\n",
              "      <td>Seattle</td>\n",
              "      <td>Washington</td>\n",
              "      <td>Fred Hutch/University of Washington Cancer Con...</td>\n",
              "    </tr>\n",
              "    <tr>\n",
              "      <th>393</th>\n",
              "      <td>1393</td>\n",
              "      <td>NCT04545294</td>\n",
              "      <td>No</td>\n",
              "      <td>No</td>\n",
              "      <td></td>\n",
              "      <td>The change over time in the negative symptoms ...</td>\n",
              "      <td>A clinician-administered rating scale to measu...</td>\n",
              "      <td>Five weeks</td>\n",
              "      <td>The change over time in the Chinese version of...</td>\n",
              "      <td>A clinician-administered rating scale to measu...</td>\n",
              "      <td>...</td>\n",
              "      <td></td>\n",
              "      <td></td>\n",
              "      <td></td>\n",
              "      <td>Inclusion Criteria:||Eligible participants age...</td>\n",
              "      <td></td>\n",
              "      <td>No</td>\n",
              "      <td>27023427|25477826|27930934|23993864|25528757|2...</td>\n",
              "      <td>Taipei</td>\n",
              "      <td></td>\n",
              "      <td>Tri-service general hospital</td>\n",
              "    </tr>\n",
              "    <tr>\n",
              "      <th>394</th>\n",
              "      <td>1394</td>\n",
              "      <td>NCT04038788</td>\n",
              "      <td>No</td>\n",
              "      <td>No</td>\n",
              "      <td></td>\n",
              "      <td>Changes from baseline negative dimension score...</td>\n",
              "      <td>A clinician-administered rating scale to measu...</td>\n",
              "      <td>One month</td>\n",
              "      <td>Changes from baseline scores at Personal and S...</td>\n",
              "      <td>A clinician-administered rating scale to measu...</td>\n",
              "      <td>...</td>\n",
              "      <td></td>\n",
              "      <td></td>\n",
              "      <td></td>\n",
              "      <td>Inclusion Criteria:||Eligible participants age...</td>\n",
              "      <td></td>\n",
              "      <td>No</td>\n",
              "      <td>33096356</td>\n",
              "      <td>Taipei</td>\n",
              "      <td></td>\n",
              "      <td>Tri-service general hospital</td>\n",
              "    </tr>\n",
              "    <tr>\n",
              "      <th>395</th>\n",
              "      <td>1395</td>\n",
              "      <td>NCT00801489</td>\n",
              "      <td>Yes</td>\n",
              "      <td>No</td>\n",
              "      <td></td>\n",
              "      <td>Complete remission rate|Toxicity rate</td>\n",
              "      <td></td>\n",
              "      <td>Up to 2 years|Up to 2 years</td>\n",
              "      <td></td>\n",
              "      <td></td>\n",
              "      <td>...</td>\n",
              "      <td></td>\n",
              "      <td></td>\n",
              "      <td></td>\n",
              "      <td>Inclusion Criteria:||Patients must have untrea...</td>\n",
              "      <td></td>\n",
              "      <td>No</td>\n",
              "      <td></td>\n",
              "      <td>Houston</td>\n",
              "      <td>Texas</td>\n",
              "      <td>M D Anderson Cancer Center</td>\n",
              "    </tr>\n",
              "    <tr>\n",
              "      <th>396</th>\n",
              "      <td>1396</td>\n",
              "      <td>NCT00416598</td>\n",
              "      <td></td>\n",
              "      <td></td>\n",
              "      <td></td>\n",
              "      <td>Number of Participants Who Completed Maintenan...</td>\n",
              "      <td>To determine feasibility of decitabine mainten...</td>\n",
              "      <td>Up to 5 years|At 1 year</td>\n",
              "      <td></td>\n",
              "      <td></td>\n",
              "      <td>...</td>\n",
              "      <td>Relationship Between Busulfan Pharmacokinetics...</td>\n",
              "      <td>Results from busulfan pharmacokinetics will be...</td>\n",
              "      <td>At baseline, after 2, 4, and 6 hours after the...</td>\n",
              "      <td>Inclusion Criteria:||Unequivocal histologic di...</td>\n",
              "      <td></td>\n",
              "      <td>No</td>\n",
              "      <td>31171508|27624549</td>\n",
              "      <td>San Francisco|Lewes|Newark|Orlando|Atlanta|Chi...</td>\n",
              "      <td>California|Delaware|Delaware|Florida|Georgia|I...</td>\n",
              "      <td>UCSF Medical Center-Mount Zion|Beebe Medical C...</td>\n",
              "    </tr>\n",
              "  </tbody>\n",
              "</table>\n",
              "<p>1396 rows × 21 columns</p>\n",
              "</div>"
            ],
            "text/plain": [
              "    index        NCTId IsFDARegulatedDrug IsFDARegulatedDevice  \\\n",
              "0       1  NCT03288363                 No                   No   \n",
              "1       2  NCT02161302                                           \n",
              "2       3  NCT04759092                 No                   No   \n",
              "3       4  NCT03879044                 No                  Yes   \n",
              "4       5  NCT02665988                                           \n",
              "..    ...          ...                ...                  ...   \n",
              "392  1392  NCT02921061                Yes                        \n",
              "393  1393  NCT04545294                 No                   No   \n",
              "394  1394  NCT04038788                 No                   No   \n",
              "395  1395  NCT00801489                Yes                   No   \n",
              "396  1396  NCT00416598                                           \n",
              "\n",
              "    IsUnapprovedDevice                              PrimaryOutcomeMeasure  \\\n",
              "0                       Comparing between the active tDCS group with t...   \n",
              "1                       Change in worst daily pain assessed with the v...   \n",
              "2                       To investigate adverse effects of the treatmen...   \n",
              "3                       Psychomotor Vigilance Test|Karolinska Sleepine...   \n",
              "4                       Change From Baseline in Visual Analogue Scale ...   \n",
              "..                 ...                                                ...   \n",
              "392                     Number of Participants Experiencing Dose Limit...   \n",
              "393                     The change over time in the negative symptoms ...   \n",
              "394                     Changes from baseline negative dimension score...   \n",
              "395                                 Complete remission rate|Toxicity rate   \n",
              "396                     Number of Participants Who Completed Maintenan...   \n",
              "\n",
              "                             PrimaryOutcomeDescription  \\\n",
              "0    difference of ADAS-Cog psychometric scale scor...   \n",
              "1    Patients will be asked to daily write down the...   \n",
              "2    Investigation of tolerability of long term hom...   \n",
              "3    Objective measure of sleepiness. Scale ranges ...   \n",
              "4    Visual analogue scale measure for pain. Score ...   \n",
              "..                                                 ...   \n",
              "392  Evaluated according to National Cancer Institu...   \n",
              "393  A clinician-administered rating scale to measu...   \n",
              "394  A clinician-administered rating scale to measu...   \n",
              "395                                                      \n",
              "396  To determine feasibility of decitabine mainten...   \n",
              "\n",
              "                               PrimaryOutcomeTimeFrame  \\\n",
              "0                                             3 months   \n",
              "1    Once Daily. Start 7 days before treatment, eve...   \n",
              "2                                    4 months|8 months   \n",
              "3                                  3 minutes|5 minutes   \n",
              "4    On a weekly basis: 1) Day 1 (first day of tDCS...   \n",
              "..                                                 ...   \n",
              "392                                      Up to 49 days   \n",
              "393                                         Five weeks   \n",
              "394                                          One month   \n",
              "395                        Up to 2 years|Up to 2 years   \n",
              "396                            Up to 5 years|At 1 year   \n",
              "\n",
              "                               SecondaryOutcomeMeasure  \\\n",
              "0                                                        \n",
              "1    Change in serum biomarkers level: The brain de...   \n",
              "2                                                        \n",
              "3                             Epworth Sleepiness Scale   \n",
              "4                                                        \n",
              "..                                                 ...   \n",
              "392  Number of Participants With Minimal Residual D...   \n",
              "393  The change over time in the Chinese version of...   \n",
              "394  Changes from baseline scores at Personal and S...   \n",
              "395                                                      \n",
              "396                                                      \n",
              "\n",
              "                           SecondaryOutcomeDescription  ...  \\\n",
              "0                                                       ...   \n",
              "1    A blood sample will be colected to measure BDN...  ...   \n",
              "2                                                       ...   \n",
              "3    Subjective measure of sleepiness. The scale ra...  ...   \n",
              "4                                                       ...   \n",
              "..                                                 ...  ...   \n",
              "392  Compared to historical controls of filgrastim,...  ...   \n",
              "393  A clinician-administered rating scale to measu...  ...   \n",
              "394  A clinician-administered rating scale to measu...  ...   \n",
              "395                                                     ...   \n",
              "396                                                     ...   \n",
              "\n",
              "                                   OtherOutcomeMeasure  \\\n",
              "0                                                        \n",
              "1    Depressive symptoms level|Anxiety level|Psychi...   \n",
              "2                                                        \n",
              "3                                                        \n",
              "4                                                        \n",
              "..                                                 ...   \n",
              "392                                                      \n",
              "393                                                      \n",
              "394                                                      \n",
              "395                                                      \n",
              "396  Relationship Between Busulfan Pharmacokinetics...   \n",
              "\n",
              "                               OtherOutcomeDescription  \\\n",
              "0                                                        \n",
              "1    Depression symptoms will be assessed by using ...   \n",
              "2                                                        \n",
              "3                                                        \n",
              "4                                                        \n",
              "..                                                 ...   \n",
              "392                                                      \n",
              "393                                                      \n",
              "394                                                      \n",
              "395                                                      \n",
              "396  Results from busulfan pharmacokinetics will be...   \n",
              "\n",
              "                                 OtherOutcomeTimeFrame  \\\n",
              "0                                                        \n",
              "1    Treatment Day 1 (before receiving the 1st sess...   \n",
              "2                                                        \n",
              "3                                                        \n",
              "4                                                        \n",
              "..                                                 ...   \n",
              "392                                                      \n",
              "393                                                      \n",
              "394                                                      \n",
              "395                                                      \n",
              "396  At baseline, after 2, 4, and 6 hours after the...   \n",
              "\n",
              "                                   EligibilityCriteria StudyPopulation  \\\n",
              "0    Inclusion Criteria:||A man or woman with proba...                   \n",
              "1    Inclusion Criteria:||age > 18 years old, non-m...                   \n",
              "2    Inclusion Criteria:||Age 60-85.|Fulfil diagnos...                   \n",
              "3    Inclusion Criteria:||age 18-65 years|works 5 o...                   \n",
              "4    Inclusion Criteria:||Males and females greater...                   \n",
              "..                                                 ...             ...   \n",
              "392  Inclusion Criteria:||For patients with newly d...                   \n",
              "393  Inclusion Criteria:||Eligible participants age...                   \n",
              "394  Inclusion Criteria:||Eligible participants age...                   \n",
              "395  Inclusion Criteria:||Patients must have untrea...                   \n",
              "396  Inclusion Criteria:||Unequivocal histologic di...                   \n",
              "\n",
              "    HealthyVolunteers                                      ReferencePMID  \\\n",
              "0                  No                                                      \n",
              "1                  No  21170277|20945016|18312584|14677403|20633386|2...   \n",
              "2                  No                                                      \n",
              "3                  No                                                      \n",
              "4                  No                                                      \n",
              "..                ...                                                ...   \n",
              "392                No                                           32077361   \n",
              "393                No  27023427|25477826|27930934|23993864|25528757|2...   \n",
              "394                No                                           33096356   \n",
              "395                No                                                      \n",
              "396                No                                  31171508|27624549   \n",
              "\n",
              "                                          LocationCity  \\\n",
              "0                                              Limoges   \n",
              "1                                         Porto Alegre   \n",
              "2                                               Tromsø   \n",
              "3                                             Columbus   \n",
              "4                                              Houston   \n",
              "..                                                 ...   \n",
              "392                                            Seattle   \n",
              "393                                             Taipei   \n",
              "394                                             Taipei   \n",
              "395                                            Houston   \n",
              "396  San Francisco|Lewes|Newark|Orlando|Atlanta|Chi...   \n",
              "\n",
              "                                         LocationState  \\\n",
              "0                                                        \n",
              "1                                    Rio Grande do Sul   \n",
              "2                                                Troms   \n",
              "3                                                 Ohio   \n",
              "4                                                Texas   \n",
              "..                                                 ...   \n",
              "392                                         Washington   \n",
              "393                                                      \n",
              "394                                                      \n",
              "395                                              Texas   \n",
              "396  California|Delaware|Delaware|Florida|Georgia|I...   \n",
              "\n",
              "                                      LocationFacility  \n",
              "0                          Centre Hospitalier Esquirol  \n",
              "1                 Hospital de Clínicas de Porto Alegre  \n",
              "2                  University Hospital of North Norway  \n",
              "3                            The Ohio State University  \n",
              "4    The Pain Management Program at The Menninger C...  \n",
              "..                                                 ...  \n",
              "392  Fred Hutch/University of Washington Cancer Con...  \n",
              "393                       Tri-service general hospital  \n",
              "394                       Tri-service general hospital  \n",
              "395                         M D Anderson Cancer Center  \n",
              "396  UCSF Medical Center-Mount Zion|Beebe Medical C...  \n",
              "\n",
              "[1396 rows x 21 columns]"
            ]
          },
          "execution_count": 215,
          "metadata": {},
          "output_type": "execute_result"
        }
      ],
      "source": [
        "new_df2"
      ]
    },
    {
      "cell_type": "code",
      "execution_count": 216,
      "metadata": {},
      "outputs": [],
      "source": [
        "\n",
        "\n",
        "\n",
        "\n",
        "# api_pull_2 = ct.get_study_fields(\n",
        "#     search_expr=\"Parkinson\",\n",
        "#     fields=[\"NCTId\"],\n",
        "#     max_studies=10,\n",
        "#     min_rnk=5,\n",
        "#     fmt=\"csv\",\n",
        "# )\n",
        "\n",
        "# # ClinicalTrials limits API queries to 1000 records\n",
        "# # Count of studies may be useful to build loops when you want to retrieve more than 1000 records\n",
        "\n",
        "\n",
        "\n",
        "# # Read the csv data in Pandas\n",
        "# import pandas as pd\n",
        "\n",
        "# temp = pd.DataFrame.from_records(api_pull_2[1:], columns=api_pull_2[0])\n",
        "# temp"
      ]
    },
    {
      "cell_type": "code",
      "execution_count": 217,
      "metadata": {
        "id": "-o2YXU2v4Flm"
      },
      "outputs": [],
      "source": [
        "\n",
        "\n",
        "\n",
        "\n",
        "# # Get the NCTId, Condition and Brief title fields from 500 studies related to Coronavirus and Covid, in csv format.\n",
        "# api_pull_1 = ct.get_study_fields(\n",
        "#     search_expr=\"Parkinson\",\n",
        "#     fields=[\"NCTId\", \"Condition\", \"OfficialTitle\", \"BriefTitle\" , \"Acronym\" , \"StudyType\",\n",
        "#     \"InterventionType\",\"InterventionName\",\"InterventionOtherName\",\"InterventionDescription\",\"Phase\" \n",
        "#     ,\"StudyFirstSubmitDate\",\"LastUpdateSubmitDate\",\"CompletionDate\",\"OverallStatus\",\"IsFDARegulatedDrug\",\"IsFDARegulatedDevice\",\"BriefSummary\"],\n",
        "#     max_studies=999,\n",
        "#     fmt=\"csv\",\n",
        "# )\n",
        "\n",
        "# # ClinicalTrials limits API queries to 1000 records\n",
        "# # Count of studies may be useful to build loops when you want to retrieve more than 1000 records\n",
        "\n",
        "\n",
        "\n",
        "# # Read the csv data in Pandas\n",
        "# import pandas as pd\n",
        "\n",
        "# df1=pd.DataFrame.from_records(api_pull_1[1:], columns=api_pull_1[0])\n",
        "\n",
        "# # \n",
        "# # df1 = pd.DataFrame.to_frame().reset_index()\n",
        "\n"
      ]
    },
    {
      "cell_type": "code",
      "execution_count": null,
      "metadata": {},
      "outputs": [],
      "source": []
    },
    {
      "cell_type": "code",
      "execution_count": 218,
      "metadata": {
        "colab": {
          "base_uri": "https://localhost:8080/"
        },
        "id": "dYsPomag4Vzm",
        "outputId": "e5468a7b-b50d-4b27-f898-46e1c87ee989"
      },
      "outputs": [],
      "source": [
        "# api_pull_2 = ct.get_study_fields(\n",
        "#     search_expr=\"Parkinson\",\n",
        "#     fields=[\"NCTId\",\"IsFDARegulatedDrug\",\"IsFDARegulatedDevice\", \"IsUnapprovedDevice\", \"PrimaryOutcomeMeasure\", \"PrimaryOutcomeDescription\",\"PrimaryOutcomeTimeFrame\", \"SecondaryOutcomeMeasure\",\"SecondaryOutcomeDescription\", \"SecondaryOutcomeTimeFrame\",\"OtherOutcomeMeasure\"\n",
        "# ,\"OtherOutcomeDescription\",\"OtherOutcomeTimeFrame\",\"EligibilityCriteria\",\"StudyPopulation\",\"HealthyVolunteers\", \"ReferencePMID\", \"LocationCity\", \"LocationState\" , \"LocationFacility\"\n",
        "\n",
        "# ],\n",
        "#     max_studies=999,\n",
        "#     fmt=\"csv\",\n",
        "# )\n",
        "\n",
        "# # ClinicalTrials limits API queries to 1000 records\n",
        "# # Count of studies may be useful to build loops when you want to retrieve more than 1000 records\n",
        "\n",
        "# ct.get_study_count(search_expr=\"Parkinson\")\n",
        "\n",
        "# # Read the csv data in Pandas\n",
        "# import pandas as pd\n",
        "\n",
        "# df2 = pd.DataFrame.from_records(api_pull_2[1:], columns=api_pull_2[0])"
      ]
    },
    {
      "cell_type": "markdown",
      "metadata": {
        "id": "DQ1K9Cgd4xOC"
      },
      "source": [
        "##cleaning"
      ]
    },
    {
      "cell_type": "code",
      "execution_count": 219,
      "metadata": {},
      "outputs": [],
      "source": [
        "# print(type(df1))"
      ]
    },
    {
      "cell_type": "markdown",
      "metadata": {},
      "source": []
    },
    {
      "cell_type": "code",
      "execution_count": 220,
      "metadata": {
        "id": "EF7TnjRu4X9G"
      },
      "outputs": [],
      "source": [
        "result = pd.merge(new_df, new_df2,  on='NCTId', how='outer')"
      ]
    },
    {
      "cell_type": "code",
      "execution_count": 221,
      "metadata": {},
      "outputs": [
        {
          "data": {
            "text/plain": [
              "(1396, 40)"
            ]
          },
          "execution_count": 221,
          "metadata": {},
          "output_type": "execute_result"
        }
      ],
      "source": [
        "result.shape"
      ]
    },
    {
      "cell_type": "code",
      "execution_count": 222,
      "metadata": {},
      "outputs": [],
      "source": [
        "# result = result.loc[:,~result.columns.duplicated()]"
      ]
    },
    {
      "cell_type": "code",
      "execution_count": 223,
      "metadata": {},
      "outputs": [],
      "source": [
        "# result.shape"
      ]
    },
    {
      "cell_type": "code",
      "execution_count": 224,
      "metadata": {},
      "outputs": [],
      "source": [
        "# result.columns.tolist()"
      ]
    },
    {
      "cell_type": "markdown",
      "metadata": {},
      "source": [
        "IMPORTANT - this just drops the second index column - monitor or watch for mismatch or if you change the number of elements that are pulled from the first api"
      ]
    },
    {
      "cell_type": "code",
      "execution_count": 225,
      "metadata": {},
      "outputs": [],
      "source": [
        "result = result.drop(result.columns[[20]], axis=1)"
      ]
    },
    {
      "cell_type": "code",
      "execution_count": 226,
      "metadata": {
        "id": "phxa_Vqn5E5S"
      },
      "outputs": [
        {
          "data": {
            "text/plain": [
              "(1396, 39)"
            ]
          },
          "execution_count": 226,
          "metadata": {},
          "output_type": "execute_result"
        }
      ],
      "source": [
        "result.shape"
      ]
    },
    {
      "cell_type": "code",
      "execution_count": 227,
      "metadata": {},
      "outputs": [],
      "source": [
        "# result.columns.tolist()"
      ]
    },
    {
      "cell_type": "markdown",
      "metadata": {},
      "source": [
        "Save file"
      ]
    },
    {
      "cell_type": "code",
      "execution_count": 228,
      "metadata": {
        "id": "Dgre9uB-INsI"
      },
      "outputs": [],
      "source": [
        "# result.to_csv(r'data_raw.csv', index = False)\n",
        "result.to_excel(r'data_raw.xlsx', index = False)"
      ]
    },
    {
      "cell_type": "code",
      "execution_count": 229,
      "metadata": {},
      "outputs": [],
      "source": [
        "result.to_hdf('data_raw.h5', key='df', mode='w')  "
      ]
    },
    {
      "cell_type": "code",
      "execution_count": 230,
      "metadata": {},
      "outputs": [],
      "source": [
        "# labels, levels = pd.factorize(result[\"Phase\"])  "
      ]
    },
    {
      "cell_type": "code",
      "execution_count": 231,
      "metadata": {},
      "outputs": [],
      "source": [
        "# labels"
      ]
    },
    {
      "cell_type": "code",
      "execution_count": 232,
      "metadata": {
        "colab": {
          "base_uri": "https://localhost:8080/"
        },
        "id": "LAqtYjoTICny",
        "outputId": "2f809d6a-4257-4ef1-b5f8-e601695a8d57"
      },
      "outputs": [],
      "source": [
        "# fun_barplot()"
      ]
    },
    {
      "cell_type": "code",
      "execution_count": null,
      "metadata": {
        "colab": {
          "base_uri": "https://localhost:8080/"
        },
        "id": "CJgWIlIm47Cc",
        "outputId": "2ca52a69-39fc-4489-9cef-d3cff0685215"
      },
      "outputs": [],
      "source": []
    }
  ],
  "metadata": {
    "colab": {
      "collapsed_sections": [],
      "name": "HW2.ipynb",
      "provenance": []
    },
    "kernelspec": {
      "display_name": "Python 3",
      "name": "python3"
    },
    "language_info": {
      "codemirror_mode": {
        "name": "ipython",
        "version": 3
      },
      "file_extension": ".py",
      "mimetype": "text/x-python",
      "name": "python",
      "nbconvert_exporter": "python",
      "pygments_lexer": "ipython3",
      "version": "3.10.4"
    }
  },
  "nbformat": 4,
  "nbformat_minor": 0
}
