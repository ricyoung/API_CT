{
  "cells": [
    {
      "cell_type": "markdown",
      "metadata": {
        "id": "Tid-wrNW11pW"
      },
      "source": [
        "# Load Depenency"
      ]
    },
    {
      "cell_type": "code",
      "execution_count": 1,
      "metadata": {
        "id": "ACtufjx41sXQ"
      },
      "outputs": [],
      "source": [
        "#Cleaned up Crypto Example\n",
        "from os import system\n",
        "import pandas as pd\n",
        "import requests\n",
        "import datetime as dt\n",
        "# from pytrials.client import ClinicalTrials\n",
        "import json\n",
        "import ipywidgets as widgets\n",
        "import numpy as np\n",
        "np.random.seed(10031975)\n",
        "import matplotlib.pyplot as plt\n",
        "import numpy as np\n",
        "from matplotlib import rcParams, cycler\n",
        "import matplotlib.pyplot as plt\n",
        "from matplotlib.ticker import AutoMinorLocator"
      ]
    },
    {
      "cell_type": "code",
      "execution_count": 2,
      "metadata": {},
      "outputs": [],
      "source": [
        "#does some error handling\n",
        "\n",
        "\n",
        "import sys\n",
        "import csv\n",
        "maxInt = sys.maxsize\n",
        "\n",
        "while True:\n",
        "    # decrease the maxInt value by factor 10 \n",
        "    # as long as the OverflowError occurs.\n",
        "\n",
        "    try:\n",
        "        csv.field_size_limit(maxInt)\n",
        "        break\n",
        "    except OverflowError:\n",
        "        maxInt = int(maxInt/10)"
      ]
    },
    {
      "cell_type": "code",
      "execution_count": 3,
      "metadata": {},
      "outputs": [],
      "source": [
        "from pytrials.utils import json_handler, csv_handler\n",
        "\n",
        "\n",
        "class ClinicalTrials:\n",
        "    \"\"\"ClinicalTrials API client\n",
        "\n",
        "    Provides functions to easily access the ClinicalTrials.gov API\n",
        "    (https://clinicaltrials.gov/api/)\n",
        "    in Python.\n",
        "\n",
        "    Attributes:\n",
        "        study_fields: List of all study fields you can use in your query.\n",
        "        api_info: Tuple containing the API version number and the last\n",
        "        time the database was updated.\n",
        "    \"\"\"\n",
        "\n",
        "    _BASE_URL = \"https://clinicaltrials.gov/api/\"\n",
        "    _INFO = \"info/\"\n",
        "    _QUERY = \"query/\"\n",
        "    _JSON = \"fmt=json\"\n",
        "    _CSV = \"fmt=csv\"\n",
        "\n",
        "    def __init__(self):\n",
        "        self.api_info = self.__api_info()\n",
        "\n",
        "    @property\n",
        "    def study_fields(self):\n",
        "        fields_list = json_handler(\n",
        "            f\"{self._BASE_URL}{self._INFO}study_fields_list?{self._JSON}\"\n",
        "        )\n",
        "        return fields_list[\"StudyFields\"][\"Fields\"]\n",
        "\n",
        "    def __api_info(self):\n",
        "        \"\"\"Returns information about the API\"\"\"\n",
        "        last_updated = json_handler(\n",
        "            f\"{self._BASE_URL}{self._INFO}data_vrs?{self._JSON}\"\n",
        "        )[\"DataVrs\"]\n",
        "        api_version = json_handler(f\"{self._BASE_URL}{self._INFO}api_vrs?{self._JSON}\")[\n",
        "            \"APIVrs\"\n",
        "        ]\n",
        "\n",
        "        return api_version, last_updated\n",
        "\n",
        "    def get_full_studies(self, search_expr, max_studies=50):\n",
        "        \"\"\"Returns all content for a maximum of 100 study records.\n",
        "\n",
        "        Retrieves information from the full studies endpoint, which gets all study fields.\n",
        "        This endpoint can only output JSON (Or not-supported XML) format and does not allow\n",
        "        requests for more than 100 studies at once.\n",
        "\n",
        "        Args:\n",
        "            search_expr (str): A string containing a search expression as specified by\n",
        "                `their documentation <https://clinicaltrials.gov/api/gui/ref/syntax#searchExpr>`_.\n",
        "            max_studies (int): An integer indicating the maximum number of studies to return.\n",
        "                Defaults to 50.\n",
        "\n",
        "        Returns:\n",
        "            dict: Object containing the information queried with the search expression.\n",
        "\n",
        "        Raises:\n",
        "            ValueError: The number of studies can only be between 1 and 100\n",
        "        \"\"\"\n",
        "        if max_studies > 100 or max_studies < 1:\n",
        "            raise ValueError(\"The number of studies can only be between 1 and 100\")\n",
        "\n",
        "        req = f\"full_studies?expr={search_expr}&max_rnk={max_studies}&{self._JSON}\"\n",
        "\n",
        "        full_studies = json_handler(f\"{self._BASE_URL}{self._QUERY}{req}\")\n",
        "\n",
        "        return full_studies\n",
        "\n",
        "    def get_study_fields(self, search_expr, fields, max_studies=50, min_rnk=1,fmt=\"csv\"):\n",
        "        \"\"\"Returns study content for specified fields\n",
        "\n",
        "        Retrieves information from the study fields endpoint, which acquires specified information\n",
        "        from a large (max 1000) studies. To see a list of all possible fields, check the class'\n",
        "        study_fields attribute.\n",
        "\n",
        "        Args:\n",
        "            search_expr (str): A string containing a search expression as specified by\n",
        "                `their documentation <https://clinicaltrials.gov/api/gui/ref/syntax#searchExpr>`_.\n",
        "            fields (list(str)): A list containing the desired information fields.\n",
        "            max_studies (int): An integer indicating the maximum number of studies to return.\n",
        "                Defaults to 50.\n",
        "            fmt (str): A string indicating the output format, csv or json. Defaults to csv.\n",
        "\n",
        "        Returns:\n",
        "            Either a dict, if fmt='json', or a list of records (e.g. a list of lists), if fmt='csv.\n",
        "            Both containing the maximum number of study fields queried using the specified search expression.\n",
        "\n",
        "        Raises:\n",
        "            ValueError: The number of studies can only be between 1 and 1000\n",
        "            ValueError: One of the fields is not valid! Check the study_fields attribute\n",
        "                for a list of valid ones.\n",
        "            ValueError: Format argument has to be either 'csv' or 'json'\n",
        "        \"\"\"\n",
        "        if max_studies > 1000 or max_studies < 1:\n",
        "            raise ValueError(\"The number of studies can only be between 1 and 1000\")\n",
        "        elif not set(fields).issubset(self.study_fields):\n",
        "            raise ValueError(\n",
        "                \"One of the fields is not valid! Check the study_fields attribute for a list of valid ones.\"\n",
        "            )\n",
        "        else:\n",
        "            concat_fields = \",\".join(fields)\n",
        "            # req = f\"study_fields?expr={search_expr}&max_rnk={max_studies}&fields={concat_fields}\"\n",
        "            req = f\"study_fields?expr={search_expr}&min_rnk={min_rnk}&max_rnk={max_studies+min_rnk-1}&fields={concat_fields}\"\n",
        "            if fmt == \"csv\":\n",
        "                url = f\"{self._BASE_URL}{self._QUERY}{req}&{self._CSV}\"\n",
        "                return csv_handler(url)\n",
        "\n",
        "            elif fmt == \"json\":\n",
        "                url = f\"{self._BASE_URL}{self._QUERY}{req}&{self._JSON}\"\n",
        "                return json_handler(url)\n",
        "\n",
        "            else:\n",
        "                raise ValueError(\"Format argument has to be either 'csv' or 'json'\")\n",
        "\n",
        "    def get_study_count(self, search_expr):\n",
        "        \"\"\"Returns study count for specified search expression\n",
        "\n",
        "        Retrieves the count of studies matching the text entered in search_expr.\n",
        "\n",
        "        Args:\n",
        "            search_expr (str): A string containing a search expression as specified by\n",
        "                `their documentation <https://clinicaltrials.gov/api/gui/ref/syntax#searchExpr>`_.\n",
        "\n",
        "        Returns:\n",
        "            An integer\n",
        "\n",
        "        Raises:\n",
        "            ValueError: The search expression cannot be blank.\n",
        "        \"\"\"\n",
        "        if not set(search_expr):\n",
        "            raise ValueError(\"The search expression cannot be blank.\")\n",
        "        else:\n",
        "            req = f\"study_fields?expr={search_expr}&max_rnk=1&fields=NCTId\"\n",
        "            url = f\"{self._BASE_URL}{self._QUERY}{req}&{self._JSON}\"\n",
        "            returned_data = json_handler(url)\n",
        "            study_count = returned_data[\"StudyFieldsResponse\"][\"NStudiesFound\"]\n",
        "            return study_count\n",
        "\n",
        "    def __repr__(self):\n",
        "        return f\"ClinicalTrials.gov client v{self.api_info[0]}, database last updated {self.api_info[1]}\""
      ]
    },
    {
      "cell_type": "markdown",
      "metadata": {
        "id": "0oKv5xQg2hgJ"
      },
      "source": [
        "# Load Data"
      ]
    },
    {
      "cell_type": "markdown",
      "metadata": {},
      "source": [
        "https://clinicaltrials.gov/api/gui/ref/crosswalks"
      ]
    },
    {
      "cell_type": "markdown",
      "metadata": {},
      "source": [
        "Disease 2 search for"
      ]
    },
    {
      "cell_type": "markdown",
      "metadata": {},
      "source": [
        "This is for dymanic input of diease searching"
      ]
    },
    {
      "cell_type": "code",
      "execution_count": null,
      "metadata": {},
      "outputs": [],
      "source": []
    },
    {
      "cell_type": "code",
      "execution_count": 4,
      "metadata": {},
      "outputs": [
        {
          "name": "stdout",
          "output_type": "stream",
          "text": [
            "parkinson\n"
          ]
        }
      ],
      "source": [
        "disease=input()\n",
        "print(disease)"
      ]
    },
    {
      "cell_type": "code",
      "execution_count": 5,
      "metadata": {},
      "outputs": [],
      "source": [
        "# disease = 'parkinson'\n",
        "\n",
        "#disease = 'depression'\n",
        "\n",
        "# disease = 'diabetes'\n",
        "\n",
        "# disease = 'tacs'\n",
        "\n"
      ]
    },
    {
      "cell_type": "markdown",
      "metadata": {},
      "source": [
        "hit mesh some day"
      ]
    },
    {
      "cell_type": "markdown",
      "metadata": {},
      "source": [
        "Pull ONE"
      ]
    },
    {
      "cell_type": "markdown",
      "metadata": {
        "id": "h_DJC1iG4RSB"
      },
      "source": [
        "#Explore Data"
      ]
    },
    {
      "cell_type": "code",
      "execution_count": 6,
      "metadata": {},
      "outputs": [],
      "source": [
        "#change this out to NAME\n",
        "\n",
        "ct = ClinicalTrials()\n",
        "infodf= (ct.get_full_studies(search_expr=disease, max_studies=5 ))\n"
      ]
    },
    {
      "cell_type": "code",
      "execution_count": 7,
      "metadata": {},
      "outputs": [
        {
          "data": {
            "text/plain": [
              "dict"
            ]
          },
          "execution_count": 7,
          "metadata": {},
          "output_type": "execute_result"
        }
      ],
      "source": [
        "type(infodf)"
      ]
    },
    {
      "cell_type": "code",
      "execution_count": 8,
      "metadata": {},
      "outputs": [
        {
          "name": "stdout",
          "output_type": "stream",
          "text": [
            "3662\n"
          ]
        }
      ],
      "source": [
        "number = print(infodf['FullStudiesResponse']['NStudiesFound'])"
      ]
    },
    {
      "cell_type": "code",
      "execution_count": 9,
      "metadata": {},
      "outputs": [],
      "source": [
        "count = ct.get_study_count(search_expr=disease)\n"
      ]
    },
    {
      "cell_type": "code",
      "execution_count": 10,
      "metadata": {},
      "outputs": [],
      "source": [
        "# count = 3000\n",
        "start = 0\n",
        "end = count\n",
        "iter = 999 #number of studies to get at a time ( limited to 1000 )\n",
        "\n",
        "\n",
        "\n",
        "\n",
        "\n",
        "temp = pd.DataFrame()\n",
        "temp2 = pd.DataFrame()\n",
        "new_df = pd.DataFrame()\n",
        "\n",
        "\n",
        "for i in range(1, count, iter):\n",
        "    # print(temp)\n",
        "    temp = ct.get_study_fields(\n",
        "        search_expr=disease,\n",
        "        fields=[\"NCTId\", \"Condition\", \"OfficialTitle\", \"BriefTitle\" , \"Acronym\" , \"StudyType\",\n",
        "    \"InterventionType\",\"InterventionName\",\"InterventionOtherName\",\"InterventionDescription\",\"Phase\" ,\"StudyFirstSubmitDate\",\"LastUpdateSubmitDate\",\"CompletionDate\",\"OverallStatus\",\"BaselineMeasureTitle\",\"BaselineMeasureDescription\",\"BaselineMeasurementValue\",\"BriefSummary\"],\n",
        "        max_studies=iter,\n",
        "        min_rnk=i,\n",
        "        fmt=\"csv\",)\n",
        "    # print(temp2[0])\n",
        "    temp2 =  pd.DataFrame.from_records(temp[1:])\n",
        "    new_df = pd.concat([new_df, temp2])\n",
        " \n"
      ]
    },
    {
      "cell_type": "code",
      "execution_count": 11,
      "metadata": {},
      "outputs": [],
      "source": [
        "new_df.columns = [\"Index\",\"NCTId\", \"Condition\", \"OfficialTitle\", \"BriefTitle\" , \"Acronym\" , \"StudyType\",\n",
        "    \"InterventionType\",\"InterventionName\",\"InterventionOtherName\",\"InterventionDescription\",\"Phase\" ,\"StudyFirstSubmitDate\",\"LastUpdateSubmitDate\",\"CompletionDate\",\"OverallStatus\",\"BaselineMeasureTitle\",\"BaselineMeasureDescription\",\"BaselineMeasurementValue\",\"BriefSummary\"]"
      ]
    },
    {
      "cell_type": "markdown",
      "metadata": {},
      "source": []
    },
    {
      "cell_type": "code",
      "execution_count": 12,
      "metadata": {},
      "outputs": [
        {
          "data": {
            "text/plain": [
              "(3662, 20)"
            ]
          },
          "execution_count": 12,
          "metadata": {},
          "output_type": "execute_result"
        }
      ],
      "source": [
        "# new_df\n",
        "new_df.shape"
      ]
    },
    {
      "cell_type": "code",
      "execution_count": 13,
      "metadata": {},
      "outputs": [
        {
          "data": {
            "text/plain": [
              "<bound method NDFrame.head of     Index        NCTId                            Condition  \\\n",
              "0       1  NCT02370134                  Parkinson's Disease   \n",
              "1       2  NCT01662427                  Parkinson's Disease   \n",
              "2       3  NCT05245955                    Parkinson Disease   \n",
              "3       4  NCT03152721                    Parkinson Disease   \n",
              "4       5  NCT02016092                  Parkinson's Disease   \n",
              "..    ...          ...                                  ...   \n",
              "660  3658  NCT03681509  Emotions|Motivation|Reward|Dopamine   \n",
              "661  3659  NCT02704520                        Rectal Cancer   \n",
              "662  3660  NCT04370470                   Huntington Disease   \n",
              "663  3661  NCT05168059                  High Blood Pressure   \n",
              "664  3662  NCT02069509                  Friedreich's Ataxia   \n",
              "\n",
              "                                         OfficialTitle  \\\n",
              "0    Development of Parkinson's Glove for Detection...   \n",
              "1    Nocturnal Parkinson's Disease Symptoms Study G...   \n",
              "2    Feasibility and Validity of Robotic Assessment...   \n",
              "3    Interventional Study of the Effect of Parkinso...   \n",
              "4    Proteomics, Metabolomics, Lipidomics and Genet...   \n",
              "..                                                 ...   \n",
              "660  The Effects of the Dopamine Receptor Agonist P...   \n",
              "661  Magnetic Resonance Tumour Regression Grade (mr...   \n",
              "662  Development of Assessments for Later Stage Hun...   \n",
              "663  Clevidipine for Acute High Blood Pressure Cont...   \n",
              "664  Patient Registry of the European Friedreich's ...   \n",
              "\n",
              "                                            BriefTitle        Acronym  \\\n",
              "0    Development of Parkinson's Glove for Detection...                  \n",
              "1    Nocturnal Parkinson's Disease Symptoms Study G...                  \n",
              "2    Robotic Assessments of Hand Function in Patien...  RHK Parkinson   \n",
              "3    The Effect of Parkinson Kinetigraph Recordings...                  \n",
              "4           Biomarker Discovery in Parkinson's Disease   DISCOVERY-PD   \n",
              "..                                                 ...            ...   \n",
              "660               Pramipexole and Emotional Processing            PEP   \n",
              "661  Magnetic Resonance Tumour Regression Grade as ...        TRIGGER   \n",
              "662      Development of Assessments for Later Stage HD            LSA   \n",
              "663              Clevidipine in Neurocritical Patients     NEURO-CLEV   \n",
              "664  Patient Registry of the European Friedreich's ...         EFACTS   \n",
              "\n",
              "          StudyType     InterventionType  \\\n",
              "0    Interventional        Device|Device   \n",
              "1     Observational                Other   \n",
              "2    Interventional               Device   \n",
              "3    Interventional         Device|Other   \n",
              "4     Observational                        \n",
              "..              ...                  ...   \n",
              "660  Interventional            Drug|Drug   \n",
              "661  Interventional  Drug|Drug|Drug|Drug   \n",
              "662   Observational                        \n",
              "663   Observational                 Drug   \n",
              "664   Observational                        \n",
              "\n",
              "                                      InterventionName  \\\n",
              "0                         Parkinson's glove|sham glove   \n",
              "1    Questionaire to assess Noctural Parkinson's Di...   \n",
              "2    Assessments of the hand sensory function with ...   \n",
              "3                Parkinson KinetiGraph|Self assessment   \n",
              "4                                                        \n",
              "..                                                 ...   \n",
              "660                                Pramipexole|Placebo   \n",
              "661  Capecitabine|Oxaliplatin|5-fluorouracil|Folini...   \n",
              "662                                                      \n",
              "663         Clevidipine 0.5 MG/ML Intravenous Emulsion   \n",
              "664                                                      \n",
              "\n",
              "                                 InterventionOtherName  \\\n",
              "0                                                        \n",
              "1                                                        \n",
              "2                                                        \n",
              "3    Parkinson KinetiGraph Mk II|PKG|PDQ8|NMS-Quest...   \n",
              "4                                                        \n",
              "..                                                 ...   \n",
              "660                                                      \n",
              "661           CAPOX|CAPOX|5-FU|FOLFOX|calcium folinate   \n",
              "662                                                      \n",
              "663                                          CLEVIPREX   \n",
              "664                                                      \n",
              "\n",
              "                               InterventionDescription            Phase  \\\n",
              "0    Parkinson's glove had module for detection tre...          Phase 1   \n",
              "1    Questionaire to assess Noctural Parkinson's Di...                    \n",
              "2    During the assessment sessions with the ReHapt...   Not Applicable   \n",
              "3    The Parkinson Kinetigraph (PKG) is a wrist-wor...   Not Applicable   \n",
              "4                                                                         \n",
              "..                                                 ...              ...   \n",
              "660                Pramipexole|Lactose placebo capsule   Not Applicable   \n",
              "661  Coated tablet. Systemic chemotherapy|Concentra...  Phase 2|Phase 3   \n",
              "662                                                                       \n",
              "663            Effectiveness and safety of clevidipine                    \n",
              "664                                                                       \n",
              "\n",
              "    StudyFirstSubmitDate LastUpdateSubmitDate     CompletionDate  \\\n",
              "0       January 15, 2015    February 23, 2015           May 2017   \n",
              "1         August 7, 2012      August 18, 2013        August 2013   \n",
              "2      November 11, 2021    February 17, 2022      December 2023   \n",
              "3           May 10, 2017        April 2, 2019  February 28, 2019   \n",
              "4      December 14, 2013       March 10, 2016          June 2016   \n",
              "..                   ...                  ...                ...   \n",
              "660   September 19, 2018       March 23, 2020   November 1, 2019   \n",
              "661     February 5, 2016     November 1, 2019      December 2026   \n",
              "662       April 24, 2020       April 28, 2020         March 2022   \n",
              "663    November 18, 2021    December 20, 2021  September 1, 2019   \n",
              "664    February 19, 2014    February 27, 2020      December 2021   \n",
              "\n",
              "          OverallStatus BaselineMeasureTitle BaselineMeasureDescription  \\\n",
              "0        Unknown status                                                   \n",
              "1             Completed                                                   \n",
              "2    Not yet recruiting                                                   \n",
              "3             Completed                                                   \n",
              "4        Unknown status                                                   \n",
              "..                  ...                  ...                        ...   \n",
              "660           Completed                                                   \n",
              "661          Recruiting                                                   \n",
              "662      Unknown status                                                   \n",
              "663           Completed                                                   \n",
              "664      Unknown status                                                   \n",
              "\n",
              "    BaselineMeasurementValue  \\\n",
              "0                              \n",
              "1                              \n",
              "2                              \n",
              "3                              \n",
              "4                              \n",
              "..                       ...   \n",
              "660                            \n",
              "661                            \n",
              "662                            \n",
              "663                            \n",
              "664                            \n",
              "\n",
              "                                          BriefSummary  \n",
              "0    This study is aimed to study the feasibility a...  \n",
              "1    To study associate factor of Noctural Parkinso...  \n",
              "2    It has been shown that patients with Parkinson...  \n",
              "3    With time most people with Parkinson's disease...  \n",
              "4    There are approximately one million Americans ...  \n",
              "..                                                 ...  \n",
              "660  The dopamine agonist pramipexole has recently ...  \n",
              "661  This trial evaluates a novel imaging method ca...  \n",
              "662  Later Stage HD Assessments (LSA) is an observa...  \n",
              "663  Acute blood pressure elevation is a frequent p...  \n",
              "664  This is a multi-centre, multi-national, prospe...  \n",
              "\n",
              "[3662 rows x 20 columns]>"
            ]
          },
          "execution_count": 13,
          "metadata": {},
          "output_type": "execute_result"
        }
      ],
      "source": [
        "new_df.head"
      ]
    },
    {
      "cell_type": "code",
      "execution_count": 14,
      "metadata": {},
      "outputs": [],
      "source": [
        "# temp = pd.DataFrame.from_records(api_pull_2[1:], columns=api_pull_2[0])"
      ]
    },
    {
      "cell_type": "code",
      "execution_count": 15,
      "metadata": {},
      "outputs": [],
      "source": [
        "# print(temp.shape)"
      ]
    },
    {
      "cell_type": "code",
      "execution_count": 16,
      "metadata": {},
      "outputs": [],
      "source": [
        "# count = 3000\n",
        "start = 0\n",
        "end = count\n",
        "iter = 999 #number of studies to get at a time ( limited to 1000 )\n",
        "\n",
        "from random import seed\n",
        "from random import random\n",
        "\n",
        "\n",
        "\n",
        "temp = pd.DataFrame()\n",
        "temp2 = pd.DataFrame()\n",
        "new_df2 = pd.DataFrame()\n",
        "\n",
        "\n",
        "for i in range(1, count, iter):\n",
        "    # print(temp)\n",
        "    temp = ct.get_study_fields(\n",
        "        search_expr=disease,\n",
        "        fields=[\"NCTId\",\"IsFDARegulatedDrug\",\"IsFDARegulatedDevice\", \"IsUnapprovedDevice\", \"PrimaryOutcomeMeasure\", \"PrimaryOutcomeDescription\",\"PrimaryOutcomeTimeFrame\", \"SecondaryOutcomeMeasure\",\"SecondaryOutcomeDescription\", \"SecondaryOutcomeTimeFrame\",\"OtherOutcomeMeasure\"\n",
        ",\"OtherOutcomeDescription\",\"OtherOutcomeTimeFrame\",\"EligibilityCriteria\",\"StudyPopulation\",\"HealthyVolunteers\", \"ReferencePMID\", \"LocationCity\", \"LocationState\" , \"LocationFacility\"],\n",
        "        max_studies=iter,\n",
        "        min_rnk=i,\n",
        "        fmt=\"csv\",)\n",
        "    # print(temp2[0])\n",
        "    temp2 =  pd.DataFrame.from_records(temp[1:])\n",
        "    new_df2 = pd.concat([new_df2, temp2])\n",
        " \n"
      ]
    },
    {
      "cell_type": "code",
      "execution_count": 17,
      "metadata": {},
      "outputs": [],
      "source": [
        "new_df2.columns = [\"index\", \"NCTId\",\"IsFDARegulatedDrug\",\"IsFDARegulatedDevice\", \"IsUnapprovedDevice\", \"PrimaryOutcomeMeasure\", \"PrimaryOutcomeDescription\",\"PrimaryOutcomeTimeFrame\", \"SecondaryOutcomeMeasure\",\"SecondaryOutcomeDescription\", \"SecondaryOutcomeTimeFrame\",\"OtherOutcomeMeasure\"\n",
        ",\"OtherOutcomeDescription\",\"OtherOutcomeTimeFrame\",\"EligibilityCriteria\",\"StudyPopulation\",\"HealthyVolunteers\", \"ReferencePMID\", \"LocationCity\", \"LocationState\" , \"LocationFacility\"]"
      ]
    },
    {
      "cell_type": "code",
      "execution_count": 18,
      "metadata": {},
      "outputs": [
        {
          "data": {
            "text/plain": [
              "(3662, 21)"
            ]
          },
          "execution_count": 18,
          "metadata": {},
          "output_type": "execute_result"
        }
      ],
      "source": [
        "new_df2.shape"
      ]
    },
    {
      "cell_type": "code",
      "execution_count": 19,
      "metadata": {},
      "outputs": [
        {
          "data": {
            "text/html": [
              "<div>\n",
              "<style scoped>\n",
              "    .dataframe tbody tr th:only-of-type {\n",
              "        vertical-align: middle;\n",
              "    }\n",
              "\n",
              "    .dataframe tbody tr th {\n",
              "        vertical-align: top;\n",
              "    }\n",
              "\n",
              "    .dataframe thead th {\n",
              "        text-align: right;\n",
              "    }\n",
              "</style>\n",
              "<table border=\"1\" class=\"dataframe\">\n",
              "  <thead>\n",
              "    <tr style=\"text-align: right;\">\n",
              "      <th></th>\n",
              "      <th>index</th>\n",
              "      <th>NCTId</th>\n",
              "      <th>IsFDARegulatedDrug</th>\n",
              "      <th>IsFDARegulatedDevice</th>\n",
              "      <th>IsUnapprovedDevice</th>\n",
              "      <th>PrimaryOutcomeMeasure</th>\n",
              "      <th>PrimaryOutcomeDescription</th>\n",
              "      <th>PrimaryOutcomeTimeFrame</th>\n",
              "      <th>SecondaryOutcomeMeasure</th>\n",
              "      <th>SecondaryOutcomeDescription</th>\n",
              "      <th>...</th>\n",
              "      <th>OtherOutcomeMeasure</th>\n",
              "      <th>OtherOutcomeDescription</th>\n",
              "      <th>OtherOutcomeTimeFrame</th>\n",
              "      <th>EligibilityCriteria</th>\n",
              "      <th>StudyPopulation</th>\n",
              "      <th>HealthyVolunteers</th>\n",
              "      <th>ReferencePMID</th>\n",
              "      <th>LocationCity</th>\n",
              "      <th>LocationState</th>\n",
              "      <th>LocationFacility</th>\n",
              "    </tr>\n",
              "  </thead>\n",
              "  <tbody>\n",
              "    <tr>\n",
              "      <th>0</th>\n",
              "      <td>1</td>\n",
              "      <td>NCT02370134</td>\n",
              "      <td></td>\n",
              "      <td></td>\n",
              "      <td></td>\n",
              "      <td>Number of participants who demonstrate the tre...</td>\n",
              "      <td>To determine the tremor suppression after use ...</td>\n",
              "      <td>up to 1 month follow up period</td>\n",
              "      <td>Number of Participants who report pain or any ...</td>\n",
              "      <td>To determine the safety of parkinson's glove|T...</td>\n",
              "      <td>...</td>\n",
              "      <td></td>\n",
              "      <td></td>\n",
              "      <td></td>\n",
              "      <td>Inclusion Criteria:||• Adults ≥ 18 years old.|...</td>\n",
              "      <td></td>\n",
              "      <td>No</td>\n",
              "      <td></td>\n",
              "      <td>Pathumwan</td>\n",
              "      <td>Bangkok</td>\n",
              "      <td>Chulalongkorn University Hospital</td>\n",
              "    </tr>\n",
              "    <tr>\n",
              "      <th>1</th>\n",
              "      <td>2</td>\n",
              "      <td>NCT01662427</td>\n",
              "      <td></td>\n",
              "      <td></td>\n",
              "      <td></td>\n",
              "      <td>To assess Noctural Parkinson's Disease Symptoms</td>\n",
              "      <td></td>\n",
              "      <td></td>\n",
              "      <td>To assess quality of life in Parkinson's Disea...</td>\n",
              "      <td></td>\n",
              "      <td>...</td>\n",
              "      <td></td>\n",
              "      <td></td>\n",
              "      <td></td>\n",
              "      <td>Inclusion Criteria:||Idiopathic Parkinson's di...</td>\n",
              "      <td>Parkinson's disease patient and care givers</td>\n",
              "      <td>Accepts Healthy Volunteers</td>\n",
              "      <td></td>\n",
              "      <td>Pathumwan</td>\n",
              "      <td>Bangkok</td>\n",
              "      <td>Roongroj Bhidayasiri</td>\n",
              "    </tr>\n",
              "    <tr>\n",
              "      <th>2</th>\n",
              "      <td>3</td>\n",
              "      <td>NCT05245955</td>\n",
              "      <td>No</td>\n",
              "      <td>No</td>\n",
              "      <td></td>\n",
              "      <td>Detection threshold resulting from the assessm...</td>\n",
              "      <td>Outcome of the assessment for the detection of...</td>\n",
              "      <td>Through study completion, an average of 2 week...</td>\n",
              "      <td>Demographic information|Edinburgh Handedness I...</td>\n",
              "      <td>Gender, age, year of birth.|Questionnaire to d...</td>\n",
              "      <td>...</td>\n",
              "      <td></td>\n",
              "      <td></td>\n",
              "      <td></td>\n",
              "      <td>Ten patients with Parkinson's disease and 10 a...</td>\n",
              "      <td></td>\n",
              "      <td>Accepts Healthy Volunteers</td>\n",
              "      <td></td>\n",
              "      <td></td>\n",
              "      <td></td>\n",
              "      <td></td>\n",
              "    </tr>\n",
              "    <tr>\n",
              "      <th>3</th>\n",
              "      <td>4</td>\n",
              "      <td>NCT03152721</td>\n",
              "      <td>No</td>\n",
              "      <td>No</td>\n",
              "      <td></td>\n",
              "      <td>Decision to change management</td>\n",
              "      <td>The decision to change management of Parkinson...</td>\n",
              "      <td>On first regular contact, RC, (telephone or vi...</td>\n",
              "      <td>Actual change of management|Patient Reported E...</td>\n",
              "      <td>A retrospectively verified (medical and prescr...</td>\n",
              "      <td>...</td>\n",
              "      <td></td>\n",
              "      <td></td>\n",
              "      <td></td>\n",
              "      <td>Inclusion Criteria:||Clinical diagnosis of Par...</td>\n",
              "      <td></td>\n",
              "      <td>No</td>\n",
              "      <td></td>\n",
              "      <td>Göteborg</td>\n",
              "      <td></td>\n",
              "      <td>Sahlgrenska University Hospital</td>\n",
              "    </tr>\n",
              "    <tr>\n",
              "      <th>4</th>\n",
              "      <td>5</td>\n",
              "      <td>NCT02016092</td>\n",
              "      <td></td>\n",
              "      <td></td>\n",
              "      <td></td>\n",
              "      <td>Biological markers of Parkinson's disease</td>\n",
              "      <td>To identify biologic markers of Parkinson's Di...</td>\n",
              "      <td>18 months</td>\n",
              "      <td>Correlation between biologic markers and clini...</td>\n",
              "      <td>To identify and investigate possible correlati...</td>\n",
              "      <td>...</td>\n",
              "      <td></td>\n",
              "      <td></td>\n",
              "      <td></td>\n",
              "      <td>Inclusion Criteria:||For PD cases:||Inclusion ...</td>\n",
              "      <td>Parkinson's patients</td>\n",
              "      <td>Accepts Healthy Volunteers</td>\n",
              "      <td></td>\n",
              "      <td>Sunnyvale</td>\n",
              "      <td>California</td>\n",
              "      <td>The Parkinson's Institute and Clinical Center</td>\n",
              "    </tr>\n",
              "    <tr>\n",
              "      <th>...</th>\n",
              "      <td>...</td>\n",
              "      <td>...</td>\n",
              "      <td>...</td>\n",
              "      <td>...</td>\n",
              "      <td>...</td>\n",
              "      <td>...</td>\n",
              "      <td>...</td>\n",
              "      <td>...</td>\n",
              "      <td>...</td>\n",
              "      <td>...</td>\n",
              "      <td>...</td>\n",
              "      <td>...</td>\n",
              "      <td>...</td>\n",
              "      <td>...</td>\n",
              "      <td>...</td>\n",
              "      <td>...</td>\n",
              "      <td>...</td>\n",
              "      <td>...</td>\n",
              "      <td>...</td>\n",
              "      <td>...</td>\n",
              "      <td>...</td>\n",
              "    </tr>\n",
              "    <tr>\n",
              "      <th>660</th>\n",
              "      <td>3658</td>\n",
              "      <td>NCT03681509</td>\n",
              "      <td>No</td>\n",
              "      <td>No</td>\n",
              "      <td></td>\n",
              "      <td>Change in reward sensitivity on a reinforcemen...</td>\n",
              "      <td>Participants are shown two distinct abstract s...</td>\n",
              "      <td>Completed at day 12 to 15 of treatment</td>\n",
              "      <td>Change in performance in a facial expression r...</td>\n",
              "      <td>Participants are presented with individual pic...</td>\n",
              "      <td>...</td>\n",
              "      <td>Change in subjective mood and energy|Change in...</td>\n",
              "      <td>Zersen's Befindlichkeits-Skala|Positive and Ne...</td>\n",
              "      <td>Completed at day 12 to 15 of treatment|Complet...</td>\n",
              "      <td>Inclusion Criteria:||Male or female|Age: 18 to...</td>\n",
              "      <td></td>\n",
              "      <td>Accepts Healthy Volunteers</td>\n",
              "      <td></td>\n",
              "      <td>Oxford</td>\n",
              "      <td>Oxfordshire</td>\n",
              "      <td>Dept of Psychiatry, University of Oxford</td>\n",
              "    </tr>\n",
              "    <tr>\n",
              "      <th>661</th>\n",
              "      <td>3659</td>\n",
              "      <td>NCT02704520</td>\n",
              "      <td></td>\n",
              "      <td></td>\n",
              "      <td></td>\n",
              "      <td>Patient recruitment rate</td>\n",
              "      <td>Total number of patients randomised per month ...</td>\n",
              "      <td>During last 4 months of recruitment</td>\n",
              "      <td>pathology circumferential resection margin (pC...</td>\n",
              "      <td>Overall pCRM involvement rate between the cont...</td>\n",
              "      <td>...</td>\n",
              "      <td></td>\n",
              "      <td></td>\n",
              "      <td></td>\n",
              "      <td>Inclusion Criteria:||Have a biopsy-confirmed a...</td>\n",
              "      <td></td>\n",
              "      <td>No</td>\n",
              "      <td>28851403</td>\n",
              "      <td>Aberdeen|Basingstoke|Stoke-on-Trent|Salisbury|...</td>\n",
              "      <td>Aberdeenshire|Hampshire|Staffordshire|Wiltshire</td>\n",
              "      <td>Aberdeen Royal Infirmary - NHS Grampion|Hampsh...</td>\n",
              "    </tr>\n",
              "    <tr>\n",
              "      <th>662</th>\n",
              "      <td>3660</td>\n",
              "      <td>NCT04370470</td>\n",
              "      <td>No</td>\n",
              "      <td>No</td>\n",
              "      <td></td>\n",
              "      <td>The UHDRS SIF ratings|Clinimetric properties o...</td>\n",
              "      <td>The equivalence of the original UHDRS function...</td>\n",
              "      <td>3 weeks|3 weeks</td>\n",
              "      <td></td>\n",
              "      <td></td>\n",
              "      <td>...</td>\n",
              "      <td></td>\n",
              "      <td></td>\n",
              "      <td></td>\n",
              "      <td>Inclusion Criteria:||Participants must meet al...</td>\n",
              "      <td>Manifest HDGEC Participants: Manifest HDGEC Pa...</td>\n",
              "      <td>No</td>\n",
              "      <td></td>\n",
              "      <td>Birmingham|La Jolla|Los Angeles|Englewood|Chic...</td>\n",
              "      <td>Alabama|California|California|Colorado|Illinoi...</td>\n",
              "      <td>The Board of Trustees of the University of Ala...</td>\n",
              "    </tr>\n",
              "    <tr>\n",
              "      <th>663</th>\n",
              "      <td>3661</td>\n",
              "      <td>NCT05168059</td>\n",
              "      <td>No</td>\n",
              "      <td>No</td>\n",
              "      <td></td>\n",
              "      <td>Effectiveness of clevidipine</td>\n",
              "      <td>Percentage of patients achieving target systol...</td>\n",
              "      <td>1 to 6 hour of clevidipine infusion beginning</td>\n",
              "      <td>Incidence of adverse events related to clevidi...</td>\n",
              "      <td>Tachycardia, atrial fibrillation, hypotension,...</td>\n",
              "      <td>...</td>\n",
              "      <td>Effectiveness of clevidipine treatment accordi...</td>\n",
              "      <td>Percentage of male and female patients with ef...</td>\n",
              "      <td>1 to 6 hours after clevidipine infusion beginn...</td>\n",
              "      <td>Inclusion criteria:||-Adult patients older tha...</td>\n",
              "      <td>Neurocritical patients admitted to PostOperati...</td>\n",
              "      <td></td>\n",
              "      <td></td>\n",
              "      <td>Barakaldo</td>\n",
              "      <td>Vizcaya</td>\n",
              "      <td>Biocruces</td>\n",
              "    </tr>\n",
              "    <tr>\n",
              "      <th>664</th>\n",
              "      <td>3662</td>\n",
              "      <td>NCT02069509</td>\n",
              "      <td></td>\n",
              "      <td></td>\n",
              "      <td></td>\n",
              "      <td>Disease progression as assessed by clinical ex...</td>\n",
              "      <td></td>\n",
              "      <td>Participants are followed with annual assessments</td>\n",
              "      <td></td>\n",
              "      <td></td>\n",
              "      <td>...</td>\n",
              "      <td></td>\n",
              "      <td></td>\n",
              "      <td></td>\n",
              "      <td>Inclusion Criteria:||Genetic diagnosis of FRDA...</td>\n",
              "      <td>Individuals with a genetically confirmed diagn...</td>\n",
              "      <td>Accepts Healthy Volunteers</td>\n",
              "      <td>25566998|33770527|32746884|30286776|30097477|2...</td>\n",
              "      <td>Innsbruck|Bruxelles|Paris|Strasbourg|Aachen|Bo...</td>\n",
              "      <td></td>\n",
              "      <td>Medical University Innsbruck, Department of Ne...</td>\n",
              "    </tr>\n",
              "  </tbody>\n",
              "</table>\n",
              "<p>3662 rows × 21 columns</p>\n",
              "</div>"
            ],
            "text/plain": [
              "    index        NCTId IsFDARegulatedDrug IsFDARegulatedDevice  \\\n",
              "0       1  NCT02370134                                           \n",
              "1       2  NCT01662427                                           \n",
              "2       3  NCT05245955                 No                   No   \n",
              "3       4  NCT03152721                 No                   No   \n",
              "4       5  NCT02016092                                           \n",
              "..    ...          ...                ...                  ...   \n",
              "660  3658  NCT03681509                 No                   No   \n",
              "661  3659  NCT02704520                                           \n",
              "662  3660  NCT04370470                 No                   No   \n",
              "663  3661  NCT05168059                 No                   No   \n",
              "664  3662  NCT02069509                                           \n",
              "\n",
              "    IsUnapprovedDevice                              PrimaryOutcomeMeasure  \\\n",
              "0                       Number of participants who demonstrate the tre...   \n",
              "1                         To assess Noctural Parkinson's Disease Symptoms   \n",
              "2                       Detection threshold resulting from the assessm...   \n",
              "3                                           Decision to change management   \n",
              "4                               Biological markers of Parkinson's disease   \n",
              "..                 ...                                                ...   \n",
              "660                     Change in reward sensitivity on a reinforcemen...   \n",
              "661                                              Patient recruitment rate   \n",
              "662                     The UHDRS SIF ratings|Clinimetric properties o...   \n",
              "663                                          Effectiveness of clevidipine   \n",
              "664                     Disease progression as assessed by clinical ex...   \n",
              "\n",
              "                             PrimaryOutcomeDescription  \\\n",
              "0    To determine the tremor suppression after use ...   \n",
              "1                                                        \n",
              "2    Outcome of the assessment for the detection of...   \n",
              "3    The decision to change management of Parkinson...   \n",
              "4    To identify biologic markers of Parkinson's Di...   \n",
              "..                                                 ...   \n",
              "660  Participants are shown two distinct abstract s...   \n",
              "661  Total number of patients randomised per month ...   \n",
              "662  The equivalence of the original UHDRS function...   \n",
              "663  Percentage of patients achieving target systol...   \n",
              "664                                                      \n",
              "\n",
              "                               PrimaryOutcomeTimeFrame  \\\n",
              "0                       up to 1 month follow up period   \n",
              "1                                                        \n",
              "2    Through study completion, an average of 2 week...   \n",
              "3    On first regular contact, RC, (telephone or vi...   \n",
              "4                                            18 months   \n",
              "..                                                 ...   \n",
              "660             Completed at day 12 to 15 of treatment   \n",
              "661                During last 4 months of recruitment   \n",
              "662                                    3 weeks|3 weeks   \n",
              "663      1 to 6 hour of clevidipine infusion beginning   \n",
              "664  Participants are followed with annual assessments   \n",
              "\n",
              "                               SecondaryOutcomeMeasure  \\\n",
              "0    Number of Participants who report pain or any ...   \n",
              "1    To assess quality of life in Parkinson's Disea...   \n",
              "2    Demographic information|Edinburgh Handedness I...   \n",
              "3    Actual change of management|Patient Reported E...   \n",
              "4    Correlation between biologic markers and clini...   \n",
              "..                                                 ...   \n",
              "660  Change in performance in a facial expression r...   \n",
              "661  pathology circumferential resection margin (pC...   \n",
              "662                                                      \n",
              "663  Incidence of adverse events related to clevidi...   \n",
              "664                                                      \n",
              "\n",
              "                           SecondaryOutcomeDescription  ...  \\\n",
              "0    To determine the safety of parkinson's glove|T...  ...   \n",
              "1                                                       ...   \n",
              "2    Gender, age, year of birth.|Questionnaire to d...  ...   \n",
              "3    A retrospectively verified (medical and prescr...  ...   \n",
              "4    To identify and investigate possible correlati...  ...   \n",
              "..                                                 ...  ...   \n",
              "660  Participants are presented with individual pic...  ...   \n",
              "661  Overall pCRM involvement rate between the cont...  ...   \n",
              "662                                                     ...   \n",
              "663  Tachycardia, atrial fibrillation, hypotension,...  ...   \n",
              "664                                                     ...   \n",
              "\n",
              "                                   OtherOutcomeMeasure  \\\n",
              "0                                                        \n",
              "1                                                        \n",
              "2                                                        \n",
              "3                                                        \n",
              "4                                                        \n",
              "..                                                 ...   \n",
              "660  Change in subjective mood and energy|Change in...   \n",
              "661                                                      \n",
              "662                                                      \n",
              "663  Effectiveness of clevidipine treatment accordi...   \n",
              "664                                                      \n",
              "\n",
              "                               OtherOutcomeDescription  \\\n",
              "0                                                        \n",
              "1                                                        \n",
              "2                                                        \n",
              "3                                                        \n",
              "4                                                        \n",
              "..                                                 ...   \n",
              "660  Zersen's Befindlichkeits-Skala|Positive and Ne...   \n",
              "661                                                      \n",
              "662                                                      \n",
              "663  Percentage of male and female patients with ef...   \n",
              "664                                                      \n",
              "\n",
              "                                 OtherOutcomeTimeFrame  \\\n",
              "0                                                        \n",
              "1                                                        \n",
              "2                                                        \n",
              "3                                                        \n",
              "4                                                        \n",
              "..                                                 ...   \n",
              "660  Completed at day 12 to 15 of treatment|Complet...   \n",
              "661                                                      \n",
              "662                                                      \n",
              "663  1 to 6 hours after clevidipine infusion beginn...   \n",
              "664                                                      \n",
              "\n",
              "                                   EligibilityCriteria  \\\n",
              "0    Inclusion Criteria:||• Adults ≥ 18 years old.|...   \n",
              "1    Inclusion Criteria:||Idiopathic Parkinson's di...   \n",
              "2    Ten patients with Parkinson's disease and 10 a...   \n",
              "3    Inclusion Criteria:||Clinical diagnosis of Par...   \n",
              "4    Inclusion Criteria:||For PD cases:||Inclusion ...   \n",
              "..                                                 ...   \n",
              "660  Inclusion Criteria:||Male or female|Age: 18 to...   \n",
              "661  Inclusion Criteria:||Have a biopsy-confirmed a...   \n",
              "662  Inclusion Criteria:||Participants must meet al...   \n",
              "663  Inclusion criteria:||-Adult patients older tha...   \n",
              "664  Inclusion Criteria:||Genetic diagnosis of FRDA...   \n",
              "\n",
              "                                       StudyPopulation  \\\n",
              "0                                                        \n",
              "1          Parkinson's disease patient and care givers   \n",
              "2                                                        \n",
              "3                                                        \n",
              "4                                 Parkinson's patients   \n",
              "..                                                 ...   \n",
              "660                                                      \n",
              "661                                                      \n",
              "662  Manifest HDGEC Participants: Manifest HDGEC Pa...   \n",
              "663  Neurocritical patients admitted to PostOperati...   \n",
              "664  Individuals with a genetically confirmed diagn...   \n",
              "\n",
              "              HealthyVolunteers  \\\n",
              "0                            No   \n",
              "1    Accepts Healthy Volunteers   \n",
              "2    Accepts Healthy Volunteers   \n",
              "3                            No   \n",
              "4    Accepts Healthy Volunteers   \n",
              "..                          ...   \n",
              "660  Accepts Healthy Volunteers   \n",
              "661                          No   \n",
              "662                          No   \n",
              "663                               \n",
              "664  Accepts Healthy Volunteers   \n",
              "\n",
              "                                         ReferencePMID  \\\n",
              "0                                                        \n",
              "1                                                        \n",
              "2                                                        \n",
              "3                                                        \n",
              "4                                                        \n",
              "..                                                 ...   \n",
              "660                                                      \n",
              "661                                           28851403   \n",
              "662                                                      \n",
              "663                                                      \n",
              "664  25566998|33770527|32746884|30286776|30097477|2...   \n",
              "\n",
              "                                          LocationCity  \\\n",
              "0                                            Pathumwan   \n",
              "1                                            Pathumwan   \n",
              "2                                                        \n",
              "3                                             Göteborg   \n",
              "4                                            Sunnyvale   \n",
              "..                                                 ...   \n",
              "660                                             Oxford   \n",
              "661  Aberdeen|Basingstoke|Stoke-on-Trent|Salisbury|...   \n",
              "662  Birmingham|La Jolla|Los Angeles|Englewood|Chic...   \n",
              "663                                          Barakaldo   \n",
              "664  Innsbruck|Bruxelles|Paris|Strasbourg|Aachen|Bo...   \n",
              "\n",
              "                                         LocationState  \\\n",
              "0                                              Bangkok   \n",
              "1                                              Bangkok   \n",
              "2                                                        \n",
              "3                                                        \n",
              "4                                           California   \n",
              "..                                                 ...   \n",
              "660                                        Oxfordshire   \n",
              "661    Aberdeenshire|Hampshire|Staffordshire|Wiltshire   \n",
              "662  Alabama|California|California|Colorado|Illinoi...   \n",
              "663                                            Vizcaya   \n",
              "664                                                      \n",
              "\n",
              "                                      LocationFacility  \n",
              "0                    Chulalongkorn University Hospital  \n",
              "1                                 Roongroj Bhidayasiri  \n",
              "2                                                       \n",
              "3                      Sahlgrenska University Hospital  \n",
              "4        The Parkinson's Institute and Clinical Center  \n",
              "..                                                 ...  \n",
              "660           Dept of Psychiatry, University of Oxford  \n",
              "661  Aberdeen Royal Infirmary - NHS Grampion|Hampsh...  \n",
              "662  The Board of Trustees of the University of Ala...  \n",
              "663                                          Biocruces  \n",
              "664  Medical University Innsbruck, Department of Ne...  \n",
              "\n",
              "[3662 rows x 21 columns]"
            ]
          },
          "execution_count": 19,
          "metadata": {},
          "output_type": "execute_result"
        }
      ],
      "source": [
        "new_df2"
      ]
    },
    {
      "cell_type": "code",
      "execution_count": 20,
      "metadata": {},
      "outputs": [],
      "source": [
        "\n",
        "\n",
        "\n",
        "\n",
        "# api_pull_2 = ct.get_study_fields(\n",
        "#     search_expr=\"Parkinson\",\n",
        "#     fields=[\"NCTId\"],\n",
        "#     max_studies=10,\n",
        "#     min_rnk=5,\n",
        "#     fmt=\"csv\",\n",
        "# )\n",
        "\n",
        "# # ClinicalTrials limits API queries to 1000 records\n",
        "# # Count of studies may be useful to build loops when you want to retrieve more than 1000 records\n",
        "\n",
        "\n",
        "\n",
        "# # Read the csv data in Pandas\n",
        "# import pandas as pd\n",
        "\n",
        "# temp = pd.DataFrame.from_records(api_pull_2[1:], columns=api_pull_2[0])\n",
        "# temp"
      ]
    },
    {
      "cell_type": "code",
      "execution_count": 21,
      "metadata": {
        "id": "-o2YXU2v4Flm"
      },
      "outputs": [],
      "source": [
        "\n",
        "\n",
        "\n",
        "\n",
        "# # Get the NCTId, Condition and Brief title fields from 500 studies related to Coronavirus and Covid, in csv format.\n",
        "# api_pull_1 = ct.get_study_fields(\n",
        "#     search_expr=\"Parkinson\",\n",
        "#     fields=[\"NCTId\", \"Condition\", \"OfficialTitle\", \"BriefTitle\" , \"Acronym\" , \"StudyType\",\n",
        "#     \"InterventionType\",\"InterventionName\",\"InterventionOtherName\",\"InterventionDescription\",\"Phase\" \n",
        "#     ,\"StudyFirstSubmitDate\",\"LastUpdateSubmitDate\",\"CompletionDate\",\"OverallStatus\",\"IsFDARegulatedDrug\",\"IsFDARegulatedDevice\",\"BriefSummary\"],\n",
        "#     max_studies=999,\n",
        "#     fmt=\"csv\",\n",
        "# )\n",
        "\n",
        "# # ClinicalTrials limits API queries to 1000 records\n",
        "# # Count of studies may be useful to build loops when you want to retrieve more than 1000 records\n",
        "\n",
        "\n",
        "\n",
        "# # Read the csv data in Pandas\n",
        "# import pandas as pd\n",
        "\n",
        "# df1=pd.DataFrame.from_records(api_pull_1[1:], columns=api_pull_1[0])\n",
        "\n",
        "# # \n",
        "# # df1 = pd.DataFrame.to_frame().reset_index()\n",
        "\n"
      ]
    },
    {
      "cell_type": "code",
      "execution_count": null,
      "metadata": {},
      "outputs": [],
      "source": []
    },
    {
      "cell_type": "code",
      "execution_count": 22,
      "metadata": {
        "colab": {
          "base_uri": "https://localhost:8080/"
        },
        "id": "dYsPomag4Vzm",
        "outputId": "e5468a7b-b50d-4b27-f898-46e1c87ee989"
      },
      "outputs": [],
      "source": [
        "# api_pull_2 = ct.get_study_fields(\n",
        "#     search_expr=\"Parkinson\",\n",
        "#     fields=[\"NCTId\",\"IsFDARegulatedDrug\",\"IsFDARegulatedDevice\", \"IsUnapprovedDevice\", \"PrimaryOutcomeMeasure\", \"PrimaryOutcomeDescription\",\"PrimaryOutcomeTimeFrame\", \"SecondaryOutcomeMeasure\",\"SecondaryOutcomeDescription\", \"SecondaryOutcomeTimeFrame\",\"OtherOutcomeMeasure\"\n",
        "# ,\"OtherOutcomeDescription\",\"OtherOutcomeTimeFrame\",\"EligibilityCriteria\",\"StudyPopulation\",\"HealthyVolunteers\", \"ReferencePMID\", \"LocationCity\", \"LocationState\" , \"LocationFacility\"\n",
        "\n",
        "# ],\n",
        "#     max_studies=999,\n",
        "#     fmt=\"csv\",\n",
        "# )\n",
        "\n",
        "# # ClinicalTrials limits API queries to 1000 records\n",
        "# # Count of studies may be useful to build loops when you want to retrieve more than 1000 records\n",
        "\n",
        "# ct.get_study_count(search_expr=\"Parkinson\")\n",
        "\n",
        "# # Read the csv data in Pandas\n",
        "# import pandas as pd\n",
        "\n",
        "# df2 = pd.DataFrame.from_records(api_pull_2[1:], columns=api_pull_2[0])"
      ]
    },
    {
      "cell_type": "markdown",
      "metadata": {
        "id": "DQ1K9Cgd4xOC"
      },
      "source": [
        "##cleaning"
      ]
    },
    {
      "cell_type": "code",
      "execution_count": 23,
      "metadata": {},
      "outputs": [],
      "source": [
        "# print(type(df1))"
      ]
    },
    {
      "cell_type": "markdown",
      "metadata": {},
      "source": []
    },
    {
      "cell_type": "code",
      "execution_count": 24,
      "metadata": {
        "id": "EF7TnjRu4X9G"
      },
      "outputs": [],
      "source": [
        "result = pd.merge(new_df, new_df2,  on='NCTId', how='outer')"
      ]
    },
    {
      "cell_type": "code",
      "execution_count": 25,
      "metadata": {},
      "outputs": [
        {
          "data": {
            "text/plain": [
              "(3662, 40)"
            ]
          },
          "execution_count": 25,
          "metadata": {},
          "output_type": "execute_result"
        }
      ],
      "source": [
        "result.shape"
      ]
    },
    {
      "cell_type": "code",
      "execution_count": 26,
      "metadata": {},
      "outputs": [],
      "source": [
        "# result = result.loc[:,~result.columns.duplicated()]"
      ]
    },
    {
      "cell_type": "code",
      "execution_count": 27,
      "metadata": {},
      "outputs": [],
      "source": [
        "# result.shape"
      ]
    },
    {
      "cell_type": "code",
      "execution_count": 28,
      "metadata": {},
      "outputs": [],
      "source": [
        "# result.columns.tolist()"
      ]
    },
    {
      "cell_type": "markdown",
      "metadata": {},
      "source": [
        "IMPORTANT - this just drops the second index column - monitor or watch for mismatch or if you change the number of elements that are pulled from the first api"
      ]
    },
    {
      "cell_type": "code",
      "execution_count": 29,
      "metadata": {},
      "outputs": [],
      "source": [
        "result = result.drop(result.columns[[20]], axis=1)"
      ]
    },
    {
      "cell_type": "code",
      "execution_count": 30,
      "metadata": {
        "id": "phxa_Vqn5E5S"
      },
      "outputs": [
        {
          "data": {
            "text/plain": [
              "(3662, 39)"
            ]
          },
          "execution_count": 30,
          "metadata": {},
          "output_type": "execute_result"
        }
      ],
      "source": [
        "result.shape"
      ]
    },
    {
      "cell_type": "code",
      "execution_count": 31,
      "metadata": {},
      "outputs": [],
      "source": [
        "# result.columns.tolist()"
      ]
    },
    {
      "cell_type": "markdown",
      "metadata": {},
      "source": [
        "Save file"
      ]
    },
    {
      "cell_type": "code",
      "execution_count": 32,
      "metadata": {
        "id": "Dgre9uB-INsI"
      },
      "outputs": [],
      "source": [
        "# result.to_csv(r'data_raw.csv', index = False)\n",
        "result.to_excel(r'data_raw.xlsx', index = False)"
      ]
    },
    {
      "cell_type": "code",
      "execution_count": 33,
      "metadata": {},
      "outputs": [],
      "source": [
        "result.to_hdf('data_raw.h5', key='df', mode='w')  "
      ]
    },
    {
      "cell_type": "code",
      "execution_count": 34,
      "metadata": {},
      "outputs": [],
      "source": [
        "# labels, levels = pd.factorize(result[\"Phase\"])  "
      ]
    },
    {
      "cell_type": "code",
      "execution_count": 35,
      "metadata": {},
      "outputs": [],
      "source": [
        "# labels"
      ]
    },
    {
      "cell_type": "code",
      "execution_count": 36,
      "metadata": {
        "colab": {
          "base_uri": "https://localhost:8080/"
        },
        "id": "LAqtYjoTICny",
        "outputId": "2f809d6a-4257-4ef1-b5f8-e601695a8d57"
      },
      "outputs": [],
      "source": [
        "# fun_barplot()"
      ]
    },
    {
      "cell_type": "code",
      "execution_count": null,
      "metadata": {
        "colab": {
          "base_uri": "https://localhost:8080/"
        },
        "id": "CJgWIlIm47Cc",
        "outputId": "2ca52a69-39fc-4489-9cef-d3cff0685215"
      },
      "outputs": [],
      "source": []
    }
  ],
  "metadata": {
    "colab": {
      "collapsed_sections": [],
      "name": "HW2.ipynb",
      "provenance": []
    },
    "kernelspec": {
      "display_name": "Python 3",
      "name": "python3"
    },
    "language_info": {
      "codemirror_mode": {
        "name": "ipython",
        "version": 3
      },
      "file_extension": ".py",
      "mimetype": "text/x-python",
      "name": "python",
      "nbconvert_exporter": "python",
      "pygments_lexer": "ipython3",
      "version": "3.10.4"
    }
  },
  "nbformat": 4,
  "nbformat_minor": 0
}
