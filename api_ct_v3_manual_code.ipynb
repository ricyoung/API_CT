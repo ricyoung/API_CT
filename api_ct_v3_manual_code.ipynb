{
  "cells": [
    {
      "cell_type": "markdown",
      "metadata": {
        "id": "Tid-wrNW11pW"
      },
      "source": [
        "# Load Depenency"
      ]
    },
    {
      "cell_type": "code",
      "execution_count": 109,
      "metadata": {
        "id": "ACtufjx41sXQ"
      },
      "outputs": [],
      "source": [
        "#Cleaned up Crypto Example\n",
        "from os import system\n",
        "import pandas as pd\n",
        "import requests\n",
        "import datetime as dt\n",
        "# from pytrials.client import ClinicalTrials\n",
        "import json\n",
        "import ipywidgets as widgets\n",
        "import numpy as np\n",
        "np.random.seed(10031975)\n",
        "import matplotlib.pyplot as plt\n",
        "import numpy as np\n",
        "from matplotlib import rcParams, cycler\n",
        "import matplotlib.pyplot as plt\n",
        "from matplotlib.ticker import AutoMinorLocator"
      ]
    },
    {
      "cell_type": "code",
      "execution_count": 110,
      "metadata": {},
      "outputs": [],
      "source": [
        "#does some error handling\n",
        "\n",
        "\n",
        "import sys\n",
        "import csv\n",
        "maxInt = sys.maxsize\n",
        "\n",
        "while True:\n",
        "    # decrease the maxInt value by factor 10 \n",
        "    # as long as the OverflowError occurs.\n",
        "\n",
        "    try:\n",
        "        csv.field_size_limit(maxInt)\n",
        "        break\n",
        "    except OverflowError:\n",
        "        maxInt = int(maxInt/10)"
      ]
    },
    {
      "cell_type": "code",
      "execution_count": 111,
      "metadata": {},
      "outputs": [],
      "source": [
        "from pytrials.utils import json_handler, csv_handler\n",
        "\n",
        "\n",
        "class ClinicalTrials:\n",
        "    \"\"\"ClinicalTrials API client\n",
        "\n",
        "    Provides functions to easily access the ClinicalTrials.gov API\n",
        "    (https://clinicaltrials.gov/api/)\n",
        "    in Python.\n",
        "\n",
        "    Attributes:\n",
        "        study_fields: List of all study fields you can use in your query.\n",
        "        api_info: Tuple containing the API version number and the last\n",
        "        time the database was updated.\n",
        "    \"\"\"\n",
        "\n",
        "    _BASE_URL = \"https://clinicaltrials.gov/api/\"\n",
        "    _INFO = \"info/\"\n",
        "    _QUERY = \"query/\"\n",
        "    _JSON = \"fmt=json\"\n",
        "    _CSV = \"fmt=csv\"\n",
        "\n",
        "    def __init__(self):\n",
        "        self.api_info = self.__api_info()\n",
        "\n",
        "    @property\n",
        "    def study_fields(self):\n",
        "        fields_list = json_handler(\n",
        "            f\"{self._BASE_URL}{self._INFO}study_fields_list?{self._JSON}\"\n",
        "        )\n",
        "        return fields_list[\"StudyFields\"][\"Fields\"]\n",
        "\n",
        "    def __api_info(self):\n",
        "        \"\"\"Returns information about the API\"\"\"\n",
        "        last_updated = json_handler(\n",
        "            f\"{self._BASE_URL}{self._INFO}data_vrs?{self._JSON}\"\n",
        "        )[\"DataVrs\"]\n",
        "        api_version = json_handler(f\"{self._BASE_URL}{self._INFO}api_vrs?{self._JSON}\")[\n",
        "            \"APIVrs\"\n",
        "        ]\n",
        "\n",
        "        return api_version, last_updated\n",
        "\n",
        "    def get_full_studies(self, search_expr, max_studies=50):\n",
        "        \"\"\"Returns all content for a maximum of 100 study records.\n",
        "\n",
        "        Retrieves information from the full studies endpoint, which gets all study fields.\n",
        "        This endpoint can only output JSON (Or not-supported XML) format and does not allow\n",
        "        requests for more than 100 studies at once.\n",
        "\n",
        "        Args:\n",
        "            search_expr (str): A string containing a search expression as specified by\n",
        "                `their documentation <https://clinicaltrials.gov/api/gui/ref/syntax#searchExpr>`_.\n",
        "            max_studies (int): An integer indicating the maximum number of studies to return.\n",
        "                Defaults to 50.\n",
        "\n",
        "        Returns:\n",
        "            dict: Object containing the information queried with the search expression.\n",
        "\n",
        "        Raises:\n",
        "            ValueError: The number of studies can only be between 1 and 100\n",
        "        \"\"\"\n",
        "        if max_studies > 100 or max_studies < 1:\n",
        "            raise ValueError(\"The number of studies can only be between 1 and 100\")\n",
        "\n",
        "        req = f\"full_studies?expr={search_expr}&max_rnk={max_studies}&{self._JSON}\"\n",
        "\n",
        "        full_studies = json_handler(f\"{self._BASE_URL}{self._QUERY}{req}\")\n",
        "\n",
        "        return full_studies\n",
        "\n",
        "    def get_study_fields(self, search_expr, fields, max_studies=50, min_rnk=1,fmt=\"csv\"):\n",
        "        \"\"\"Returns study content for specified fields\n",
        "\n",
        "        Retrieves information from the study fields endpoint, which acquires specified information\n",
        "        from a large (max 1000) studies. To see a list of all possible fields, check the class'\n",
        "        study_fields attribute.\n",
        "\n",
        "        Args:\n",
        "            search_expr (str): A string containing a search expression as specified by\n",
        "                `their documentation <https://clinicaltrials.gov/api/gui/ref/syntax#searchExpr>`_.\n",
        "            fields (list(str)): A list containing the desired information fields.\n",
        "            max_studies (int): An integer indicating the maximum number of studies to return.\n",
        "                Defaults to 50.\n",
        "            fmt (str): A string indicating the output format, csv or json. Defaults to csv.\n",
        "\n",
        "        Returns:\n",
        "            Either a dict, if fmt='json', or a list of records (e.g. a list of lists), if fmt='csv.\n",
        "            Both containing the maximum number of study fields queried using the specified search expression.\n",
        "\n",
        "        Raises:\n",
        "            ValueError: The number of studies can only be between 1 and 1000\n",
        "            ValueError: One of the fields is not valid! Check the study_fields attribute\n",
        "                for a list of valid ones.\n",
        "            ValueError: Format argument has to be either 'csv' or 'json'\n",
        "        \"\"\"\n",
        "        if max_studies > 1000 or max_studies < 1:\n",
        "            raise ValueError(\"The number of studies can only be between 1 and 1000\")\n",
        "        elif not set(fields).issubset(self.study_fields):\n",
        "            raise ValueError(\n",
        "                \"One of the fields is not valid! Check the study_fields attribute for a list of valid ones.\"\n",
        "            )\n",
        "        else:\n",
        "            concat_fields = \",\".join(fields)\n",
        "            # req = f\"study_fields?expr={search_expr}&max_rnk={max_studies}&fields={concat_fields}\"\n",
        "            req = f\"study_fields?expr={search_expr}&min_rnk={min_rnk}&max_rnk={max_studies+min_rnk-1}&fields={concat_fields}\"\n",
        "            if fmt == \"csv\":\n",
        "                url = f\"{self._BASE_URL}{self._QUERY}{req}&{self._CSV}\"\n",
        "                return csv_handler(url)\n",
        "\n",
        "            elif fmt == \"json\":\n",
        "                url = f\"{self._BASE_URL}{self._QUERY}{req}&{self._JSON}\"\n",
        "                return json_handler(url)\n",
        "\n",
        "            else:\n",
        "                raise ValueError(\"Format argument has to be either 'csv' or 'json'\")\n",
        "\n",
        "    def get_study_count(self, search_expr):\n",
        "        \"\"\"Returns study count for specified search expression\n",
        "\n",
        "        Retrieves the count of studies matching the text entered in search_expr.\n",
        "\n",
        "        Args:\n",
        "            search_expr (str): A string containing a search expression as specified by\n",
        "                `their documentation <https://clinicaltrials.gov/api/gui/ref/syntax#searchExpr>`_.\n",
        "\n",
        "        Returns:\n",
        "            An integer\n",
        "\n",
        "        Raises:\n",
        "            ValueError: The search expression cannot be blank.\n",
        "        \"\"\"\n",
        "        if not set(search_expr):\n",
        "            raise ValueError(\"The search expression cannot be blank.\")\n",
        "        else:\n",
        "            req = f\"study_fields?expr={search_expr}&max_rnk=1&fields=NCTId\"\n",
        "            url = f\"{self._BASE_URL}{self._QUERY}{req}&{self._JSON}\"\n",
        "            returned_data = json_handler(url)\n",
        "            study_count = returned_data[\"StudyFieldsResponse\"][\"NStudiesFound\"]\n",
        "            return study_count\n",
        "\n",
        "    def __repr__(self):\n",
        "        return f\"ClinicalTrials.gov client v{self.api_info[0]}, database last updated {self.api_info[1]}\""
      ]
    },
    {
      "cell_type": "markdown",
      "metadata": {
        "id": "0oKv5xQg2hgJ"
      },
      "source": [
        "# Load Data"
      ]
    },
    {
      "cell_type": "markdown",
      "metadata": {},
      "source": [
        "https://clinicaltrials.gov/api/gui/ref/crosswalks"
      ]
    },
    {
      "cell_type": "markdown",
      "metadata": {},
      "source": [
        "Disease 2 search for"
      ]
    },
    {
      "cell_type": "markdown",
      "metadata": {},
      "source": [
        "This is for dymanic input of diease searching"
      ]
    },
    {
      "cell_type": "code",
      "execution_count": null,
      "metadata": {},
      "outputs": [],
      "source": []
    },
    {
      "cell_type": "code",
      "execution_count": 112,
      "metadata": {},
      "outputs": [
        {
          "name": "stdout",
          "output_type": "stream",
          "text": [
            "cancer\n"
          ]
        }
      ],
      "source": [
        "disease=input()\n",
        "print(disease)"
      ]
    },
    {
      "cell_type": "code",
      "execution_count": 113,
      "metadata": {},
      "outputs": [],
      "source": [
        "# disease = 'parkinson'\n",
        "\n",
        "#disease = 'depression'\n",
        "\n",
        "# disease = 'diabetes'\n",
        "\n",
        "# disease = 'tacs'\n",
        "\n"
      ]
    },
    {
      "cell_type": "markdown",
      "metadata": {},
      "source": [
        "hit mesh some day"
      ]
    },
    {
      "cell_type": "markdown",
      "metadata": {},
      "source": [
        "Pull ONE"
      ]
    },
    {
      "cell_type": "markdown",
      "metadata": {
        "id": "h_DJC1iG4RSB"
      },
      "source": [
        "#Explore Data"
      ]
    },
    {
      "cell_type": "code",
      "execution_count": 114,
      "metadata": {},
      "outputs": [],
      "source": [
        "#change this out to NAME\n",
        "\n",
        "ct = ClinicalTrials()\n",
        "infodf= (ct.get_full_studies(search_expr=disease, max_studies=5 ))\n"
      ]
    },
    {
      "cell_type": "code",
      "execution_count": 115,
      "metadata": {},
      "outputs": [
        {
          "data": {
            "text/plain": [
              "dict"
            ]
          },
          "execution_count": 115,
          "metadata": {},
          "output_type": "execute_result"
        }
      ],
      "source": [
        "type(infodf)"
      ]
    },
    {
      "cell_type": "code",
      "execution_count": 116,
      "metadata": {},
      "outputs": [
        {
          "name": "stdout",
          "output_type": "stream",
          "text": [
            "101358\n"
          ]
        }
      ],
      "source": [
        "number = print(infodf['FullStudiesResponse']['NStudiesFound'])"
      ]
    },
    {
      "cell_type": "code",
      "execution_count": 117,
      "metadata": {},
      "outputs": [],
      "source": [
        "count = ct.get_study_count(search_expr=disease)\n"
      ]
    },
    {
      "cell_type": "code",
      "execution_count": 118,
      "metadata": {},
      "outputs": [],
      "source": [
        "# count = 3000\n",
        "start = 0\n",
        "end = count\n",
        "iter = 999 #number of studies to get at a time ( limited to 1000 )\n",
        "\n",
        "\n",
        "\n",
        "\n",
        "\n",
        "temp = pd.DataFrame()\n",
        "temp2 = pd.DataFrame()\n",
        "new_df = pd.DataFrame()\n",
        "\n",
        "\n",
        "for i in range(1, count, iter):\n",
        "    # print(temp)\n",
        "    temp = ct.get_study_fields(\n",
        "        search_expr=disease,\n",
        "        fields=[\"NCTId\", \"Condition\", \"OfficialTitle\", \"BriefTitle\" , \"Acronym\" , \"StudyType\",\n",
        "    \"InterventionType\",\"InterventionName\",\"InterventionOtherName\",\"InterventionDescription\",\"Phase\" ,\"StudyFirstSubmitDate\",\"LastUpdateSubmitDate\",\"CompletionDate\",\"OverallStatus\",\"BaselineMeasureTitle\",\"BaselineMeasureDescription\",\"BaselineMeasurementValue\",\"BriefSummary\"],\n",
        "        max_studies=iter,\n",
        "        min_rnk=i,\n",
        "        fmt=\"csv\",)\n",
        "    # print(temp2[0])\n",
        "    temp2 =  pd.DataFrame.from_records(temp[1:])\n",
        "    new_df = pd.concat([new_df, temp2])\n",
        " \n"
      ]
    },
    {
      "cell_type": "code",
      "execution_count": 119,
      "metadata": {},
      "outputs": [],
      "source": [
        "new_df.columns = [\"Index\",\"NCTId\", \"Condition\", \"OfficialTitle\", \"BriefTitle\" , \"Acronym\" , \"StudyType\",\n",
        "    \"InterventionType\",\"InterventionName\",\"InterventionOtherName\",\"InterventionDescription\",\"Phase\" ,\"StudyFirstSubmitDate\",\"LastUpdateSubmitDate\",\"CompletionDate\",\"OverallStatus\",\"BaselineMeasureTitle\",\"BaselineMeasureDescription\",\"BaselineMeasurementValue\",\"BriefSummary\"]"
      ]
    },
    {
      "cell_type": "markdown",
      "metadata": {},
      "source": []
    },
    {
      "cell_type": "code",
      "execution_count": 120,
      "metadata": {},
      "outputs": [
        {
          "data": {
            "text/plain": [
              "(101358, 20)"
            ]
          },
          "execution_count": 120,
          "metadata": {},
          "output_type": "execute_result"
        }
      ],
      "source": [
        "# new_df\n",
        "new_df.shape"
      ]
    },
    {
      "cell_type": "code",
      "execution_count": 121,
      "metadata": {},
      "outputs": [
        {
          "data": {
            "text/plain": [
              "<bound method NDFrame.head of       Index        NCTId                                          Condition  \\\n",
              "0         1  NCT04318756                      Cancer Fear|Pancreatic Cancer   \n",
              "1         2  NCT03581708              Lung Neoplasms|Venous Thromboembolism   \n",
              "2         3  NCT04834570                                      Breast Cancer   \n",
              "3         4  NCT00897650                                        Lung Cancer   \n",
              "4         5  NCT04494620                                        Oral Cancer   \n",
              "..      ...          ...                                                ...   \n",
              "454  101354  NCT03607786  Type A Aortic Dissection|Circulatory Arrest|Hy...   \n",
              "455  101355  NCT02686996                                Insulin Sensitivity   \n",
              "456  101356  NCT04391309  Coronavirus Disease 2019 (COVID-19)|Severe Acu...   \n",
              "457  101357  NCT05212714                   Stress Disorders, Post-Traumatic   \n",
              "458  101358  NCT04183179  Healthy Diet|Stress|Pediatric Obesity|Intergen...   \n",
              "\n",
              "                                         OfficialTitle  \\\n",
              "0    The Italian Version of the Cancer Worry Scale ...   \n",
              "1    Real-world Study of the Incidence and Risk Fac...   \n",
              "2    Breast Cancer Survivors: Main Physical and Psy...   \n",
              "3    Molecular Fingerprints in Lung Cancer: Predict...   \n",
              "4    Randomized Intervention Trial to Evaluate Oral...   \n",
              "..                                                 ...   \n",
              "454  The Effect of Combination of Selective Antegra...   \n",
              "455  The Potential of Carnosine Supplementation in ...   \n",
              "456  Phase 2, Randomized, Double-Blind, Placebo-Con...   \n",
              "457  Transcutaneous Auricular Vagus Nerve Stimulati...   \n",
              "458  Happy Family, Healthy Kids: An Intergeneration...   \n",
              "\n",
              "                                            BriefTitle  Acronym  \\\n",
              "0            The Italian Version of Cancer Worry Scale  CWS_Ita   \n",
              "1       Venous Thromboembolism in Advanced Lung Cancer    RIVAL   \n",
              "2    Breast Cancer Survivors: Main Physical and Psy...            \n",
              "3    Protein and RNA Expression Patterns in Predict...            \n",
              "4    Evaluating Oral Visual Inspection in the Contr...            \n",
              "..                                                 ...      ...   \n",
              "454  Antegrade Cerebral Perfusion and Retrograde In...   CARTAR   \n",
              "455  The Potential of Carnosine Supplementation in ...            \n",
              "456             COVID-19 and Anti-CD14 Treatment Trial     CaTT   \n",
              "457    taVNS to Reduce PTSD Symptoms in WTC Responders    taVNS   \n",
              "458                 Happy Family, Healthy Kids Program            \n",
              "\n",
              "          StudyType                     InterventionType  \\\n",
              "0     Observational                           Behavioral   \n",
              "1     Observational                                Other   \n",
              "2     Observational                           Behavioral   \n",
              "3     Observational  Genetic|Genetic|Procedure|Procedure   \n",
              "4    Interventional                      Diagnostic Test   \n",
              "..              ...                                  ...   \n",
              "454  Interventional                  Procedure|Procedure   \n",
              "455  Interventional             Dietary Supplement|Other   \n",
              "456  Interventional                Biological|Other|Drug   \n",
              "457  Interventional                               Device   \n",
              "458  Interventional                           Behavioral   \n",
              "\n",
              "                                      InterventionName  \\\n",
              "0    Translation and cultural adaptation go the can...   \n",
              "1                                          lung cancer   \n",
              "2           Quality of life in Breast Cancer Survivors   \n",
              "3    DNA/RNA sequencing and expression levels|Prote...   \n",
              "4    Visual Inspection of Oral Cavity for Precancer...   \n",
              "..                                                 ...   \n",
              "454  Retrograde Inferior Vena Caval Perfusion|Selec...   \n",
              "455                                  carnosine|Placebo   \n",
              "456                       anti-CD14|Placebo|remdesivir   \n",
              "457                                              taVNS   \n",
              "458                 Happy Family, Healthy Kids Program   \n",
              "\n",
              "                                 InterventionOtherName  \\\n",
              "0    1) Preliminary pilot testing conducted on a pi...   \n",
              "1                                  advance lung cancer   \n",
              "2                                                        \n",
              "3    Matrix-assisted laser desorption/ionization ti...   \n",
              "4                                                        \n",
              "..                                                 ...   \n",
              "454                Select antegrade cerebral perfusion   \n",
              "455                                                      \n",
              "456  monoclonal antibody to CD14|IC14|Placebo for a...   \n",
              "457                                                      \n",
              "458                                                      \n",
              "\n",
              "                               InterventionDescription            Phase  \\\n",
              "0    To develop and validate the Italian version of...                    \n",
              "1    If the patient is diagnosed with lung cancer i...                    \n",
              "2    The patient will receive the following questio...                    \n",
              "3    Lung tumor tissue will be collected.|Lung tumo...                    \n",
              "4    Participants were invited for 3 rounds of oral...   Not Applicable   \n",
              "..                                                 ...              ...   \n",
              "454  Retrograde Inferior Vena Caval Perfusion is ac...   Not Applicable   \n",
              "455  Carnosine capsules (2g) twice per day for 14 w...   Not Applicable   \n",
              "456  4 mg/kg on Day 1, 2 mg/kg on Days 2-4 administ...          Phase 2   \n",
              "457  The non-invasive transcutaneous auricular vagu...   Not Applicable   \n",
              "458  The 14-week healthy eating program activities ...  Phase 2|Phase 3   \n",
              "\n",
              "    StudyFirstSubmitDate LastUpdateSubmitDate      CompletionDate  \\\n",
              "0         March 20, 2020       March 20, 2020     August 31, 2020   \n",
              "1           May 25, 2018         July 9, 2018           June 2022   \n",
              "2          April 1, 2021        April 6, 2021    November 1, 2022   \n",
              "3            May 9, 2009        July 18, 2017           July 2017   \n",
              "4          July 16, 2020        July 28, 2020   December 31, 2014   \n",
              "..                   ...                  ...                 ...   \n",
              "454        July 24, 2018        April 8, 2019  September 30, 2022   \n",
              "455     February 9, 2016       March 20, 2018       June 12, 2020   \n",
              "456         May 14, 2020       March 24, 2022    February 4, 2022   \n",
              "457    September 9, 2021        April 1, 2022        January 2025   \n",
              "458    November 27, 2019      August 31, 2021       December 2022   \n",
              "\n",
              "          OverallStatus BaselineMeasureTitle BaselineMeasureDescription  \\\n",
              "0        Unknown status                                                   \n",
              "1    Not yet recruiting                                                   \n",
              "2            Recruiting                                                   \n",
              "3             Completed                                                   \n",
              "4             Completed                                                   \n",
              "..                  ...                  ...                        ...   \n",
              "454          Recruiting                                                   \n",
              "455      Unknown status                                                   \n",
              "456          Terminated                                                   \n",
              "457          Recruiting                                                   \n",
              "458          Recruiting                                                   \n",
              "\n",
              "    BaselineMeasurementValue  \\\n",
              "0                              \n",
              "1                              \n",
              "2                              \n",
              "3                              \n",
              "4                              \n",
              "..                       ...   \n",
              "454                            \n",
              "455                            \n",
              "456                            \n",
              "457                            \n",
              "458                            \n",
              "\n",
              "                                          BriefSummary  \n",
              "0    An Italian language version of the Cancer Worr...  \n",
              "1    This is a prospective observatory clinical stu...  \n",
              "2    Breast cancer directly affects women physicall...  \n",
              "3    RATIONALE: Studying samples of tumor tissue an...  \n",
              "4    Cluster-randomized controlled trial in Trivand...  \n",
              "..                                                 ...  \n",
              "454  This study is designed as a multicenter, rando...  \n",
              "455  The aim of this study is to determine whether ...  \n",
              "456  This study aims to address the following objec...  \n",
              "457  This study seeks to conduct a randomized, doub...  \n",
              "458  Happy Family, Healthy Kids program, funded by ...  \n",
              "\n",
              "[101358 rows x 20 columns]>"
            ]
          },
          "execution_count": 121,
          "metadata": {},
          "output_type": "execute_result"
        }
      ],
      "source": [
        "new_df.head"
      ]
    },
    {
      "cell_type": "code",
      "execution_count": 122,
      "metadata": {},
      "outputs": [],
      "source": [
        "# temp = pd.DataFrame.from_records(api_pull_2[1:], columns=api_pull_2[0])"
      ]
    },
    {
      "cell_type": "code",
      "execution_count": 123,
      "metadata": {},
      "outputs": [],
      "source": [
        "# print(temp.shape)"
      ]
    },
    {
      "cell_type": "code",
      "execution_count": 124,
      "metadata": {},
      "outputs": [],
      "source": [
        "# count = 3000\n",
        "start = 0\n",
        "end = count\n",
        "iter = 999 #number of studies to get at a time ( limited to 1000 )\n",
        "\n",
        "from random import seed\n",
        "from random import random\n",
        "\n",
        "\n",
        "\n",
        "temp = pd.DataFrame()\n",
        "temp2 = pd.DataFrame()\n",
        "new_df2 = pd.DataFrame()\n",
        "\n",
        "\n",
        "for i in range(1, count, iter):\n",
        "    # print(temp)\n",
        "    temp = ct.get_study_fields(\n",
        "        search_expr=disease,\n",
        "        fields=[\"NCTId\",\"IsFDARegulatedDrug\",\"IsFDARegulatedDevice\", \"IsUnapprovedDevice\", \"PrimaryOutcomeMeasure\", \"PrimaryOutcomeDescription\",\"PrimaryOutcomeTimeFrame\", \"SecondaryOutcomeMeasure\",\"SecondaryOutcomeDescription\", \"SecondaryOutcomeTimeFrame\",\"OtherOutcomeMeasure\"\n",
        ",\"OtherOutcomeDescription\",\"OtherOutcomeTimeFrame\",\"EligibilityCriteria\",\"StudyPopulation\",\"HealthyVolunteers\", \"ReferencePMID\", \"LocationCity\", \"LocationState\" , \"LocationFacility\"],\n",
        "        max_studies=iter,\n",
        "        min_rnk=i,\n",
        "        fmt=\"csv\",)\n",
        "    # print(temp2[0])\n",
        "    temp2 =  pd.DataFrame.from_records(temp[1:])\n",
        "    new_df2 = pd.concat([new_df2, temp2])\n",
        " \n"
      ]
    },
    {
      "cell_type": "code",
      "execution_count": 125,
      "metadata": {},
      "outputs": [],
      "source": [
        "new_df2.columns = [\"index\", \"NCTId\",\"IsFDARegulatedDrug\",\"IsFDARegulatedDevice\", \"IsUnapprovedDevice\", \"PrimaryOutcomeMeasure\", \"PrimaryOutcomeDescription\",\"PrimaryOutcomeTimeFrame\", \"SecondaryOutcomeMeasure\",\"SecondaryOutcomeDescription\", \"SecondaryOutcomeTimeFrame\",\"OtherOutcomeMeasure\"\n",
        ",\"OtherOutcomeDescription\",\"OtherOutcomeTimeFrame\",\"EligibilityCriteria\",\"StudyPopulation\",\"HealthyVolunteers\", \"ReferencePMID\", \"LocationCity\", \"LocationState\" , \"LocationFacility\"]"
      ]
    },
    {
      "cell_type": "code",
      "execution_count": 126,
      "metadata": {},
      "outputs": [
        {
          "data": {
            "text/plain": [
              "(101358, 21)"
            ]
          },
          "execution_count": 126,
          "metadata": {},
          "output_type": "execute_result"
        }
      ],
      "source": [
        "new_df2.shape"
      ]
    },
    {
      "cell_type": "code",
      "execution_count": 127,
      "metadata": {},
      "outputs": [
        {
          "data": {
            "text/html": [
              "<div>\n",
              "<style scoped>\n",
              "    .dataframe tbody tr th:only-of-type {\n",
              "        vertical-align: middle;\n",
              "    }\n",
              "\n",
              "    .dataframe tbody tr th {\n",
              "        vertical-align: top;\n",
              "    }\n",
              "\n",
              "    .dataframe thead th {\n",
              "        text-align: right;\n",
              "    }\n",
              "</style>\n",
              "<table border=\"1\" class=\"dataframe\">\n",
              "  <thead>\n",
              "    <tr style=\"text-align: right;\">\n",
              "      <th></th>\n",
              "      <th>index</th>\n",
              "      <th>NCTId</th>\n",
              "      <th>IsFDARegulatedDrug</th>\n",
              "      <th>IsFDARegulatedDevice</th>\n",
              "      <th>IsUnapprovedDevice</th>\n",
              "      <th>PrimaryOutcomeMeasure</th>\n",
              "      <th>PrimaryOutcomeDescription</th>\n",
              "      <th>PrimaryOutcomeTimeFrame</th>\n",
              "      <th>SecondaryOutcomeMeasure</th>\n",
              "      <th>SecondaryOutcomeDescription</th>\n",
              "      <th>...</th>\n",
              "      <th>OtherOutcomeMeasure</th>\n",
              "      <th>OtherOutcomeDescription</th>\n",
              "      <th>OtherOutcomeTimeFrame</th>\n",
              "      <th>EligibilityCriteria</th>\n",
              "      <th>StudyPopulation</th>\n",
              "      <th>HealthyVolunteers</th>\n",
              "      <th>ReferencePMID</th>\n",
              "      <th>LocationCity</th>\n",
              "      <th>LocationState</th>\n",
              "      <th>LocationFacility</th>\n",
              "    </tr>\n",
              "  </thead>\n",
              "  <tbody>\n",
              "    <tr>\n",
              "      <th>0</th>\n",
              "      <td>1</td>\n",
              "      <td>NCT04318756</td>\n",
              "      <td>No</td>\n",
              "      <td>No</td>\n",
              "      <td></td>\n",
              "      <td>Syntactic and semantic equivalence of Cancer w...</td>\n",
              "      <td>the Syntactic and semantic equivalence of scal...</td>\n",
              "      <td>1 month</td>\n",
              "      <td>Face Validity of cancer worry scale on Italian...</td>\n",
              "      <td>Face Validity will be measured through the eva...</td>\n",
              "      <td>...</td>\n",
              "      <td></td>\n",
              "      <td></td>\n",
              "      <td></td>\n",
              "      <td>Inclusion Criteria:||Subject will be recruited...</td>\n",
              "      <td>Subject will be recruited from the current out...</td>\n",
              "      <td>No</td>\n",
              "      <td></td>\n",
              "      <td></td>\n",
              "      <td></td>\n",
              "      <td></td>\n",
              "    </tr>\n",
              "    <tr>\n",
              "      <th>1</th>\n",
              "      <td>2</td>\n",
              "      <td>NCT03581708</td>\n",
              "      <td>No</td>\n",
              "      <td>No</td>\n",
              "      <td></td>\n",
              "      <td>VTE incidence risk evaluation</td>\n",
              "      <td>Real world VTE incidence risk evaluation in ad...</td>\n",
              "      <td>12 months</td>\n",
              "      <td>VTE incidence|VTE and overall survival</td>\n",
              "      <td>VTE incidence in advanced lung cancer.|The inf...</td>\n",
              "      <td>...</td>\n",
              "      <td></td>\n",
              "      <td></td>\n",
              "      <td></td>\n",
              "      <td>Inclusion Criteria:||Age ≥ 18 years at the tim...</td>\n",
              "      <td>Patients diagnosed with advanced staged lung c...</td>\n",
              "      <td>No</td>\n",
              "      <td>18216292|15701913|17940477|10499070|12083490|1...</td>\n",
              "      <td>Guangzhou</td>\n",
              "      <td>Guagndong</td>\n",
              "      <td>Guangdong General Hospital</td>\n",
              "    </tr>\n",
              "    <tr>\n",
              "      <th>2</th>\n",
              "      <td>3</td>\n",
              "      <td>NCT04834570</td>\n",
              "      <td>No</td>\n",
              "      <td>No</td>\n",
              "      <td></td>\n",
              "      <td>Change in Global Health Status by EORTC QLQ-C3...</td>\n",
              "      <td>This questionnaire was designed to be cancer s...</td>\n",
              "      <td>1 year after treatment ends; 2 years after tre...</td>\n",
              "      <td>Quality of life specific for breast cancer by ...</td>\n",
              "      <td>The questionnaire contains 23-item, two breast...</td>\n",
              "      <td>...</td>\n",
              "      <td></td>\n",
              "      <td></td>\n",
              "      <td></td>\n",
              "      <td>Inclusion Criteria:||Breast cancer|Adult women...</td>\n",
              "      <td>Recruitment of 100 breast cancer patients who ...</td>\n",
              "      <td>No</td>\n",
              "      <td></td>\n",
              "      <td>São Paulo</td>\n",
              "      <td></td>\n",
              "      <td>IBCC Oncologia</td>\n",
              "    </tr>\n",
              "    <tr>\n",
              "      <th>3</th>\n",
              "      <td>4</td>\n",
              "      <td>NCT00897650</td>\n",
              "      <td></td>\n",
              "      <td></td>\n",
              "      <td></td>\n",
              "      <td>DNA, RNA, and Protein expression patterns and ...</td>\n",
              "      <td>DNA, RNA, and Protein expression patterns and ...</td>\n",
              "      <td>After lung tumor tissue and blood collection.</td>\n",
              "      <td>Characterization of genes and proteins predict...</td>\n",
              "      <td>Identify genes and proteins predictive of resp...</td>\n",
              "      <td>...</td>\n",
              "      <td></td>\n",
              "      <td></td>\n",
              "      <td></td>\n",
              "      <td>Inclusion criteria||Diagnosis of suspected lun...</td>\n",
              "      <td>People who have or may have lung cancer.</td>\n",
              "      <td>No</td>\n",
              "      <td></td>\n",
              "      <td>Nashville</td>\n",
              "      <td>Tennessee</td>\n",
              "      <td>Vanderbilt-Ingram Cancer Center</td>\n",
              "    </tr>\n",
              "    <tr>\n",
              "      <th>4</th>\n",
              "      <td>5</td>\n",
              "      <td>NCT04494620</td>\n",
              "      <td>No</td>\n",
              "      <td>No</td>\n",
              "      <td></td>\n",
              "      <td>Oral Cancer Death Rate</td>\n",
              "      <td>Information on all deaths were collected from ...</td>\n",
              "      <td>15 years</td>\n",
              "      <td>Oral Cavity Cancer Incidence</td>\n",
              "      <td>Information on incident oral cancer cases were...</td>\n",
              "      <td>...</td>\n",
              "      <td></td>\n",
              "      <td></td>\n",
              "      <td></td>\n",
              "      <td>Inclusion Criteria: Residing in 13 study clust...</td>\n",
              "      <td></td>\n",
              "      <td>Accepts Healthy Volunteers</td>\n",
              "      <td>23265945|15936419|33449824</td>\n",
              "      <td></td>\n",
              "      <td></td>\n",
              "      <td></td>\n",
              "    </tr>\n",
              "    <tr>\n",
              "      <th>...</th>\n",
              "      <td>...</td>\n",
              "      <td>...</td>\n",
              "      <td>...</td>\n",
              "      <td>...</td>\n",
              "      <td>...</td>\n",
              "      <td>...</td>\n",
              "      <td>...</td>\n",
              "      <td>...</td>\n",
              "      <td>...</td>\n",
              "      <td>...</td>\n",
              "      <td>...</td>\n",
              "      <td>...</td>\n",
              "      <td>...</td>\n",
              "      <td>...</td>\n",
              "      <td>...</td>\n",
              "      <td>...</td>\n",
              "      <td>...</td>\n",
              "      <td>...</td>\n",
              "      <td>...</td>\n",
              "      <td>...</td>\n",
              "      <td>...</td>\n",
              "    </tr>\n",
              "    <tr>\n",
              "      <th>454</th>\n",
              "      <td>101354</td>\n",
              "      <td>NCT03607786</td>\n",
              "      <td>No</td>\n",
              "      <td>No</td>\n",
              "      <td></td>\n",
              "      <td>Composite major complications</td>\n",
              "      <td>Newly Postoperative Renal Failure;Surgical Re-...</td>\n",
              "      <td>up to 12 months</td>\n",
              "      <td>Respiratory Failure|Transient Neurological Def...</td>\n",
              "      <td>The occurrence of postoperative agitation, con...</td>\n",
              "      <td>...</td>\n",
              "      <td>The number of volume of blood products transfu...</td>\n",
              "      <td>The number of units of packed red blood cells ...</td>\n",
              "      <td>up to 30 days|up to 30 days|up to 30 days|up t...</td>\n",
              "      <td>Inclusion Criteria:||Patient aged 18 yr-65yr|P...</td>\n",
              "      <td></td>\n",
              "      <td>No</td>\n",
              "      <td>33879045|31014386</td>\n",
              "      <td>Chengdu</td>\n",
              "      <td>Sichuan</td>\n",
              "      <td>West China Hospital of Sichuan University</td>\n",
              "    </tr>\n",
              "    <tr>\n",
              "      <th>455</th>\n",
              "      <td>101355</td>\n",
              "      <td>NCT02686996</td>\n",
              "      <td>No</td>\n",
              "      <td>No</td>\n",
              "      <td></td>\n",
              "      <td>Change in insulin sensitivity measured by eugl...</td>\n",
              "      <td>The clamp will be used to measure insulin sens...</td>\n",
              "      <td>From baseline to 14 weeks</td>\n",
              "      <td>Change in markers of endothelial dysfunction|C...</td>\n",
              "      <td>This is done using non-invasive peripheral art...</td>\n",
              "      <td>...</td>\n",
              "      <td>Change in Arterial waveform measurement|Change...</td>\n",
              "      <td>This is done with the BP+ device (Uscom Ltd, A...</td>\n",
              "      <td>From baseline to 14 weeks|From baseline to 14 ...</td>\n",
              "      <td>Inclusion Criteria:||Age &gt;18 or &lt;60 years,|Wei...</td>\n",
              "      <td></td>\n",
              "      <td>Accepts Healthy Volunteers</td>\n",
              "      <td>33986049</td>\n",
              "      <td>Melbourne</td>\n",
              "      <td>Victoria</td>\n",
              "      <td>Monash Centre for Health Research and Implemen...</td>\n",
              "    </tr>\n",
              "    <tr>\n",
              "      <th>456</th>\n",
              "      <td>101356</td>\n",
              "      <td>NCT04391309</td>\n",
              "      <td>Yes</td>\n",
              "      <td>No</td>\n",
              "      <td></td>\n",
              "      <td>Time to Clinical Recovery</td>\n",
              "      <td>The Primary Endpoint is time to clinical recov...</td>\n",
              "      <td>Day 0-28</td>\n",
              "      <td>Days Alive and Free of Any Episodes of Acute R...</td>\n",
              "      <td>Defined by need for any of the following oxyge...</td>\n",
              "      <td>...</td>\n",
              "      <td>EXPLORATORY: Change in Sequential Organ Failur...</td>\n",
              "      <td>Sequential Organ Failure Assessment score (ran...</td>\n",
              "      <td>Days 0-7, Days 0-14, Days 0-21, and Days 0-28|...</td>\n",
              "      <td>Inclusion Criteria:||Patients included in the ...</td>\n",
              "      <td></td>\n",
              "      <td>No</td>\n",
              "      <td></td>\n",
              "      <td>Torrance|Miami Beach|Sarasota|Atlanta|New Orle...</td>\n",
              "      <td>California|Florida|Florida|Georgia|Louisiana|M...</td>\n",
              "      <td>Harbor - UCLA Medical Center|University of Mia...</td>\n",
              "    </tr>\n",
              "    <tr>\n",
              "      <th>457</th>\n",
              "      <td>101357</td>\n",
              "      <td>NCT05212714</td>\n",
              "      <td>No</td>\n",
              "      <td>Yes</td>\n",
              "      <td>Yes</td>\n",
              "      <td>Feasibility of Utilizing taVNS with WTCHP Resp...</td>\n",
              "      <td>Evaluated as: (1) rates of recruitment (per mo...</td>\n",
              "      <td>8 week follow-up|8 week follow-up|8 week follo...</td>\n",
              "      <td>Acceptability of taVNS by WTCHP Responders As ...</td>\n",
              "      <td>Assessing: (1) the time to completion of quest...</td>\n",
              "      <td>...</td>\n",
              "      <td>Mental Health Measures|PTSD|Biologic Potential...</td>\n",
              "      <td>Tertiary outcome measures validated self-repor...</td>\n",
              "      <td>Baseline and 8 week follow-up|Baseline and 8 w...</td>\n",
              "      <td>Inclusion Criteria:||being a Queens WTCHP resp...</td>\n",
              "      <td></td>\n",
              "      <td>No</td>\n",
              "      <td></td>\n",
              "      <td>Manhasset</td>\n",
              "      <td>New York</td>\n",
              "      <td>Feinstein Institutes for Medical Research</td>\n",
              "    </tr>\n",
              "    <tr>\n",
              "      <th>458</th>\n",
              "      <td>101358</td>\n",
              "      <td>NCT04183179</td>\n",
              "      <td>No</td>\n",
              "      <td>No</td>\n",
              "      <td></td>\n",
              "      <td>Child dietary intake</td>\n",
              "      <td>Child dietary intake will be assessed by the 4...</td>\n",
              "      <td>Change from baseline child dietary intake at 1...</td>\n",
              "      <td>Child eating style|Child proportion of overwei...</td>\n",
              "      <td>Child eating style will be assessed by the 35-...</td>\n",
              "      <td>...</td>\n",
              "      <td>Parental knowledge of health eating|Parental s...</td>\n",
              "      <td>Parental knowledge of health eating will be as...</td>\n",
              "      <td>Change from baseline parental knowledge of hea...</td>\n",
              "      <td>Inclusion Criteria:||There are ten inclusion c...</td>\n",
              "      <td></td>\n",
              "      <td>Accepts Healthy Volunteers</td>\n",
              "      <td></td>\n",
              "      <td>Thompsonville</td>\n",
              "      <td>Michigan</td>\n",
              "      <td>Betsie Valley Elementary</td>\n",
              "    </tr>\n",
              "  </tbody>\n",
              "</table>\n",
              "<p>101358 rows × 21 columns</p>\n",
              "</div>"
            ],
            "text/plain": [
              "      index        NCTId IsFDARegulatedDrug IsFDARegulatedDevice  \\\n",
              "0         1  NCT04318756                 No                   No   \n",
              "1         2  NCT03581708                 No                   No   \n",
              "2         3  NCT04834570                 No                   No   \n",
              "3         4  NCT00897650                                           \n",
              "4         5  NCT04494620                 No                   No   \n",
              "..      ...          ...                ...                  ...   \n",
              "454  101354  NCT03607786                 No                   No   \n",
              "455  101355  NCT02686996                 No                   No   \n",
              "456  101356  NCT04391309                Yes                   No   \n",
              "457  101357  NCT05212714                 No                  Yes   \n",
              "458  101358  NCT04183179                 No                   No   \n",
              "\n",
              "    IsUnapprovedDevice                              PrimaryOutcomeMeasure  \\\n",
              "0                       Syntactic and semantic equivalence of Cancer w...   \n",
              "1                                           VTE incidence risk evaluation   \n",
              "2                       Change in Global Health Status by EORTC QLQ-C3...   \n",
              "3                       DNA, RNA, and Protein expression patterns and ...   \n",
              "4                                                  Oral Cancer Death Rate   \n",
              "..                 ...                                                ...   \n",
              "454                                         Composite major complications   \n",
              "455                     Change in insulin sensitivity measured by eugl...   \n",
              "456                                             Time to Clinical Recovery   \n",
              "457                Yes  Feasibility of Utilizing taVNS with WTCHP Resp...   \n",
              "458                                                  Child dietary intake   \n",
              "\n",
              "                             PrimaryOutcomeDescription  \\\n",
              "0    the Syntactic and semantic equivalence of scal...   \n",
              "1    Real world VTE incidence risk evaluation in ad...   \n",
              "2    This questionnaire was designed to be cancer s...   \n",
              "3    DNA, RNA, and Protein expression patterns and ...   \n",
              "4    Information on all deaths were collected from ...   \n",
              "..                                                 ...   \n",
              "454  Newly Postoperative Renal Failure;Surgical Re-...   \n",
              "455  The clamp will be used to measure insulin sens...   \n",
              "456  The Primary Endpoint is time to clinical recov...   \n",
              "457  Evaluated as: (1) rates of recruitment (per mo...   \n",
              "458  Child dietary intake will be assessed by the 4...   \n",
              "\n",
              "                               PrimaryOutcomeTimeFrame  \\\n",
              "0                                              1 month   \n",
              "1                                            12 months   \n",
              "2    1 year after treatment ends; 2 years after tre...   \n",
              "3        After lung tumor tissue and blood collection.   \n",
              "4                                             15 years   \n",
              "..                                                 ...   \n",
              "454                                    up to 12 months   \n",
              "455                          From baseline to 14 weeks   \n",
              "456                                           Day 0-28   \n",
              "457  8 week follow-up|8 week follow-up|8 week follo...   \n",
              "458  Change from baseline child dietary intake at 1...   \n",
              "\n",
              "                               SecondaryOutcomeMeasure  \\\n",
              "0    Face Validity of cancer worry scale on Italian...   \n",
              "1               VTE incidence|VTE and overall survival   \n",
              "2    Quality of life specific for breast cancer by ...   \n",
              "3    Characterization of genes and proteins predict...   \n",
              "4                         Oral Cavity Cancer Incidence   \n",
              "..                                                 ...   \n",
              "454  Respiratory Failure|Transient Neurological Def...   \n",
              "455  Change in markers of endothelial dysfunction|C...   \n",
              "456  Days Alive and Free of Any Episodes of Acute R...   \n",
              "457  Acceptability of taVNS by WTCHP Responders As ...   \n",
              "458  Child eating style|Child proportion of overwei...   \n",
              "\n",
              "                           SecondaryOutcomeDescription  ...  \\\n",
              "0    Face Validity will be measured through the eva...  ...   \n",
              "1    VTE incidence in advanced lung cancer.|The inf...  ...   \n",
              "2    The questionnaire contains 23-item, two breast...  ...   \n",
              "3    Identify genes and proteins predictive of resp...  ...   \n",
              "4    Information on incident oral cancer cases were...  ...   \n",
              "..                                                 ...  ...   \n",
              "454  The occurrence of postoperative agitation, con...  ...   \n",
              "455  This is done using non-invasive peripheral art...  ...   \n",
              "456  Defined by need for any of the following oxyge...  ...   \n",
              "457  Assessing: (1) the time to completion of quest...  ...   \n",
              "458  Child eating style will be assessed by the 35-...  ...   \n",
              "\n",
              "                                   OtherOutcomeMeasure  \\\n",
              "0                                                        \n",
              "1                                                        \n",
              "2                                                        \n",
              "3                                                        \n",
              "4                                                        \n",
              "..                                                 ...   \n",
              "454  The number of volume of blood products transfu...   \n",
              "455  Change in Arterial waveform measurement|Change...   \n",
              "456  EXPLORATORY: Change in Sequential Organ Failur...   \n",
              "457  Mental Health Measures|PTSD|Biologic Potential...   \n",
              "458  Parental knowledge of health eating|Parental s...   \n",
              "\n",
              "                               OtherOutcomeDescription  \\\n",
              "0                                                        \n",
              "1                                                        \n",
              "2                                                        \n",
              "3                                                        \n",
              "4                                                        \n",
              "..                                                 ...   \n",
              "454  The number of units of packed red blood cells ...   \n",
              "455  This is done with the BP+ device (Uscom Ltd, A...   \n",
              "456  Sequential Organ Failure Assessment score (ran...   \n",
              "457  Tertiary outcome measures validated self-repor...   \n",
              "458  Parental knowledge of health eating will be as...   \n",
              "\n",
              "                                 OtherOutcomeTimeFrame  \\\n",
              "0                                                        \n",
              "1                                                        \n",
              "2                                                        \n",
              "3                                                        \n",
              "4                                                        \n",
              "..                                                 ...   \n",
              "454  up to 30 days|up to 30 days|up to 30 days|up t...   \n",
              "455  From baseline to 14 weeks|From baseline to 14 ...   \n",
              "456  Days 0-7, Days 0-14, Days 0-21, and Days 0-28|...   \n",
              "457  Baseline and 8 week follow-up|Baseline and 8 w...   \n",
              "458  Change from baseline parental knowledge of hea...   \n",
              "\n",
              "                                   EligibilityCriteria  \\\n",
              "0    Inclusion Criteria:||Subject will be recruited...   \n",
              "1    Inclusion Criteria:||Age ≥ 18 years at the tim...   \n",
              "2    Inclusion Criteria:||Breast cancer|Adult women...   \n",
              "3    Inclusion criteria||Diagnosis of suspected lun...   \n",
              "4    Inclusion Criteria: Residing in 13 study clust...   \n",
              "..                                                 ...   \n",
              "454  Inclusion Criteria:||Patient aged 18 yr-65yr|P...   \n",
              "455  Inclusion Criteria:||Age >18 or <60 years,|Wei...   \n",
              "456  Inclusion Criteria:||Patients included in the ...   \n",
              "457  Inclusion Criteria:||being a Queens WTCHP resp...   \n",
              "458  Inclusion Criteria:||There are ten inclusion c...   \n",
              "\n",
              "                                       StudyPopulation  \\\n",
              "0    Subject will be recruited from the current out...   \n",
              "1    Patients diagnosed with advanced staged lung c...   \n",
              "2    Recruitment of 100 breast cancer patients who ...   \n",
              "3             People who have or may have lung cancer.   \n",
              "4                                                        \n",
              "..                                                 ...   \n",
              "454                                                      \n",
              "455                                                      \n",
              "456                                                      \n",
              "457                                                      \n",
              "458                                                      \n",
              "\n",
              "              HealthyVolunteers  \\\n",
              "0                            No   \n",
              "1                            No   \n",
              "2                            No   \n",
              "3                            No   \n",
              "4    Accepts Healthy Volunteers   \n",
              "..                          ...   \n",
              "454                          No   \n",
              "455  Accepts Healthy Volunteers   \n",
              "456                          No   \n",
              "457                          No   \n",
              "458  Accepts Healthy Volunteers   \n",
              "\n",
              "                                         ReferencePMID  \\\n",
              "0                                                        \n",
              "1    18216292|15701913|17940477|10499070|12083490|1...   \n",
              "2                                                        \n",
              "3                                                        \n",
              "4                           23265945|15936419|33449824   \n",
              "..                                                 ...   \n",
              "454                                  33879045|31014386   \n",
              "455                                           33986049   \n",
              "456                                                      \n",
              "457                                                      \n",
              "458                                                      \n",
              "\n",
              "                                          LocationCity  \\\n",
              "0                                                        \n",
              "1                                            Guangzhou   \n",
              "2                                            São Paulo   \n",
              "3                                            Nashville   \n",
              "4                                                        \n",
              "..                                                 ...   \n",
              "454                                            Chengdu   \n",
              "455                                          Melbourne   \n",
              "456  Torrance|Miami Beach|Sarasota|Atlanta|New Orle...   \n",
              "457                                          Manhasset   \n",
              "458                                      Thompsonville   \n",
              "\n",
              "                                         LocationState  \\\n",
              "0                                                        \n",
              "1                                            Guagndong   \n",
              "2                                                        \n",
              "3                                            Tennessee   \n",
              "4                                                        \n",
              "..                                                 ...   \n",
              "454                                            Sichuan   \n",
              "455                                           Victoria   \n",
              "456  California|Florida|Florida|Georgia|Louisiana|M...   \n",
              "457                                           New York   \n",
              "458                                           Michigan   \n",
              "\n",
              "                                      LocationFacility  \n",
              "0                                                       \n",
              "1                           Guangdong General Hospital  \n",
              "2                                       IBCC Oncologia  \n",
              "3                      Vanderbilt-Ingram Cancer Center  \n",
              "4                                                       \n",
              "..                                                 ...  \n",
              "454          West China Hospital of Sichuan University  \n",
              "455  Monash Centre for Health Research and Implemen...  \n",
              "456  Harbor - UCLA Medical Center|University of Mia...  \n",
              "457          Feinstein Institutes for Medical Research  \n",
              "458                           Betsie Valley Elementary  \n",
              "\n",
              "[101358 rows x 21 columns]"
            ]
          },
          "execution_count": 127,
          "metadata": {},
          "output_type": "execute_result"
        }
      ],
      "source": [
        "new_df2"
      ]
    },
    {
      "cell_type": "code",
      "execution_count": 128,
      "metadata": {},
      "outputs": [],
      "source": [
        "\n",
        "\n",
        "\n",
        "\n",
        "# api_pull_2 = ct.get_study_fields(\n",
        "#     search_expr=\"Parkinson\",\n",
        "#     fields=[\"NCTId\"],\n",
        "#     max_studies=10,\n",
        "#     min_rnk=5,\n",
        "#     fmt=\"csv\",\n",
        "# )\n",
        "\n",
        "# # ClinicalTrials limits API queries to 1000 records\n",
        "# # Count of studies may be useful to build loops when you want to retrieve more than 1000 records\n",
        "\n",
        "\n",
        "\n",
        "# # Read the csv data in Pandas\n",
        "# import pandas as pd\n",
        "\n",
        "# temp = pd.DataFrame.from_records(api_pull_2[1:], columns=api_pull_2[0])\n",
        "# temp"
      ]
    },
    {
      "cell_type": "code",
      "execution_count": 129,
      "metadata": {
        "id": "-o2YXU2v4Flm"
      },
      "outputs": [],
      "source": [
        "\n",
        "\n",
        "\n",
        "\n",
        "# # Get the NCTId, Condition and Brief title fields from 500 studies related to Coronavirus and Covid, in csv format.\n",
        "# api_pull_1 = ct.get_study_fields(\n",
        "#     search_expr=\"Parkinson\",\n",
        "#     fields=[\"NCTId\", \"Condition\", \"OfficialTitle\", \"BriefTitle\" , \"Acronym\" , \"StudyType\",\n",
        "#     \"InterventionType\",\"InterventionName\",\"InterventionOtherName\",\"InterventionDescription\",\"Phase\" \n",
        "#     ,\"StudyFirstSubmitDate\",\"LastUpdateSubmitDate\",\"CompletionDate\",\"OverallStatus\",\"IsFDARegulatedDrug\",\"IsFDARegulatedDevice\",\"BriefSummary\"],\n",
        "#     max_studies=999,\n",
        "#     fmt=\"csv\",\n",
        "# )\n",
        "\n",
        "# # ClinicalTrials limits API queries to 1000 records\n",
        "# # Count of studies may be useful to build loops when you want to retrieve more than 1000 records\n",
        "\n",
        "\n",
        "\n",
        "# # Read the csv data in Pandas\n",
        "# import pandas as pd\n",
        "\n",
        "# df1=pd.DataFrame.from_records(api_pull_1[1:], columns=api_pull_1[0])\n",
        "\n",
        "# # \n",
        "# # df1 = pd.DataFrame.to_frame().reset_index()\n",
        "\n"
      ]
    },
    {
      "cell_type": "code",
      "execution_count": null,
      "metadata": {},
      "outputs": [],
      "source": []
    },
    {
      "cell_type": "code",
      "execution_count": 130,
      "metadata": {
        "colab": {
          "base_uri": "https://localhost:8080/"
        },
        "id": "dYsPomag4Vzm",
        "outputId": "e5468a7b-b50d-4b27-f898-46e1c87ee989"
      },
      "outputs": [],
      "source": [
        "# api_pull_2 = ct.get_study_fields(\n",
        "#     search_expr=\"Parkinson\",\n",
        "#     fields=[\"NCTId\",\"IsFDARegulatedDrug\",\"IsFDARegulatedDevice\", \"IsUnapprovedDevice\", \"PrimaryOutcomeMeasure\", \"PrimaryOutcomeDescription\",\"PrimaryOutcomeTimeFrame\", \"SecondaryOutcomeMeasure\",\"SecondaryOutcomeDescription\", \"SecondaryOutcomeTimeFrame\",\"OtherOutcomeMeasure\"\n",
        "# ,\"OtherOutcomeDescription\",\"OtherOutcomeTimeFrame\",\"EligibilityCriteria\",\"StudyPopulation\",\"HealthyVolunteers\", \"ReferencePMID\", \"LocationCity\", \"LocationState\" , \"LocationFacility\"\n",
        "\n",
        "# ],\n",
        "#     max_studies=999,\n",
        "#     fmt=\"csv\",\n",
        "# )\n",
        "\n",
        "# # ClinicalTrials limits API queries to 1000 records\n",
        "# # Count of studies may be useful to build loops when you want to retrieve more than 1000 records\n",
        "\n",
        "# ct.get_study_count(search_expr=\"Parkinson\")\n",
        "\n",
        "# # Read the csv data in Pandas\n",
        "# import pandas as pd\n",
        "\n",
        "# df2 = pd.DataFrame.from_records(api_pull_2[1:], columns=api_pull_2[0])"
      ]
    },
    {
      "cell_type": "markdown",
      "metadata": {
        "id": "DQ1K9Cgd4xOC"
      },
      "source": [
        "##cleaning"
      ]
    },
    {
      "cell_type": "code",
      "execution_count": 131,
      "metadata": {},
      "outputs": [],
      "source": [
        "# print(type(df1))"
      ]
    },
    {
      "cell_type": "markdown",
      "metadata": {},
      "source": []
    },
    {
      "cell_type": "code",
      "execution_count": 132,
      "metadata": {
        "id": "EF7TnjRu4X9G"
      },
      "outputs": [],
      "source": [
        "result = pd.merge(new_df, new_df2,  on='NCTId', how='outer')"
      ]
    },
    {
      "cell_type": "code",
      "execution_count": 133,
      "metadata": {},
      "outputs": [
        {
          "data": {
            "text/plain": [
              "(101358, 40)"
            ]
          },
          "execution_count": 133,
          "metadata": {},
          "output_type": "execute_result"
        }
      ],
      "source": [
        "result.shape"
      ]
    },
    {
      "cell_type": "code",
      "execution_count": 134,
      "metadata": {},
      "outputs": [],
      "source": [
        "# result = result.loc[:,~result.columns.duplicated()]"
      ]
    },
    {
      "cell_type": "code",
      "execution_count": 135,
      "metadata": {},
      "outputs": [],
      "source": [
        "# result.shape"
      ]
    },
    {
      "cell_type": "code",
      "execution_count": 136,
      "metadata": {},
      "outputs": [],
      "source": [
        "# result.columns.tolist()"
      ]
    },
    {
      "cell_type": "markdown",
      "metadata": {},
      "source": [
        "IMPORTANT - this just drops the second index column - monitor or watch for mismatch or if you change the number of elements that are pulled from the first api"
      ]
    },
    {
      "cell_type": "code",
      "execution_count": 137,
      "metadata": {},
      "outputs": [],
      "source": [
        "result = result.drop(result.columns[[20]], axis=1)"
      ]
    },
    {
      "cell_type": "code",
      "execution_count": 138,
      "metadata": {
        "id": "phxa_Vqn5E5S"
      },
      "outputs": [
        {
          "data": {
            "text/plain": [
              "(101358, 39)"
            ]
          },
          "execution_count": 138,
          "metadata": {},
          "output_type": "execute_result"
        }
      ],
      "source": [
        "result.shape"
      ]
    },
    {
      "cell_type": "code",
      "execution_count": 139,
      "metadata": {},
      "outputs": [],
      "source": [
        "# result.columns.tolist()"
      ]
    },
    {
      "cell_type": "markdown",
      "metadata": {},
      "source": [
        "Save file"
      ]
    },
    {
      "cell_type": "code",
      "execution_count": 140,
      "metadata": {
        "id": "Dgre9uB-INsI"
      },
      "outputs": [],
      "source": [
        "# result.to_csv(r'data_raw.csv', index = False)\n",
        "result.to_excel(r'data_raw.xlsx', index = False)"
      ]
    },
    {
      "cell_type": "code",
      "execution_count": 141,
      "metadata": {},
      "outputs": [],
      "source": [
        "result.to_hdf('data_raw.h5', key='df', mode='w')  "
      ]
    },
    {
      "cell_type": "code",
      "execution_count": 142,
      "metadata": {},
      "outputs": [],
      "source": [
        "# labels, levels = pd.factorize(result[\"Phase\"])  "
      ]
    },
    {
      "cell_type": "code",
      "execution_count": 143,
      "metadata": {},
      "outputs": [],
      "source": [
        "# labels"
      ]
    },
    {
      "cell_type": "code",
      "execution_count": 144,
      "metadata": {
        "colab": {
          "base_uri": "https://localhost:8080/"
        },
        "id": "LAqtYjoTICny",
        "outputId": "2f809d6a-4257-4ef1-b5f8-e601695a8d57"
      },
      "outputs": [],
      "source": [
        "# fun_barplot()"
      ]
    },
    {
      "cell_type": "code",
      "execution_count": null,
      "metadata": {
        "colab": {
          "base_uri": "https://localhost:8080/"
        },
        "id": "CJgWIlIm47Cc",
        "outputId": "2ca52a69-39fc-4489-9cef-d3cff0685215"
      },
      "outputs": [],
      "source": []
    }
  ],
  "metadata": {
    "colab": {
      "collapsed_sections": [],
      "name": "HW2.ipynb",
      "provenance": []
    },
    "kernelspec": {
      "display_name": "Python 3",
      "name": "python3"
    },
    "language_info": {
      "codemirror_mode": {
        "name": "ipython",
        "version": 3
      },
      "file_extension": ".py",
      "mimetype": "text/x-python",
      "name": "python",
      "nbconvert_exporter": "python",
      "pygments_lexer": "ipython3",
      "version": "3.10.4"
    }
  },
  "nbformat": 4,
  "nbformat_minor": 0
}
