{
  "cells": [
    {
      "cell_type": "markdown",
      "metadata": {
        "id": "Tid-wrNW11pW"
      },
      "source": [
        "# Load Depenency"
      ]
    },
    {
      "cell_type": "code",
      "execution_count": 82,
      "metadata": {
        "id": "ACtufjx41sXQ"
      },
      "outputs": [],
      "source": [
        "#Cleaned up Crypto Example\n",
        "from os import system\n",
        "import pandas as pd\n",
        "import requests\n",
        "import datetime as dt\n",
        "# from pytrials.client import ClinicalTrials\n",
        "import json\n",
        "import ipywidgets as widgets\n",
        "import numpy as np\n",
        "np.random.seed(10031975)\n",
        "import matplotlib.pyplot as plt\n",
        "import numpy as np\n",
        "from matplotlib import rcParams, cycler\n",
        "import matplotlib.pyplot as plt\n",
        "from matplotlib.ticker import AutoMinorLocator\n",
        "# from openpyxl import Workbook\n",
        "import openpyxl"
      ]
    },
    {
      "cell_type": "code",
      "execution_count": 83,
      "metadata": {},
      "outputs": [],
      "source": [
        "#does some error handling\n",
        "\n",
        "\n",
        "import sys\n",
        "import csv\n",
        "maxInt = sys.maxsize\n",
        "\n",
        "while True:\n",
        "    # decrease the maxInt value by factor 10 \n",
        "    # as long as the OverflowError occurs.\n",
        "\n",
        "    try:\n",
        "        csv.field_size_limit(maxInt)\n",
        "        break\n",
        "    except OverflowError:\n",
        "        maxInt = int(maxInt/10)"
      ]
    },
    {
      "cell_type": "code",
      "execution_count": 84,
      "metadata": {},
      "outputs": [],
      "source": [
        "from pytrials.utils import json_handler, csv_handler\n",
        "\n",
        "\n",
        "class ClinicalTrials:\n",
        "    \"\"\"ClinicalTrials API client\n",
        "\n",
        "    Provides functions to easily access the ClinicalTrials.gov API\n",
        "    (https://clinicaltrials.gov/api/)\n",
        "    in Python.\n",
        "\n",
        "    Attributes:\n",
        "        study_fields: List of all study fields you can use in your query.\n",
        "        api_info: Tuple containing the API version number and the last\n",
        "        time the database was updated.\n",
        "    \"\"\"\n",
        "\n",
        "    _BASE_URL = \"https://clinicaltrials.gov/api/\"\n",
        "    _INFO = \"info/\"\n",
        "    _QUERY = \"query/\"\n",
        "    _JSON = \"fmt=json\"\n",
        "    _CSV = \"fmt=csv\"\n",
        "\n",
        "    def __init__(self):\n",
        "        self.api_info = self.__api_info()\n",
        "\n",
        "    @property\n",
        "    def study_fields(self):\n",
        "        fields_list = json_handler(\n",
        "            f\"{self._BASE_URL}{self._INFO}study_fields_list?{self._JSON}\"\n",
        "        )\n",
        "        return fields_list[\"StudyFields\"][\"Fields\"]\n",
        "\n",
        "    def __api_info(self):\n",
        "        \"\"\"Returns information about the API\"\"\"\n",
        "        last_updated = json_handler(\n",
        "            f\"{self._BASE_URL}{self._INFO}data_vrs?{self._JSON}\"\n",
        "        )[\"DataVrs\"]\n",
        "        api_version = json_handler(f\"{self._BASE_URL}{self._INFO}api_vrs?{self._JSON}\")[\n",
        "            \"APIVrs\"\n",
        "        ]\n",
        "\n",
        "        return api_version, last_updated\n",
        "\n",
        "    def get_full_studies(self, search_expr, max_studies=50):\n",
        "        \"\"\"Returns all content for a maximum of 100 study records.\n",
        "\n",
        "        Retrieves information from the full studies endpoint, which gets all study fields.\n",
        "        This endpoint can only output JSON (Or not-supported XML) format and does not allow\n",
        "        requests for more than 100 studies at once.\n",
        "\n",
        "        Args:\n",
        "            search_expr (str): A string containing a search expression as specified by\n",
        "                `their documentation <https://clinicaltrials.gov/api/gui/ref/syntax#searchExpr>`_.\n",
        "            max_studies (int): An integer indicating the maximum number of studies to return.\n",
        "                Defaults to 50.\n",
        "\n",
        "        Returns:\n",
        "            dict: Object containing the information queried with the search expression.\n",
        "\n",
        "        Raises:\n",
        "            ValueError: The number of studies can only be between 1 and 100\n",
        "        \"\"\"\n",
        "        if max_studies > 100 or max_studies < 1:\n",
        "            raise ValueError(\"The number of studies can only be between 1 and 100\")\n",
        "\n",
        "        req = f\"full_studies?expr={search_expr}&max_rnk={max_studies}&{self._JSON}\"\n",
        "\n",
        "        full_studies = json_handler(f\"{self._BASE_URL}{self._QUERY}{req}\")\n",
        "\n",
        "        return full_studies\n",
        "\n",
        "    def get_study_fields(self, search_expr, fields, max_studies=50, min_rnk=1,fmt=\"csv\"):\n",
        "        \"\"\"Returns study content for specified fields\n",
        "\n",
        "        Retrieves information from the study fields endpoint, which acquires specified information\n",
        "        from a large (max 1000) studies. To see a list of all possible fields, check the class'\n",
        "        study_fields attribute.\n",
        "\n",
        "        Args:\n",
        "            search_expr (str): A string containing a search expression as specified by\n",
        "                `their documentation <https://clinicaltrials.gov/api/gui/ref/syntax#searchExpr>`_.\n",
        "            fields (list(str)): A list containing the desired information fields.\n",
        "            max_studies (int): An integer indicating the maximum number of studies to return.\n",
        "                Defaults to 50.\n",
        "            fmt (str): A string indicating the output format, csv or json. Defaults to csv.\n",
        "\n",
        "        Returns:\n",
        "            Either a dict, if fmt='json', or a list of records (e.g. a list of lists), if fmt='csv.\n",
        "            Both containing the maximum number of study fields queried using the specified search expression.\n",
        "\n",
        "        Raises:\n",
        "            ValueError: The number of studies can only be between 1 and 1000\n",
        "            ValueError: One of the fields is not valid! Check the study_fields attribute\n",
        "                for a list of valid ones.\n",
        "            ValueError: Format argument has to be either 'csv' or 'json'\n",
        "        \"\"\"\n",
        "        if max_studies > 1000 or max_studies < 1:\n",
        "            raise ValueError(\"The number of studies can only be between 1 and 1000\")\n",
        "        elif not set(fields).issubset(self.study_fields):\n",
        "            raise ValueError(\n",
        "                \"One of the fields is not valid! Check the study_fields attribute for a list of valid ones.\"\n",
        "            )\n",
        "        else:\n",
        "            concat_fields = \",\".join(fields)\n",
        "            # req = f\"study_fields?expr={search_expr}&max_rnk={max_studies}&fields={concat_fields}\"\n",
        "            req = f\"study_fields?expr={search_expr}&min_rnk={min_rnk}&max_rnk={max_studies+min_rnk-1}&fields={concat_fields}\"\n",
        "            if fmt == \"csv\":\n",
        "                url = f\"{self._BASE_URL}{self._QUERY}{req}&{self._CSV}\"\n",
        "                return csv_handler(url)\n",
        "\n",
        "            elif fmt == \"json\":\n",
        "                url = f\"{self._BASE_URL}{self._QUERY}{req}&{self._JSON}\"\n",
        "                return json_handler(url)\n",
        "\n",
        "            else:\n",
        "                raise ValueError(\"Format argument has to be either 'csv' or 'json'\")\n",
        "\n",
        "    def get_study_count(self, search_expr):\n",
        "        \"\"\"Returns study count for specified search expression\n",
        "\n",
        "        Retrieves the count of studies matching the text entered in search_expr.\n",
        "\n",
        "        Args:\n",
        "            search_expr (str): A string containing a search expression as specified by\n",
        "                `their documentation <https://clinicaltrials.gov/api/gui/ref/syntax#searchExpr>`_.\n",
        "\n",
        "        Returns:\n",
        "            An integer\n",
        "\n",
        "        Raises:\n",
        "            ValueError: The search expression cannot be blank.\n",
        "        \"\"\"\n",
        "        if not set(search_expr):\n",
        "            raise ValueError(\"The search expression cannot be blank.\")\n",
        "        else:\n",
        "            req = f\"study_fields?expr={search_expr}&max_rnk=1&fields=NCTId\"\n",
        "            url = f\"{self._BASE_URL}{self._QUERY}{req}&{self._JSON}\"\n",
        "            returned_data = json_handler(url)\n",
        "            study_count = returned_data[\"StudyFieldsResponse\"][\"NStudiesFound\"]\n",
        "            return study_count\n",
        "\n",
        "    def __repr__(self):\n",
        "        return f\"ClinicalTrials.gov client v{self.api_info[0]}, database last updated {self.api_info[1]}\""
      ]
    },
    {
      "cell_type": "markdown",
      "metadata": {
        "id": "0oKv5xQg2hgJ"
      },
      "source": [
        "# Load Data"
      ]
    },
    {
      "cell_type": "markdown",
      "metadata": {},
      "source": [
        "https://clinicaltrials.gov/api/gui/ref/crosswalks"
      ]
    },
    {
      "cell_type": "markdown",
      "metadata": {},
      "source": [
        "Disease 2 search for"
      ]
    },
    {
      "cell_type": "markdown",
      "metadata": {},
      "source": [
        "This is for dymanic input of diease searching"
      ]
    },
    {
      "cell_type": "code",
      "execution_count": null,
      "metadata": {},
      "outputs": [],
      "source": []
    },
    {
      "cell_type": "code",
      "execution_count": 85,
      "metadata": {},
      "outputs": [],
      "source": [
        "# disease=input()\n",
        "# print(disease)"
      ]
    },
    {
      "cell_type": "code",
      "execution_count": 86,
      "metadata": {},
      "outputs": [],
      "source": [
        "disease = 'synuclein'\n",
        "\n",
        "#disease = 'depression'\n",
        "\n",
        "# disease = 'diabetes'\n",
        "\n",
        "# disease = 'tacs'\n",
        "\n"
      ]
    },
    {
      "cell_type": "markdown",
      "metadata": {},
      "source": []
    },
    {
      "cell_type": "markdown",
      "metadata": {},
      "source": [
        "hit mesh some day"
      ]
    },
    {
      "cell_type": "markdown",
      "metadata": {},
      "source": [
        "Pull ONE"
      ]
    },
    {
      "cell_type": "markdown",
      "metadata": {
        "id": "h_DJC1iG4RSB"
      },
      "source": [
        "#Explore Data"
      ]
    },
    {
      "cell_type": "code",
      "execution_count": 87,
      "metadata": {},
      "outputs": [],
      "source": [
        "#change this out to NAME\n",
        "\n",
        "ct = ClinicalTrials()\n",
        "infodf= (ct.get_full_studies(search_expr=disease, max_studies=5 ))\n"
      ]
    },
    {
      "cell_type": "code",
      "execution_count": 88,
      "metadata": {},
      "outputs": [],
      "source": [
        "# type(infodf)"
      ]
    },
    {
      "cell_type": "code",
      "execution_count": 89,
      "metadata": {},
      "outputs": [
        {
          "name": "stdout",
          "output_type": "stream",
          "text": [
            "114\n"
          ]
        }
      ],
      "source": [
        "number = print(infodf['FullStudiesResponse']['NStudiesFound'])"
      ]
    },
    {
      "cell_type": "code",
      "execution_count": 90,
      "metadata": {},
      "outputs": [],
      "source": [
        "count = ct.get_study_count(search_expr=disease)\n"
      ]
    },
    {
      "cell_type": "code",
      "execution_count": 91,
      "metadata": {},
      "outputs": [
        {
          "name": "stdout",
          "output_type": "stream",
          "text": [
            "1-999 of 114\n"
          ]
        }
      ],
      "source": [
        "# count = 3000\n",
        "start = 0\n",
        "end = count\n",
        "iter = 999 #number of studies to get at a time ( limited to 1000 )\n",
        "\n",
        "\n",
        "\n",
        "\n",
        "\n",
        "temp = pd.DataFrame()\n",
        "\n",
        "temp2 = pd.DataFrame()\n",
        "new_df = pd.DataFrame()\n",
        "\n",
        "\n",
        "for i in range(1, count, iter):\n",
        "    # print(temp)\n",
        "    temp = ct.get_study_fields(\n",
        "        search_expr=disease,\n",
        "        fields=[\"NCTId\", \"Condition\", \"OfficialTitle\", \"BriefTitle\" , \"Acronym\" , \"StudyType\", \"InterventionType\",\"InterventionName\",\"InterventionOtherName\",\"InterventionDescription\",\"Phase\",\"StudyFirstSubmitDate\",\"LastUpdateSubmitDate\",\"CompletionDate\",\"OverallStatus\",\"BriefSummary\",\"IsFDARegulatedDrug\",\"IsFDARegulatedDevice\"],\n",
        "        max_studies=iter,\n",
        "        min_rnk=i,\n",
        "        fmt=\"csv\",)\n",
        "    # print(temp2[0])\n",
        "    iter2 = iter + (i-1)\n",
        "    print(str(i) + \"-\" + str(iter2) + \" of \" + str(count))\n",
        "    temp2 =  pd.DataFrame.from_records(temp[1:])\n",
        "    new_df = pd.concat([new_df, temp2])\n",
        " \n"
      ]
    },
    {
      "cell_type": "code",
      "execution_count": 92,
      "metadata": {},
      "outputs": [],
      "source": [
        "new_df.columns = [\"Index\",\"NCTId\", \"Condition\", \"OfficialTitle\", \"BriefTitle\" , \"Acronym\" , \"StudyType\",\n",
        "    \"InterventionType\",\"InterventionName\",\"InterventionOtherName\",\"InterventionDescription\",\"Phase\" ,\"StudyFirstSubmitDate\",\"LastUpdateSubmitDate\",\"CompletionDate\",\"OverallStatus\",\"BriefSummary\",\"IsFDARegulatedDrug\",\"IsFDARegulatedDevice\"]"
      ]
    },
    {
      "cell_type": "markdown",
      "metadata": {},
      "source": []
    },
    {
      "cell_type": "code",
      "execution_count": 93,
      "metadata": {},
      "outputs": [
        {
          "data": {
            "text/plain": [
              "(114, 19)"
            ]
          },
          "execution_count": 93,
          "metadata": {},
          "output_type": "execute_result"
        }
      ],
      "source": [
        "# new_df\n",
        "new_df.shape"
      ]
    },
    {
      "cell_type": "code",
      "execution_count": 94,
      "metadata": {},
      "outputs": [],
      "source": [
        "new_df.to_excel(r'\tAlpha-synuclein_data_raw_part_a.xlsx',  engine='openpyxl', index = False)"
      ]
    },
    {
      "cell_type": "code",
      "execution_count": 95,
      "metadata": {},
      "outputs": [
        {
          "data": {
            "text/plain": [
              "<bound method NDFrame.head of     Index        NCTId                                          Condition  \\\n",
              "0       1  NCT04020198  Parkinson Disease|Multiple System Atrophy|Rapi...   \n",
              "1       2  NCT01380899           Parkinson Disease|Parkinsonian Disorders   \n",
              "2       3  NCT03156647           Parkinson Disease|Parkinsonian Disorders   \n",
              "3       4  NCT04732741  Oral Cancer|Oral Lichen Planus|Oral Leukoplaki...   \n",
              "4       5  NCT05067192  Parkinson Disease|Dementia With Lewy Bodies|Mu...   \n",
              "..    ...          ...                                                ...   \n",
              "109   110  NCT04691661                                  Parkinson Disease   \n",
              "110   111  NCT03775538  Parkinson Disease|Movement Disorders|Neuro-Deg...   \n",
              "111   112  NCT02408562                                Parkinson's Disease   \n",
              "112   113  NCT04810104        Parkinson Disease|Mild Cognitive Impairment   \n",
              "113   114  NCT03174886              Primary Progressive Nonfluent Aphasia   \n",
              "\n",
              "                                         OfficialTitle  \\\n",
              "0    A Pilot Biomarker Study Assessing Alpha-synucl...   \n",
              "1    Usefulness of α-synuclein as a Marker for Earl...   \n",
              "2    Alpha-synuclein Level in the Saliva as a Poten...   \n",
              "3    Diagnostic Accuracy of Salivary Gamma-synuclei...   \n",
              "4    Optimization of Morphomer-based Alpha-synuclei...   \n",
              "..                                                 ...   \n",
              "109  A Randomized Double-blind Placebo-controlled M...   \n",
              "110  A Randomised, Double-Blind, Multi-centre, Acti...   \n",
              "111  A Phase 1, Multicentre, Randomised, Double-bli...   \n",
              "112  Parkinson's Disease With Mild Cognitive Impair...   \n",
              "113  A 24-month Randomised Parallel Group Single-bl...   \n",
              "\n",
              "                                            BriefTitle  Acronym  \\\n",
              "0    A Pilot Biomarker Study Assessing Alpha-synucl...            \n",
              "1    Usefulness of α-synuclein as a Marker for Earl...            \n",
              "2    Alpha-synuclein Level in Saliva to Differentia...  PARKSYN   \n",
              "3    Diagnostic Accuracy of Salivary Gamma-synuclei...            \n",
              "4    Optimization of Morphomer-based Alpha-synuclei...            \n",
              "..                                                 ...      ...   \n",
              "109  Safety, Tolerability, Pharmacokinetics and Eff...            \n",
              "110  Safety of CDNF by Brain Infusion in Patients W...            \n",
              "111  Study on Tolerability of Repeat i.c.v. Adminis...            \n",
              "112  Parkinson's Disease With Mild Cognitive Impair...  PD-MIND   \n",
              "113  A 24-month Phase 1 Pilot Study of AADvac1 in P...     AIDA   \n",
              "\n",
              "          StudyType                                 InterventionType  \\\n",
              "0     Observational                                            Other   \n",
              "1     Observational                                        Procedure   \n",
              "2     Observational                                  Diagnostic Test   \n",
              "3     Observational  Diagnostic Test|Diagnostic Test|Diagnostic Test   \n",
              "4     Observational                                                    \n",
              "..              ...                                              ...   \n",
              "109  Interventional                                        Drug|Drug   \n",
              "110  Interventional                                      Drug|Device   \n",
              "111  Interventional                                      Other|Other   \n",
              "112  Interventional                                        Drug|Drug   \n",
              "113  Interventional                                        Drug|Drug   \n",
              "\n",
              "                                      InterventionName  \\\n",
              "0                                      Biomarker assay   \n",
              "1                                       Biopsy of skin   \n",
              "2                             Level of alpha-synuclein   \n",
              "3    Salivary Gamma-synuclein|Incisional biopsy|Con...   \n",
              "4                                                        \n",
              "..                                                 ...   \n",
              "109                        Radotinib HCl 50 mg|Placebo   \n",
              "110  Cerebral Dopamine Neurotrophic Factor|Renishaw...   \n",
              "111  i.c.v. infusion of sNN0031 by an Implanted inf...   \n",
              "112                                    AZD0328|Placebo   \n",
              "113                       AADvac1 40 µg|AADvac1 160 µg   \n",
              "\n",
              "                                 InterventionOtherName  \\\n",
              "0                                                        \n",
              "1                                                        \n",
              "2                                                        \n",
              "3                                                        \n",
              "4                                                        \n",
              "..                                                 ...   \n",
              "109                                   Radotinib|IY5511   \n",
              "110                                           CDNF|DDS   \n",
              "111  rhPDGF-BB|Medtronic SynchroMed® II Infusion Sy...   \n",
              "112                                                      \n",
              "113                                                      \n",
              "\n",
              "                               InterventionDescription            Phase  \\\n",
              "0    Biomarker assay will be used to quantify level...                    \n",
              "1    Under local anesthesia with 1% xylocaine, 4-mm...                    \n",
              "2    Test of levels of total and ratio total:oligom...                    \n",
              "3    Gamma-synuclein salivary levels measured using...                    \n",
              "4                                                                         \n",
              "..                                                 ...              ...   \n",
              "109  Enrolled subject will continue to administer R...          Phase 2   \n",
              "110  Repeated intracerebral infusions|Stereotactica...  Phase 1|Phase 2   \n",
              "111  I.c.v. infusion during 2 12d cycles separated ...  Phase 1|Phase 2   \n",
              "112            Active study drug|Non-active study drug          Phase 2   \n",
              "113  Active immunotherapy against neurofibrillary p...          Phase 1   \n",
              "\n",
              "    StudyFirstSubmitDate LastUpdateSubmitDate     CompletionDate  \\\n",
              "0          July 10, 2019          May 3, 2022       June 1, 2023   \n",
              "1          June 17, 2011          May 1, 2021       October 2014   \n",
              "2           May 15, 2017        July 23, 2021      July 16, 2020   \n",
              "3       January 27, 2021     January 27, 2021  December 10, 2021   \n",
              "4     September 23, 2021   September 23, 2021  September 1, 2021   \n",
              "..                   ...                  ...                ...   \n",
              "109    December 16, 2020    February 13, 2022       May 31, 2025   \n",
              "110     October 11, 2018      August 11, 2020       July 8, 2020   \n",
              "111        March 5, 2015     January 26, 2016       October 2015   \n",
              "112       March 15, 2021       March 31, 2022         April 2024   \n",
              "113         May 29, 2017    November 13, 2019      November 2020   \n",
              "\n",
              "              OverallStatus  \\\n",
              "0    Active, not recruiting   \n",
              "1                 Completed   \n",
              "2                 Completed   \n",
              "3        Not yet recruiting   \n",
              "4                 Completed   \n",
              "..                      ...   \n",
              "109              Recruiting   \n",
              "110               Completed   \n",
              "111              Terminated   \n",
              "112      Not yet recruiting   \n",
              "113          Unknown status   \n",
              "\n",
              "                                          BriefSummary IsFDARegulatedDrug  \\\n",
              "0    This will be an observational study looking at...                 No   \n",
              "1    Parkinson's disease (PD) is a degenerative dis...                 No   \n",
              "2    The aim of this study is to determine whether ...                 No   \n",
              "3    Synucleins are a family of small, highly conse...                 No   \n",
              "4    The aim of the project is to develop the first...                 No   \n",
              "..                                                 ...                ...   \n",
              "109  This is a safety, tolerability, pharmacokineti...                 No   \n",
              "110  This study is an extension to the HP-CD-CL-200...                 No   \n",
              "111  This is a phase I, randomised, placebo-control...                      \n",
              "112  To test for the first time the potential of a ...                 No   \n",
              "113  This study is a pilot trial evaluating the saf...                 No   \n",
              "\n",
              "    IsFDARegulatedDevice  \n",
              "0                     No  \n",
              "1                     No  \n",
              "2                     No  \n",
              "3                     No  \n",
              "4                     No  \n",
              "..                   ...  \n",
              "109                   No  \n",
              "110                   No  \n",
              "111                       \n",
              "112                   No  \n",
              "113                   No  \n",
              "\n",
              "[114 rows x 19 columns]>"
            ]
          },
          "execution_count": 95,
          "metadata": {},
          "output_type": "execute_result"
        }
      ],
      "source": [
        "new_df.head"
      ]
    },
    {
      "cell_type": "code",
      "execution_count": 96,
      "metadata": {},
      "outputs": [
        {
          "name": "stdout",
          "output_type": "stream",
          "text": [
            "1-999 of 114\n"
          ]
        }
      ],
      "source": [
        "# count = 3000\n",
        "start = 0\n",
        "end = count\n",
        "iter = 999 #number of studies to get at a time ( limited to 1000 )\n",
        "\n",
        "from random import seed\n",
        "from random import random\n",
        "\n",
        "\n",
        "\n",
        "temp = pd.DataFrame()\n",
        "temp2 = pd.DataFrame()\n",
        "new_df2 = pd.DataFrame()\n",
        "\n",
        "\n",
        "for i in range(1, count, iter):\n",
        "    # print(temp)\n",
        "    temp = ct.get_study_fields(\n",
        "        search_expr=disease,\n",
        "        fields=[\"NCTId\",\"IsFDARegulatedDrug\",\"IsFDARegulatedDevice\", \"IsUnapprovedDevice\", \"PrimaryOutcomeDescription\",\"PrimaryOutcomeTimeFrame\", \"SecondaryOutcomeDescription\", \"SecondaryOutcomeTimeFrame\"\n",
        ",\"OtherOutcomeDescription\",\"OtherOutcomeTimeFrame\",\"EligibilityCriteria\",\"StudyPopulation\",\"HealthyVolunteers\", \"ReferencePMID\", \"LocationCity\", \"LocationState\" , \"LocationFacility\"],\n",
        "        max_studies=iter,\n",
        "        min_rnk=i,\n",
        "        fmt=\"csv\",)\n",
        "    # print(temp2[0])\n",
        "    iter2 = iter + (i-1)\n",
        "    print(str(i) + \"-\" + str(iter2) + \" of \" + str(count))\n",
        "    temp2 =  pd.DataFrame.from_records(temp[1:])\n",
        "    new_df2 = pd.concat([new_df2, temp2])\n",
        " \n"
      ]
    },
    {
      "cell_type": "code",
      "execution_count": 97,
      "metadata": {},
      "outputs": [],
      "source": [
        "new_df2.columns = [\"index\", \"NCTId\",\"IsFDARegulatedDrug\",\"IsFDARegulatedDevice\", \"IsUnapprovedDevice\",  \"PrimaryOutcomeDescription\",\"PrimaryOutcomeTimeFrame\", \"SecondaryOutcomeDescription\", \"SecondaryOutcomeTimeFrame\",\n",
        "\"OtherOutcomeDescription\",\"OtherOutcomeTimeFrame\",\"EligibilityCriteria\",\"StudyPopulation\",\"HealthyVolunteers\", \"ReferencePMID\", \"LocationCity\", \"LocationState\" , \"LocationFacility\"]"
      ]
    },
    {
      "cell_type": "code",
      "execution_count": 98,
      "metadata": {},
      "outputs": [
        {
          "data": {
            "text/plain": [
              "(114, 18)"
            ]
          },
          "execution_count": 98,
          "metadata": {},
          "output_type": "execute_result"
        }
      ],
      "source": [
        "new_df2.shape"
      ]
    },
    {
      "cell_type": "markdown",
      "metadata": {
        "id": "DQ1K9Cgd4xOC"
      },
      "source": [
        "##cleaning"
      ]
    },
    {
      "cell_type": "code",
      "execution_count": 99,
      "metadata": {},
      "outputs": [],
      "source": [
        "new_df.to_excel(r'Alpha-synuclein_data_raw_part_b.xlsx',  engine='openpyxl', index = False)"
      ]
    },
    {
      "cell_type": "code",
      "execution_count": 100,
      "metadata": {},
      "outputs": [],
      "source": [
        "# print(type(df1))"
      ]
    },
    {
      "cell_type": "markdown",
      "metadata": {},
      "source": []
    },
    {
      "cell_type": "code",
      "execution_count": 101,
      "metadata": {
        "id": "EF7TnjRu4X9G"
      },
      "outputs": [],
      "source": [
        "result = pd.merge(new_df, new_df2,  on='NCTId', how='left')"
      ]
    },
    {
      "cell_type": "code",
      "execution_count": 102,
      "metadata": {},
      "outputs": [
        {
          "data": {
            "text/plain": [
              "(114, 36)"
            ]
          },
          "execution_count": 102,
          "metadata": {},
          "output_type": "execute_result"
        }
      ],
      "source": [
        "result.shape"
      ]
    },
    {
      "cell_type": "markdown",
      "metadata": {},
      "source": [
        "IMPORTANT - this just drops the second index column - monitor or watch for mismatch or if you change the number of elements that are pulled from the first api"
      ]
    },
    {
      "cell_type": "code",
      "execution_count": 103,
      "metadata": {},
      "outputs": [],
      "source": [
        "result = result.drop(result.columns[[20]], axis=1)"
      ]
    },
    {
      "cell_type": "code",
      "execution_count": 104,
      "metadata": {
        "id": "phxa_Vqn5E5S"
      },
      "outputs": [
        {
          "data": {
            "text/plain": [
              "(114, 35)"
            ]
          },
          "execution_count": 104,
          "metadata": {},
          "output_type": "execute_result"
        }
      ],
      "source": [
        "result.shape"
      ]
    },
    {
      "cell_type": "markdown",
      "metadata": {},
      "source": [
        "Save file"
      ]
    },
    {
      "cell_type": "code",
      "execution_count": 105,
      "metadata": {},
      "outputs": [],
      "source": [
        "# writer = pd.ExcelWriter('test.xlsx')\n",
        "# # write dataframe to excel\n",
        "# result.to_excel(writer)\n",
        "# # save the excel\n",
        "# writer.save()\n",
        "# print('DataFrame is written successfully to Excel File.')"
      ]
    },
    {
      "cell_type": "code",
      "execution_count": 106,
      "metadata": {
        "id": "Dgre9uB-INsI"
      },
      "outputs": [],
      "source": [
        "result.to_excel(r'Parkinsonian_data_raw.xlsx',  engine='openpyxl', index = False)\n",
        "\n"
      ]
    },
    {
      "cell_type": "code",
      "execution_count": 107,
      "metadata": {},
      "outputs": [],
      "source": [
        "result.to_csv(r'Parkinsonian_data_raw.csv', index = False)"
      ]
    },
    {
      "cell_type": "code",
      "execution_count": 108,
      "metadata": {},
      "outputs": [],
      "source": [
        "# result.to_hdf('data_raw.h5', key='df', mode='w')  "
      ]
    },
    {
      "cell_type": "code",
      "execution_count": null,
      "metadata": {},
      "outputs": [],
      "source": []
    }
  ],
  "metadata": {
    "colab": {
      "collapsed_sections": [],
      "name": "HW2.ipynb",
      "provenance": []
    },
    "kernelspec": {
      "display_name": "Python 3.10.4 ('da622')",
      "language": "python",
      "name": "python3"
    },
    "language_info": {
      "codemirror_mode": {
        "name": "ipython",
        "version": 3
      },
      "file_extension": ".py",
      "mimetype": "text/x-python",
      "name": "python",
      "nbconvert_exporter": "python",
      "pygments_lexer": "ipython3",
      "version": "3.10.4"
    },
    "vscode": {
      "interpreter": {
        "hash": "df62669469e0c829d1be92d7cbf744ae4e816a6cbdfe4831b5e613d3386bb9e2"
      }
    }
  },
  "nbformat": 4,
  "nbformat_minor": 0
}
