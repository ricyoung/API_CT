{
  "cells": [
    {
      "cell_type": "markdown",
      "metadata": {
        "id": "Tid-wrNW11pW"
      },
      "source": [
        "# Load Depenency"
      ]
    },
    {
      "cell_type": "code",
      "execution_count": null,
      "metadata": {
        "id": "ACtufjx41sXQ"
      },
      "outputs": [],
      "source": [
        "#Cleaned up Crypto Example\n",
        "from os import system\n",
        "import pandas as pd\n",
        "import requests\n",
        "import datetime as dt\n",
        "from pytrials.client import ClinicalTrials\n",
        "import json\n",
        "import ipywidgets as widgets\n"
      ]
    },
    {
      "cell_type": "markdown",
      "metadata": {
        "id": "0oKv5xQg2hgJ"
      },
      "source": [
        "# Load Data"
      ]
    },
    {
      "cell_type": "markdown",
      "metadata": {},
      "source": [
        "https://clinicaltrials.gov/api/gui/ref/crosswalks"
      ]
    },
    {
      "cell_type": "markdown",
      "metadata": {},
      "source": [
        "Disease 2 search for"
      ]
    },
    {
      "cell_type": "code",
      "execution_count": null,
      "metadata": {},
      "outputs": [],
      "source": [
        "name=input()\n",
        "\n",
        "print(name)"
      ]
    },
    {
      "cell_type": "markdown",
      "metadata": {},
      "source": [
        "hit mesh some day"
      ]
    },
    {
      "cell_type": "code",
      "execution_count": null,
      "metadata": {
        "colab": {
          "base_uri": "https://localhost:8080/"
        },
        "id": "EnhcMRzm2zOQ",
        "outputId": "391e7565-dc90-41fc-c40e-ab2e3c4b7c9c"
      },
      "outputs": [],
      "source": [
        "# pd.DataFrame.from_records(ct_data[1:], columns=ct_data[0])"
      ]
    },
    {
      "cell_type": "markdown",
      "metadata": {},
      "source": [
        "Pull ONE"
      ]
    },
    {
      "cell_type": "markdown",
      "metadata": {
        "id": "h_DJC1iG4RSB"
      },
      "source": [
        "#Explore Data"
      ]
    },
    {
      "cell_type": "code",
      "execution_count": null,
      "metadata": {},
      "outputs": [],
      "source": [
        "#change this out to NAME\n",
        "\n",
        "ct = ClinicalTrials()\n",
        "infodf= (ct.get_full_studies(search_expr=\"Parkinson\", max_studies=5 ))\n"
      ]
    },
    {
      "cell_type": "code",
      "execution_count": null,
      "metadata": {},
      "outputs": [],
      "source": [
        "type(infodf)"
      ]
    },
    {
      "cell_type": "code",
      "execution_count": null,
      "metadata": {},
      "outputs": [],
      "source": [
        "number = print(infodf['FullStudiesResponse']['NStudiesFound'])"
      ]
    },
    {
      "cell_type": "markdown",
      "metadata": {},
      "source": [
        "'NStudiesFound': 3656,"
      ]
    },
    {
      "cell_type": "code",
      "execution_count": null,
      "metadata": {},
      "outputs": [],
      "source": [
        "pd.read_json(infodf)"
      ]
    },
    {
      "cell_type": "code",
      "execution_count": null,
      "metadata": {
        "id": "-o2YXU2v4Flm"
      },
      "outputs": [],
      "source": [
        "\n",
        "\n",
        "\n",
        "# Get the NCTId, Condition and Brief title fields from 500 studies related to Coronavirus and Covid, in csv format.\n",
        "api_pull_1 = ct.get_study_fields(\n",
        "    search_expr=\"Parkinson\",\n",
        "    fields=[\"NCTId\", \"Condition\", \"OfficialTitle\", \"BriefTitle\" , \"Acronym\" , \"StudyType\",\n",
        "    \"InterventionType\",\"InterventionName\",\"InterventionOtherName\",\"InterventionDescription\",\"Phase\" \n",
        "    ,\"StudyFirstSubmitDate\",\"LastUpdateSubmitDate\",\"CompletionDate\",\"OverallStatus\",\"IsFDARegulatedDrug\",\"IsFDARegulatedDevice\",\"BriefSummary\"],\n",
        "    max_studies=999,\n",
        "    fmt=\"csv\",\n",
        ")\n",
        "\n",
        "# ClinicalTrials limits API queries to 1000 records\n",
        "# Count of studies may be useful to build loops when you want to retrieve more than 1000 records\n",
        "\n",
        "ct.get_study_count(search_expr=\"Parkinson\")\n",
        "\n",
        "# Read the csv data in Pandas\n",
        "import pandas as pd\n",
        "\n",
        "df1=pd.DataFrame.from_records(api_pull_1[1:], columns=api_pull_1[0])\n",
        "\n",
        "# \n",
        "# df1 = pd.DataFrame.to_frame().reset_index()\n",
        "\n"
      ]
    },
    {
      "cell_type": "code",
      "execution_count": null,
      "metadata": {
        "colab": {
          "base_uri": "https://localhost:8080/"
        },
        "id": "dYsPomag4Vzm",
        "outputId": "e5468a7b-b50d-4b27-f898-46e1c87ee989"
      },
      "outputs": [],
      "source": [
        "api_pull_2 = ct.get_study_fields(\n",
        "    search_expr=\"Parkinson\",\n",
        "    fields=[\"NCTId\",\"IsFDARegulatedDrug\",\"IsFDARegulatedDevice\", \"IsUnapprovedDevice\", \"PrimaryOutcomeMeasure\", \"PrimaryOutcomeDescription\",\"PrimaryOutcomeTimeFrame\", \"SecondaryOutcomeMeasure\",\"SecondaryOutcomeDescription\", \"SecondaryOutcomeTimeFrame\",\"OtherOutcomeMeasure\"\n",
        ",\"OtherOutcomeDescription\",\"OtherOutcomeTimeFrame\",\"EligibilityCriteria\",\"StudyPopulation\",\"HealthyVolunteers\", \"ReferencePMID\", \"LocationCity\", \"LocationState\" , \"LocationFacility\"\n",
        "\n",
        "],\n",
        "    max_studies=999,\n",
        "    fmt=\"csv\",\n",
        ")\n",
        "\n",
        "# ClinicalTrials limits API queries to 1000 records\n",
        "# Count of studies may be useful to build loops when you want to retrieve more than 1000 records\n",
        "\n",
        "ct.get_study_count(search_expr=\"Parkinson\")\n",
        "\n",
        "# Read the csv data in Pandas\n",
        "import pandas as pd\n",
        "\n",
        "df2 = pd.DataFrame.from_records(api_pull_2[1:], columns=api_pull_2[0])"
      ]
    },
    {
      "cell_type": "markdown",
      "metadata": {
        "id": "DQ1K9Cgd4xOC"
      },
      "source": [
        "##cleaning"
      ]
    },
    {
      "cell_type": "code",
      "execution_count": null,
      "metadata": {},
      "outputs": [],
      "source": [
        "print(type(df1))"
      ]
    },
    {
      "cell_type": "markdown",
      "metadata": {},
      "source": []
    },
    {
      "cell_type": "code",
      "execution_count": null,
      "metadata": {
        "id": "EF7TnjRu4X9G"
      },
      "outputs": [],
      "source": [
        "result = pd.merge(df1, df2,  on='NCTId', how='outer')"
      ]
    },
    {
      "cell_type": "code",
      "execution_count": null,
      "metadata": {
        "id": "phxa_Vqn5E5S"
      },
      "outputs": [],
      "source": [
        "print(result)"
      ]
    },
    {
      "cell_type": "code",
      "execution_count": null,
      "metadata": {
        "id": "Dgre9uB-INsI"
      },
      "outputs": [],
      "source": []
    },
    {
      "cell_type": "code",
      "execution_count": null,
      "metadata": {
        "id": "tYTMexoGHvxN"
      },
      "outputs": [],
      "source": []
    },
    {
      "cell_type": "code",
      "execution_count": null,
      "metadata": {
        "colab": {
          "base_uri": "https://localhost:8080/"
        },
        "id": "LAqtYjoTICny",
        "outputId": "2f809d6a-4257-4ef1-b5f8-e601695a8d57"
      },
      "outputs": [],
      "source": []
    },
    {
      "cell_type": "code",
      "execution_count": null,
      "metadata": {
        "colab": {
          "base_uri": "https://localhost:8080/"
        },
        "id": "CJgWIlIm47Cc",
        "outputId": "2ca52a69-39fc-4489-9cef-d3cff0685215"
      },
      "outputs": [],
      "source": []
    },
    {
      "cell_type": "markdown",
      "metadata": {
        "id": "TR2Eqnj5DCBZ"
      },
      "source": [
        "#Next let's drop the first row (SNo)\n",
        "\n",
        "## not need to drop SNO - will drop later - just moved the mask df to a new name"
      ]
    }
  ],
  "metadata": {
    "colab": {
      "collapsed_sections": [],
      "name": "HW2.ipynb",
      "provenance": []
    },
    "kernelspec": {
      "display_name": "Python 3",
      "name": "python3"
    },
    "language_info": {
      "codemirror_mode": {
        "name": "ipython",
        "version": 3
      },
      "file_extension": ".py",
      "mimetype": "text/x-python",
      "name": "python",
      "nbconvert_exporter": "python",
      "pygments_lexer": "ipython3",
      "version": "3.10.4"
    }
  },
  "nbformat": 4,
  "nbformat_minor": 0
}
